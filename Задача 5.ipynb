{
 "cells": [
  {
   "cell_type": "code",
   "execution_count": 1,
   "id": "7458e8c0",
   "metadata": {},
   "outputs": [],
   "source": [
    "# Самостоятельно найти сайт, соответствующий следующим условиям:\n",
    "# непопулярный, регионального уровня или из узкой области (с целью избежать дублирования)\n",
    "# наличие страниц-каталогов, где есть информация сразу по нескольких объектам\n",
    "# наличие страниц, посвященных отдельному объекту\n",
    " \n",
    "# Необходимо:\n",
    "# спарсить нескольких страниц (минимум 10), посвященных только одному объекту;\n",
    "# спарсить страницы-каталоги, где размещена информация сразу по нескольким объектам.\n",
    "# Данные можно скачать и сохранить локально в виде html, \n",
    "# а можно организовать их получение напрямую через обращение к серверу сайта.\n",
    "# Результаты парсинга собрать отдельно по каждой подзадаче и записать в отдельный json.\n",
    "# Выполните произвольные операции с данными:\n",
    "# отсортируйте значения по одному из доступных полей\n",
    "# выполните фильтрацию по другому полю (запишите результат отдельно)\n",
    "# для одного выбранного числового поля посчитайте показатели статистики\n",
    "# для одного текстового поля посчитайте частоту меток."
   ]
  },
  {
   "cell_type": "code",
   "execution_count": 12,
   "id": "be06cc23",
   "metadata": {},
   "outputs": [],
   "source": [
    "# https://belleyou.ru\n",
    "\n",
    "import requests as req\n",
    "from bs4 import BeautifulSoup\n",
    "import re\n",
    "import json\n",
    "import math\n",
    "import collections\n",
    "import pandas as pd\n",
    "import numpy as np\n",
    "import os"
   ]
  },
  {
   "cell_type": "code",
   "execution_count": 13,
   "id": "af9e6ddb",
   "metadata": {},
   "outputs": [],
   "source": [
    "url = \"https://belleyou.ru\""
   ]
  },
  {
   "cell_type": "code",
   "execution_count": 14,
   "id": "ca6d667c",
   "metadata": {},
   "outputs": [],
   "source": [
    "url_odejda = f\"{url}/catalog/odezhda/\"  # url_antib = f\"{url_main}/catalog/antibiotiki/\"\n",
    "suburl_odejda_br = \"bryuki/\"  # suburl_antib_inj = \"inekcionnye/\"\n",
    "suburl_odejda = [suburl_odejda_br]  # suburl_antib = [suburl_antib_inj] "
   ]
  },
  {
   "cell_type": "code",
   "execution_count": 15,
   "id": "637240b2",
   "metadata": {},
   "outputs": [],
   "source": [
    "z_numb = 5\n",
    "file_path = 'tests/' + str(z_numb)\n",
    "filename = file_path + '/'"
   ]
  },
  {
   "cell_type": "code",
   "execution_count": 16,
   "id": "f226eac4",
   "metadata": {},
   "outputs": [],
   "source": [
    "json_out_filename = f\"{file_path}/\""
   ]
  },
  {
   "cell_type": "code",
   "execution_count": 17,
   "id": "b8a304f5",
   "metadata": {},
   "outputs": [],
   "source": [
    "bld_name_freq = {}\n",
    "new_info = []\n",
    "pl = []"
   ]
  },
  {
   "cell_type": "code",
   "execution_count": 18,
   "id": "49c841fd",
   "metadata": {},
   "outputs": [],
   "source": [
    "odezhda_name_freq = {} # antib_name_freq = {}\n",
    "odezhda_info = [] # antib_info = []\n",
    "odezhda_pl = [] # antib_pl = []"
   ]
  },
  {
   "cell_type": "code",
   "execution_count": 19,
   "id": "e2721213",
   "metadata": {},
   "outputs": [],
   "source": [
    "odezhda_country_freq = {} # antib_country_freq = {}"
   ]
  },
  {
   "cell_type": "code",
   "execution_count": 20,
   "id": "eb22b565",
   "metadata": {},
   "outputs": [],
   "source": [
    "# Определяем функцию, которая добавляет элемент в словарь.\n",
    "\n",
    "def add_to_dict(m, fdict):\n",
    "    m = m.lower()\n",
    "    if m in fdict:\n",
    "        fdict[m] += 1\n",
    "    else:\n",
    "        fdict.setdefault(m, 1)"
   ]
  },
  {
   "cell_type": "code",
   "execution_count": 23,
   "id": "f96fe46a",
   "metadata": {},
   "outputs": [],
   "source": [
    "# Определяем функцию, которая отправляет запрос по указанному URL-адресу и сохраняет ответ в виде HTML-файла. \n",
    "# Если код состояния не равен 200, вместо этого он пытается прочитать файл из локального каталога.\n",
    "\n",
    "def get_html_file(url, purl):\n",
    "    url_get = url + purl\n",
    "    print(\"request to : \", url_get)\n",
    "    resp = req.get(url_get)\n",
    "    html_filename = f\"dl/{purl.split('/')[-2]}.html\"\n",
    "    # print(html_filename)\n",
    "    if resp.status_code != 200:\n",
    "        with open(f\"{file_path}/{html_filename}\", mode=\"r\") as html_f:\n",
    "            resp = html_f.readlines()\n",
    "        return \"\".join(resp)\n",
    "    else:\n",
    "        dl_dir = file_path + \"/dl\"\n",
    "        if not os.path.exists(dl_dir):\n",
    "            os.mkdir(dl_dir)\n",
    "        if not os.path.exists(html_filename):\n",
    "            with open(f\"{file_path}/{html_filename}\", mode = \"w\") as html_f:\n",
    "                html_f.write(resp.text)\n",
    "    return resp.text"
   ]
  },
  {
   "cell_type": "code",
   "execution_count": null,
   "id": "3745828f",
   "metadata": {},
   "outputs": [],
   "source": [
    "for curl in suburl_odejda:\n",
    "    resp = get_html_file(url_odejda, curl)\n",
    "    soup = BeautifulSoup(resp, 'html.parser')\n",
    "    content = soup.find_all(\"div\", {\"class\" : \"catalog_item col-12 col-md-5 col-lg-3\"})\n",
    "    for cv in content:\n",
    "        item = {}\n",
    "        link = cv.find('a', {\"class\" : \"art\"})\n",
    "        href = link.get('href')\n",
    "        p_name = cv.find(\"p\", {\"class\" : \"name\"})\n",
    "        page = get_html_file(url_main, href)\n",
    "        item['url'] = href\n",
    "        item['name'] = p_name.text\n",
    "        ps = BeautifulSoup(page, 'html.parser')\n",
    "        discr = ps.find(\"div\", {\"class\" : \"col-12 col-md-7 product_page_description\"})\n",
    "        p_manuf = discr.find(\"p\", {\"class\" : \"manufacturer\"})\n",
    "        p_ishere = discr.find(\"p\", {\"class\" : \"is_here\"})\n",
    "        mname = \" \".join(p_manuf.text.split()[1:])\n",
    "        item['manufacturer'] = mname\n",
    "        add_to_dict(mname, antib_name_freq)       \n",
    "        count = 0\n",
    "        if p_ishere:\n",
    "            count = int(p_ishere.text.split()[1].replace(\".\", \"\"))\n",
    "        item['count'] = count\n",
    "        p_price = discr.find(\"span\", {\"class\" : \"price\"})\n",
    "        item['price'] = int(p_price.text.replace(\" \", \"\")[0:-1])\n",
    "        antib_pl.append(item['price'])\n",
    "        tab_content = ps.find(\"div\", {\"class\" : \"tab-content\"})\n",
    "        t_features = tab_content.find(\"div\", {\"class\" : \"features\"})\n",
    "        span_li = iter(t_features.find_all(\"span\"))\n",
    "        item['features'] = {}\n",
    "        item['features']['type'] = next(span_li).text\n",
    "        item['features']['country'] = next(span_li).text\n",
    "        add_to_dict(item['features']['country'], antib_country_freq)    \n",
    "        item['features']['weight'] = next(span_li).text        \n",
    "        f_count = 0\n",
    "        try:\n",
    "            f_count = int(next(span_li).text.replace(\".\", \"\"))\n",
    "        except:\n",
    "            pass            \n",
    "        item['features']['count'] = f_count\n",
    "        antib_info.append(item)"
   ]
  }
 ],
 "metadata": {
  "kernelspec": {
   "display_name": "Python 3 (ipykernel)",
   "language": "python",
   "name": "python3"
  },
  "language_info": {
   "codemirror_mode": {
    "name": "ipython",
    "version": 3
   },
   "file_extension": ".py",
   "mimetype": "text/x-python",
   "name": "python",
   "nbconvert_exporter": "python",
   "pygments_lexer": "ipython3",
   "version": "3.9.7"
  }
 },
 "nbformat": 4,
 "nbformat_minor": 5
}
