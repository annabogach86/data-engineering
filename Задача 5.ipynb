{
 "cells": [
  {
   "cell_type": "code",
   "execution_count": null,
   "id": "9fa20fd7",
   "metadata": {},
   "outputs": [],
   "source": [
    "# Считайте фрагмент html из файла согласно варианту. \n",
    "# Извлеките данные из таблицы html. \n",
    "# Запишите полученный csv файл."
   ]
  },
  {
   "cell_type": "code",
   "execution_count": 4,
   "id": "13223449",
   "metadata": {},
   "outputs": [],
   "source": [
    "from bs4 import BeautifulSoup\n",
    "import csv\n",
    "filename = \"text_5_var_17\"\n",
    "\n",
    "new_list = list()\n",
    "with open('text_5_var_17', encoding='utf-8') as file:\n",
    "    data = file.readlines()\n",
    "    html = ''\n",
    "    for line in data:\n",
    "        html +=line\n",
    "\n",
    "    soup = BeautifulSoup(html, 'html.parser')\n",
    "    all_content = soup.find_all('tr')\n",
    "    all_content = all_content[1:]\n",
    "    for j in all_content:\n",
    "        row = j.find_all('td')\n",
    "        item = {\n",
    "            'Company': row[0].text,\n",
    "            'Contact': row[1].text,\n",
    "            'Country': row[2].text,\n",
    "            'Price': row[3].text,\n",
    "            'Item': row[4].text,\n",
    "        }\n",
    "        new_list.append(item)\n",
    "\n",
    "with open(filename+\"result\",'w', encoding='utf-8', newline='') as results:\n",
    "    writer = csv.writer(results, delimiter=',', quoting=csv.QUOTE_MINIMAL)\n",
    "    for item in new_list:\n",
    "        writer.writerow(item.values())"
   ]
  },
  {
   "cell_type": "code",
   "execution_count": null,
   "id": "677f6f30",
   "metadata": {},
   "outputs": [],
   "source": []
  },
  {
   "cell_type": "code",
   "execution_count": null,
   "id": "99ee244a",
   "metadata": {},
   "outputs": [],
   "source": []
  }
 ],
 "metadata": {
  "kernelspec": {
   "display_name": "Python 3 (ipykernel)",
   "language": "python",
   "name": "python3"
  },
  "language_info": {
   "codemirror_mode": {
    "name": "ipython",
    "version": 3
   },
   "file_extension": ".py",
   "mimetype": "text/x-python",
   "name": "python",
   "nbconvert_exporter": "python",
   "pygments_lexer": "ipython3",
   "version": "3.9.7"
  }
 },
 "nbformat": 4,
 "nbformat_minor": 5
}
