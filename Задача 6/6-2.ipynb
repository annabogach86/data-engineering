{
 "cells": [
  {
   "cell_type": "code",
   "execution_count": 11,
   "id": "b95ea9a2",
   "metadata": {},
   "outputs": [],
   "source": [
    "import json\n",
    "from bs4 import BeautifulSoup\n",
    "temp_file = dict()\n",
    "with open(\"wb.json\") as js:\n",
    "     valid_js = js.read().replace(\"\\'\", \"\\\"\")\n",
    "     temp_file = json.loads(valid_js)\n",
    "\n",
    "soup = BeautifulSoup(features=\"html.parser\")\n",
    "table = soup.new_tag(\"table\")\n",
    "tr = soup.new_tag(\"tr\")\n",
    "for key, val in temp_file[0].items():\n",
    "     th = soup.new_tag(\"th\")\n",
    "     th.string = key\n",
    "     tr.append(th)\n",
    "table.append(tr)\n",
    "\n",
    "\n",
    "for tick in temp_file:\n",
    "     tr = soup.new_tag(\"tr\")\n",
    "     for key, val in tick.items():\n",
    "          td = soup.new_tag(\"td\")\n",
    "          td.string = val\n",
    "          tr.append(td)\n",
    "     table.append(tr)\n",
    "\n",
    "soup.append(table)\n",
    "with open('text_6_var_17result-1.html', 'w') as result:\n",
    "     result.write(soup.prettify())\n",
    "     result.write(\"\\n\")"
   ]
  },
  {
   "cell_type": "code",
   "execution_count": null,
   "id": "d2bb6524",
   "metadata": {},
   "outputs": [],
   "source": []
  }
 ],
 "metadata": {
  "kernelspec": {
   "display_name": "Python 3 (ipykernel)",
   "language": "python",
   "name": "python3"
  },
  "language_info": {
   "codemirror_mode": {
    "name": "ipython",
    "version": 3
   },
   "file_extension": ".py",
   "mimetype": "text/x-python",
   "name": "python",
   "nbconvert_exporter": "python",
   "pygments_lexer": "ipython3",
   "version": "3.9.7"
  }
 },
 "nbformat": 4,
 "nbformat_minor": 5
}
