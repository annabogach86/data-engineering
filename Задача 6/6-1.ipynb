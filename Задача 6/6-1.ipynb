{
 "cells": [
  {
   "cell_type": "code",
   "execution_count": null,
   "id": "284d6aba",
   "metadata": {},
   "outputs": [],
   "source": [
    "# Найти публичный API, который возвращает JSON с некоторыми данными. \n",
    "# Необходимо получить данные в формате JSON, преобразовать в html представление в зависимости от содержания."
   ]
  },
  {
   "cell_type": "code",
   "execution_count": 95,
   "id": "b889e185",
   "metadata": {},
   "outputs": [],
   "source": [
    "import json\n",
    "import requests\n",
    "from bs4 import BeautifulSoup"
   ]
  },
  {
   "cell_type": "code",
   "execution_count": 96,
   "id": "64eeb637",
   "metadata": {},
   "outputs": [],
   "source": [
    "url = \"https://www.wildberries.ru/manifestv2.json\""
   ]
  },
  {
   "cell_type": "code",
   "execution_count": 97,
   "id": "1141950b",
   "metadata": {},
   "outputs": [],
   "source": [
    "res = requests.get(url=url, params=params)\n",
    "if res.status_code == requests.codes.ok:\n",
    "    # Код, который выполняется после успешного получения данных\n",
    "    data = res.json()"
   ]
  },
  {
   "cell_type": "code",
   "execution_count": 98,
   "id": "d3c5e33c",
   "metadata": {},
   "outputs": [],
   "source": [
    "data = json.loads(res.text)"
   ]
  },
  {
   "cell_type": "code",
   "execution_count": 99,
   "id": "720edb4b",
   "metadata": {},
   "outputs": [],
   "source": [
    "soup = BeautifulSoup(\"\"\"<table>\n",
    "    <tr>\n",
    "        <th>src</th>\n",
    "        <th>type</th>\n",
    "        <th>sizes</th>\n",
    "        <th>density<th>\n",
    "    </tr>\n",
    "</table>\"\"\", \"html.parser\")"
   ]
  },
  {
   "cell_type": "code",
   "execution_count": 100,
   "id": "01317256",
   "metadata": {},
   "outputs": [],
   "source": [
    "table = soup.contents[0]"
   ]
  },
  {
   "cell_type": "code",
   "execution_count": 101,
   "id": "b5e26190",
   "metadata": {},
   "outputs": [],
   "source": [
    "for tick in data[\"icons\"]:\n",
    "    tr = soup.new_tag(\"tr\")\n",
    "    for key, val in tick.items():\n",
    "        td = soup.new_tag(\"td\")\n",
    "        td.string = key\n",
    "        tr.append(td)\n",
    "        if val is None:\n",
    "            td.string = \"\"\n",
    "        else:\n",
    "            td.string = val\n",
    "        tr.append(td)\n",
    "    table.append(tr)"
   ]
  },
  {
   "cell_type": "code",
   "execution_count": 103,
   "id": "e661a756",
   "metadata": {},
   "outputs": [],
   "source": [
    "with open(\"text_6_var_17result-2.html\", \"w\") as result:\n",
    "    result.write(soup.prettify())\n",
    "    result.write(\"\\n\")"
   ]
  }
 ],
 "metadata": {
  "kernelspec": {
   "display_name": "Python 3 (ipykernel)",
   "language": "python",
   "name": "python3"
  },
  "language_info": {
   "codemirror_mode": {
    "name": "ipython",
    "version": 3
   },
   "file_extension": ".py",
   "mimetype": "text/x-python",
   "name": "python",
   "nbconvert_exporter": "python",
   "pygments_lexer": "ipython3",
   "version": "3.9.7"
  }
 },
 "nbformat": 4,
 "nbformat_minor": 5
}
