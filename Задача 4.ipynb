{
 "cells": [
  {
   "cell_type": "code",
   "execution_count": null,
   "id": "55667487",
   "metadata": {},
   "outputs": [],
   "source": [
    "# Считайте csv файл согласно вашему варианту. \n",
    "# Структура файла имеет следующий вид по колонкам в порядке их следования: \n",
    "# порядковый номер, имя, фамилия, возраст, доход, номер телефона.\n",
    "\n",
    "# Необходимо выполнить следующие действия:\n",
    "# 1)\tУдалить колонку с номером телефона\n",
    "# 2)\tРассчитайте средний доход по данным, а затем отфильтруйте те строки, доход которых меньше среднего.\n",
    "# 3)\tТакже примените фильтр по колонке возраст, оставив строки со значением более 25 + (вариант mod10).\n",
    "\n",
    "# Запишите полученные результаты в новый файл csv, произведя при этом сортировку по полю номер (по возрастанию):\n",
    "      # заголовок для примера\n",
    "      # id,name,age,salary\n",
    "      # 1, Connor John, 25, 1000₽"
   ]
  },
  {
   "cell_type": "code",
   "execution_count": 1,
   "id": "85604f3a",
   "metadata": {},
   "outputs": [],
   "source": [
    "import csv"
   ]
  },
  {
   "cell_type": "code",
   "execution_count": 32,
   "id": "9885fdef",
   "metadata": {},
   "outputs": [
    {
     "name": "stdout",
     "output_type": "stream",
     "text": [
      "[{'id': 6, 'name': 'Волкова Матвей', 'age': 50, 'salary': 63726}, {'id': 11, 'name': 'Жуков Маргарита', 'age': 51, 'salary': 87881}, {'id': 13, 'name': 'Петрова Антон', 'age': 76, 'salary': 85334}, {'id': 15, 'name': 'Дьяконов Элина', 'age': 60, 'salary': 80122}, {'id': 17, 'name': 'Антонов Николь', 'age': 63, 'salary': 74570}, {'id': 18, 'name': 'Родионова Элина', 'age': 48, 'salary': 92841}, {'id': 19, 'name': 'Лазарев Оливия', 'age': 41, 'salary': 54938}, {'id': 20, 'name': 'Попова Матвей', 'age': 71, 'salary': 96864}, {'id': 24, 'name': 'Синицын Кирилл', 'age': 63, 'salary': 55887}, {'id': 26, 'name': 'Прохорова Амина', 'age': 72, 'salary': 99726}, {'id': 28, 'name': 'Игнатьев Илья', 'age': 36, 'salary': 56041}, {'id': 29, 'name': 'Демидов Константин', 'age': 51, 'salary': 90152}, {'id': 34, 'name': 'Максимов Антон', 'age': 54, 'salary': 78881}, {'id': 35, 'name': 'Дмитриев Макар', 'age': 47, 'salary': 88370}, {'id': 41, 'name': 'Панова Алексей', 'age': 60, 'salary': 98224}, {'id': 42, 'name': 'Синицын Анна', 'age': 66, 'salary': 78071}, {'id': 46, 'name': 'Орлов Ника', 'age': 61, 'salary': 84174}, {'id': 49, 'name': 'Степанов Даниил', 'age': 38, 'salary': 64336}, {'id': 50, 'name': 'Дмитриева Ульяна', 'age': 62, 'salary': 59797}, {'id': 53, 'name': 'Косарев Кристина', 'age': 49, 'salary': 65587}, {'id': 56, 'name': 'Муравьев Глеб', 'age': 75, 'salary': 88127}, {'id': 57, 'name': 'Емельянов Алексей', 'age': 35, 'salary': 59706}, {'id': 61, 'name': 'Михайлов Наталья', 'age': 49, 'salary': 94667}, {'id': 64, 'name': 'Кулешова Полина', 'age': 39, 'salary': 78388}, {'id': 65, 'name': 'Тихонова Каролина', 'age': 69, 'salary': 63102}, {'id': 72, 'name': 'Фролов Алия', 'age': 64, 'salary': 59818}, {'id': 74, 'name': 'Григорьев Роберт', 'age': 41, 'salary': 98232}, {'id': 77, 'name': 'Петров Есения', 'age': 56, 'salary': 61141}, {'id': 80, 'name': 'Кузнецов Элина', 'age': 49, 'salary': 63759}, {'id': 81, 'name': 'Фирсов Вячеслав', 'age': 60, 'salary': 81678}, {'id': 82, 'name': 'Ефимова Ангелина', 'age': 67, 'salary': 81790}]\n"
     ]
    }
   ],
   "source": [
    "filename = \"text_4_var_17\"\n",
    "\n",
    "summa = 0\n",
    "new_list = []\n",
    "\n",
    "with open('text_4_var_17', newline='\\n', encoding='utf-8') as f:\n",
    "    data = csv.reader(f, delimiter=',')\n",
    "    \n",
    "    # убираем колонку с номером телефона\n",
    "    for i in data:\n",
    "        dict = {\n",
    "            \"id\": int(i[0]),\n",
    "            \"name\": i[2] + ' ' + i[1],\n",
    "            \"age\": int(i[3]),\n",
    "            \"salary\": int(i[4][:-1])\n",
    "        }\n",
    "        \n",
    "        # сумма всего дохода\n",
    "        summa += dict[\"salary\"]\n",
    "        new_list.append(dict)\n",
    "    avage = summa/len(new_list)\n",
    "    \n",
    "    # фильтр по доходу ниже среднего и по возрасту 25 + (17mod10)\n",
    "    filtr_list = []\n",
    "    filtr_age = 25 + (17 % 10)\n",
    "    for j in new_list:\n",
    "        if j['salary'] >= avage and j['age'] > filtr_age:\n",
    "            filtr_list.append(j)\n",
    "            \n",
    "# фильтруем по возрастанию полученные данные\n",
    "finish_resulte = sorted(filtr_list, key = lambda x:x['id'])\n",
    "print(finish_resulte)"
   ]
  },
  {
   "cell_type": "code",
   "execution_count": 28,
   "id": "e18b12f3",
   "metadata": {},
   "outputs": [],
   "source": [
    "with open(filename+\"result\", 'w', newline='', encoding='utf-8') as f:\n",
    "    writer = csv.writer(f, delimiter=',', quoting=csv.QUOTE_MINIMAL)\n",
    "\n",
    "    for k in finish_resulte:\n",
    "        writer.writerow(k.values())"
   ]
  }
 ],
 "metadata": {
  "kernelspec": {
   "display_name": "Python 3 (ipykernel)",
   "language": "python",
   "name": "python3"
  },
  "language_info": {
   "codemirror_mode": {
    "name": "ipython",
    "version": 3
   },
   "file_extension": ".py",
   "mimetype": "text/x-python",
   "name": "python",
   "nbconvert_exporter": "python",
   "pygments_lexer": "ipython3",
   "version": "3.9.7"
  }
 },
 "nbformat": 4,
 "nbformat_minor": 5
}
