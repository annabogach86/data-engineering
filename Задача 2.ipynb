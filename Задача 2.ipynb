{
 "cells": [
  {
   "cell_type": "code",
   "execution_count": 1,
   "id": "d3db8bcf",
   "metadata": {},
   "outputs": [],
   "source": [
    "# Считайте файл согласно вашему варианту и подсчитайте среднее арифметическое чисел по каждой строке. \n",
    "# В результирующем файле выведите полученные данные:\n",
    "\n",
    "\n",
    "# average1\n",
    "# average2\n",
    "# average3\n",
    "# -----------\n",
    "# averageN\n"
   ]
  },
  {
   "cell_type": "code",
   "execution_count": 7,
   "id": "acef259b",
   "metadata": {},
   "outputs": [
    {
     "name": "stdout",
     "output_type": "stream",
     "text": [
      "[81691899, -175346216, -90170327, -42993726, 255348223, 46794686, -17965310, 51303427, -236141619, -31799427, -39739111, -28601432, -107570191, -18591511, 431831658, 279454598, 131896342, 196724133, 190333043, 69986173, 120908053, -80564389, -57789889, 283435167, -77846583, -272244788, -124268281, 83090610, 165040934, -10183432, 176750376, -95879028, 427782613, -212825082, 4744410, -55489705, 82347719, -95728039, -204713299, -38770152, -66686256, 514403571, 91597206, 139644631, 53186947, -139744469, 66724550, -267273592, 267793136, -257021480, -50579808, -137653709, -284931229, 144782638, 96189331, -163835910]\n"
     ]
    }
   ],
   "source": [
    "filename = \"text_2_var_17\"\n",
    "\n",
    "with open('text_2_var_17') as f:\n",
    "    lines = f.readlines()\n",
    "    \n",
    "sum_lines = []\n",
    "\n",
    "for i in lines:\n",
    "        nums = i.split(\".\")\n",
    "        avage = 0\n",
    "        sum_line = 0\n",
    "        for j in nums:\n",
    "            sum_line += int(j)\n",
    "            avage = sum_line // len(nums)\n",
    "        sum_lines.append(avage)\n",
    "print(sum_lines)\n",
    "\n",
    "with open(filename+\"result\", 'w') as f:\n",
    "    for k in sum_lines:\n",
    "        f.write(str(k) + '\\n')"
   ]
  }
 ],
 "metadata": {
  "kernelspec": {
   "display_name": "Python 3 (ipykernel)",
   "language": "python",
   "name": "python3"
  },
  "language_info": {
   "codemirror_mode": {
    "name": "ipython",
    "version": 3
   },
   "file_extension": ".py",
   "mimetype": "text/x-python",
   "name": "python",
   "nbconvert_exporter": "python",
   "pygments_lexer": "ipython3",
   "version": "3.9.7"
  }
 },
 "nbformat": 4,
 "nbformat_minor": 5
}
