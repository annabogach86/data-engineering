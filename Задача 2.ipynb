{
 "cells": [
  {
   "cell_type": "code",
   "execution_count": 20,
   "id": "0ce40138",
   "metadata": {},
   "outputs": [],
   "source": [
    "import json\n",
    "import pandas as pd\n",
    "import matplotlib.pyplot as plt\n",
    "import numpy as np\n",
    "import os"
   ]
  },
  {
   "cell_type": "code",
   "execution_count": 42,
   "id": "d24871de",
   "metadata": {},
   "outputs": [
    {
     "name": "stdout",
     "output_type": "stream",
     "text": [
      "index: 0, cum_size = 0\n",
      "(500000, 10)\n",
      "(500000, 10)\n",
      "index: 1, cum_size = 123805762\n",
      "(500000, 10)\n",
      "(500000, 10)\n",
      "index: 2, cum_size = 247297775\n",
      "(500000, 10)\n",
      "(500000, 10)\n",
      "index: 3, cum_size = 370966117\n",
      "(500000, 10)\n",
      "(500000, 10)\n",
      "index: 4, cum_size = 494672684\n",
      "(500000, 10)\n",
      "(500000, 10)\n",
      "index: 5, cum_size = 618453042\n",
      "(500000, 10)\n",
      "(500000, 10)\n",
      "index: 6, cum_size = 742216581\n",
      "(500000, 10)\n",
      "(500000, 10)\n",
      "index: 7, cum_size = 866116921\n",
      "(500000, 10)\n",
      "(500000, 10)\n",
      "index: 8, cum_size = 990300237\n",
      "(500000, 10)\n",
      "(500000, 10)\n",
      "index: 9, cum_size = 1114144735\n",
      "(500000, 10)\n",
      "(500000, 10)\n",
      "index: 10, cum_size = 1237906911\n",
      "(500000, 10)\n",
      "(500000, 10)\n",
      "index: 11, cum_size = 1361643510\n",
      "(195015, 10)\n",
      "(195015, 10)\n",
      "1409797587\n"
     ]
    }
   ],
   "source": [
    "file_name_full = \"Data/[2]automotive.csv.zip\"\n",
    "\n",
    "colomn_dtype = {\n",
    "    \"firstSeen\": object,\n",
    "    \"brandName\": object,\n",
    "    \"modelName\": object,\n",
    "    \"askPrice\": pd.Int64Dtype(),\n",
    "    \"isNew\": \"bool\",\n",
    "    \"vf_Wheels\": pd.Int64Dtype(),\n",
    "    \"vf_Seats\": pd.Int64Dtype(),\n",
    "    \"vf_Windows\": pd.Int64Dtype(),\n",
    "    \"vf_WheelSizeRear\": pd.Int64Dtype(),\n",
    "    \"vf_WheelBaseShort\": \"float64\"\n",
    "}\n",
    "\n",
    "total_size = 0\n",
    "index = 0 \n",
    "has_header = True\n",
    "for part in pd.read_csv(file_name_full, \n",
    "                           usecols=lambda x: x in colomn_dtype.keys(),\n",
    "                           dtype=colomn_dtype,\n",
    "                           chunksize=500_000, \n",
    "                           compression='zip',\n",
    "                           na_values=['NA']):\n",
    "    print(f\"index: {index}, cum_size = {total_size}\")\n",
    "    index = index + 1\n",
    "    total_size = total_size + part.memory_usage(deep=True).sum()\n",
    "    print(part.shape)\n",
    "    part.dropna().to_csv(\"df_2.csv\", mode='a', header=has_header)\n",
    "    has_header = False\n",
    "    print(part.shape)\n",
    "    \n",
    "print(total_size)"
   ]
  },
  {
   "cell_type": "code",
   "execution_count": 43,
   "id": "2f13d169",
   "metadata": {},
   "outputs": [],
   "source": [
    "pd.set_option(\"display.max_rows\", 20, \"display.max_columns\", 60)"
   ]
  },
  {
   "cell_type": "code",
   "execution_count": 44,
   "id": "db6c1bd8",
   "metadata": {},
   "outputs": [],
   "source": [
    "def read_file(file_name):\n",
    "    return pd.read_csv(file_name)\n",
    "    # для заархивированных файлов\n",
    "    #return next(pd.read_csv(file_name, chunksize=100_000, compression='gzip'))"
   ]
  },
  {
   "cell_type": "code",
   "execution_count": 45,
   "id": "926eba76",
   "metadata": {},
   "outputs": [
    {
     "name": "stderr",
     "output_type": "stream",
     "text": [
      "C:\\Users\\73B5~1\\AppData\\Local\\Temp/ipykernel_1884/2304502004.py:2: DtypeWarning: Columns (2,3,6,7,8,9,10) have mixed types.Specify dtype option on import or set low_memory=False.\n",
      "  read_file(file_name)\n"
     ]
    },
    {
     "data": {
      "text/html": [
       "<div>\n",
       "<style scoped>\n",
       "    .dataframe tbody tr th:only-of-type {\n",
       "        vertical-align: middle;\n",
       "    }\n",
       "\n",
       "    .dataframe tbody tr th {\n",
       "        vertical-align: top;\n",
       "    }\n",
       "\n",
       "    .dataframe thead th {\n",
       "        text-align: right;\n",
       "    }\n",
       "</style>\n",
       "<table border=\"1\" class=\"dataframe\">\n",
       "  <thead>\n",
       "    <tr style=\"text-align: right;\">\n",
       "      <th></th>\n",
       "      <th>Unnamed: 0</th>\n",
       "      <th>firstSeen</th>\n",
       "      <th>askPrice</th>\n",
       "      <th>isNew</th>\n",
       "      <th>brandName</th>\n",
       "      <th>modelName</th>\n",
       "      <th>vf_Seats</th>\n",
       "      <th>vf_WheelBaseShort</th>\n",
       "      <th>vf_WheelSizeRear</th>\n",
       "      <th>vf_Wheels</th>\n",
       "      <th>vf_Windows</th>\n",
       "    </tr>\n",
       "  </thead>\n",
       "  <tbody>\n",
       "    <tr>\n",
       "      <th>0</th>\n",
       "      <td>3.0</td>\n",
       "      <td>2019-05-06</td>\n",
       "      <td>12387</td>\n",
       "      <td>False</td>\n",
       "      <td>CHEVROLET</td>\n",
       "      <td>Cruze</td>\n",
       "      <td>5</td>\n",
       "      <td>106.3</td>\n",
       "      <td>17</td>\n",
       "      <td>4</td>\n",
       "      <td>4</td>\n",
       "    </tr>\n",
       "    <tr>\n",
       "      <th>1</th>\n",
       "      <td>20.0</td>\n",
       "      <td>2019-05-07</td>\n",
       "      <td>16671</td>\n",
       "      <td>False</td>\n",
       "      <td>CHEVROLET</td>\n",
       "      <td>Impala</td>\n",
       "      <td>5</td>\n",
       "      <td>111.7</td>\n",
       "      <td>18</td>\n",
       "      <td>4</td>\n",
       "      <td>4</td>\n",
       "    </tr>\n",
       "    <tr>\n",
       "      <th>2</th>\n",
       "      <td>43.0</td>\n",
       "      <td>2019-05-07</td>\n",
       "      <td>12959</td>\n",
       "      <td>False</td>\n",
       "      <td>CHEVROLET</td>\n",
       "      <td>Cruze</td>\n",
       "      <td>5</td>\n",
       "      <td>106.3</td>\n",
       "      <td>16</td>\n",
       "      <td>4</td>\n",
       "      <td>4</td>\n",
       "    </tr>\n",
       "    <tr>\n",
       "      <th>3</th>\n",
       "      <td>109.0</td>\n",
       "      <td>2019-05-11</td>\n",
       "      <td>15900</td>\n",
       "      <td>False</td>\n",
       "      <td>CHEVROLET</td>\n",
       "      <td>Impala</td>\n",
       "      <td>5</td>\n",
       "      <td>111.7</td>\n",
       "      <td>18</td>\n",
       "      <td>4</td>\n",
       "      <td>4</td>\n",
       "    </tr>\n",
       "    <tr>\n",
       "      <th>4</th>\n",
       "      <td>118.0</td>\n",
       "      <td>2019-05-13</td>\n",
       "      <td>12998</td>\n",
       "      <td>False</td>\n",
       "      <td>CHEVROLET</td>\n",
       "      <td>Sonic</td>\n",
       "      <td>5</td>\n",
       "      <td>99.4</td>\n",
       "      <td>15</td>\n",
       "      <td>4</td>\n",
       "      <td>4</td>\n",
       "    </tr>\n",
       "    <tr>\n",
       "      <th>...</th>\n",
       "      <td>...</td>\n",
       "      <td>...</td>\n",
       "      <td>...</td>\n",
       "      <td>...</td>\n",
       "      <td>...</td>\n",
       "      <td>...</td>\n",
       "      <td>...</td>\n",
       "      <td>...</td>\n",
       "      <td>...</td>\n",
       "      <td>...</td>\n",
       "      <td>...</td>\n",
       "    </tr>\n",
       "    <tr>\n",
       "      <th>385023</th>\n",
       "      <td>5694424.0</td>\n",
       "      <td>2020-03-15</td>\n",
       "      <td>14750</td>\n",
       "      <td>False</td>\n",
       "      <td>CHEVROLET</td>\n",
       "      <td>Malibu</td>\n",
       "      <td>5</td>\n",
       "      <td>111.4</td>\n",
       "      <td>17</td>\n",
       "      <td>4</td>\n",
       "      <td>4</td>\n",
       "    </tr>\n",
       "    <tr>\n",
       "      <th>385024</th>\n",
       "      <td>5694496.0</td>\n",
       "      <td>2020-02-13</td>\n",
       "      <td>18250</td>\n",
       "      <td>False</td>\n",
       "      <td>CHEVROLET</td>\n",
       "      <td>Impala</td>\n",
       "      <td>5</td>\n",
       "      <td>111.7</td>\n",
       "      <td>18</td>\n",
       "      <td>4</td>\n",
       "      <td>4</td>\n",
       "    </tr>\n",
       "    <tr>\n",
       "      <th>385025</th>\n",
       "      <td>5694839.0</td>\n",
       "      <td>2020-05-20</td>\n",
       "      <td>13386</td>\n",
       "      <td>False</td>\n",
       "      <td>CHEVROLET</td>\n",
       "      <td>Malibu</td>\n",
       "      <td>5</td>\n",
       "      <td>111.4</td>\n",
       "      <td>16</td>\n",
       "      <td>4</td>\n",
       "      <td>4</td>\n",
       "    </tr>\n",
       "    <tr>\n",
       "      <th>385026</th>\n",
       "      <td>5694980.0</td>\n",
       "      <td>2020-05-19</td>\n",
       "      <td>13892</td>\n",
       "      <td>False</td>\n",
       "      <td>CHEVROLET</td>\n",
       "      <td>Malibu</td>\n",
       "      <td>5</td>\n",
       "      <td>111.4</td>\n",
       "      <td>16</td>\n",
       "      <td>4</td>\n",
       "      <td>4</td>\n",
       "    </tr>\n",
       "    <tr>\n",
       "      <th>385027</th>\n",
       "      <td>5695002.0</td>\n",
       "      <td>2020-03-27</td>\n",
       "      <td>12950</td>\n",
       "      <td>False</td>\n",
       "      <td>CHEVROLET</td>\n",
       "      <td>Cruze</td>\n",
       "      <td>5</td>\n",
       "      <td>106.3</td>\n",
       "      <td>17</td>\n",
       "      <td>4</td>\n",
       "      <td>4</td>\n",
       "    </tr>\n",
       "  </tbody>\n",
       "</table>\n",
       "<p>385028 rows × 11 columns</p>\n",
       "</div>"
      ],
      "text/plain": [
       "        Unnamed: 0   firstSeen askPrice  isNew  brandName modelName vf_Seats  \\\n",
       "0              3.0  2019-05-06    12387  False  CHEVROLET     Cruze        5   \n",
       "1             20.0  2019-05-07    16671  False  CHEVROLET    Impala        5   \n",
       "2             43.0  2019-05-07    12959  False  CHEVROLET     Cruze        5   \n",
       "3            109.0  2019-05-11    15900  False  CHEVROLET    Impala        5   \n",
       "4            118.0  2019-05-13    12998  False  CHEVROLET     Sonic        5   \n",
       "...            ...         ...      ...    ...        ...       ...      ...   \n",
       "385023   5694424.0  2020-03-15    14750  False  CHEVROLET    Malibu        5   \n",
       "385024   5694496.0  2020-02-13    18250  False  CHEVROLET    Impala        5   \n",
       "385025   5694839.0  2020-05-20    13386  False  CHEVROLET    Malibu        5   \n",
       "385026   5694980.0  2020-05-19    13892  False  CHEVROLET    Malibu        5   \n",
       "385027   5695002.0  2020-03-27    12950  False  CHEVROLET     Cruze        5   \n",
       "\n",
       "       vf_WheelBaseShort vf_WheelSizeRear vf_Wheels vf_Windows  \n",
       "0                  106.3               17         4          4  \n",
       "1                  111.7               18         4          4  \n",
       "2                  106.3               16         4          4  \n",
       "3                  111.7               18         4          4  \n",
       "4                   99.4               15         4          4  \n",
       "...                  ...              ...       ...        ...  \n",
       "385023             111.4               17         4          4  \n",
       "385024             111.7               18         4          4  \n",
       "385025             111.4               16         4          4  \n",
       "385026             111.4               16         4          4  \n",
       "385027             106.3               17         4          4  \n",
       "\n",
       "[385028 rows x 11 columns]"
      ]
     },
     "execution_count": 45,
     "metadata": {},
     "output_type": "execute_result"
    }
   ],
   "source": [
    "file_name = \"df_2.csv\"\n",
    "read_file(file_name)"
   ]
  },
  {
   "cell_type": "code",
   "execution_count": 46,
   "id": "677ad1b9",
   "metadata": {},
   "outputs": [],
   "source": [
    "def get_memory_stat_by_column(df, output_file):\n",
    "    # вывод пар: колонка - тип данных\n",
    "    memory_usage_stat = df.memory_usage(deep=True)\n",
    "    # суммарный размер\n",
    "    total_memory_usage = memory_usage_stat.sum()\n",
    "    result = {\n",
    "        \"file_in_memory_size\": f\"{int(total_memory_usage // 1024):10} KB\",\n",
    "        \"columns\": []\n",
    "    }\n",
    "    # проходимся по колонкам, записываем в список\n",
    "    for key in df.dtypes.keys():\n",
    "        result[\"columns\"].append({\n",
    "            \"column_name\": key,\n",
    "            \"memory_abs\": int(memory_usage_stat[key] // 1024),\n",
    "            \"memory_per\": round(memory_usage_stat[key] / total_memory_usage * 100, 4),\n",
    "            \"dtype\": str(df.dtypes[key])\n",
    "        })\n",
    "    # отсортируем колонки\n",
    "    result[\"columns\"].sort(key=lambda x: x['memory_abs'], reverse=True)\n",
    "    # Запись в файл JSON\n",
    "    with open(output_file, 'w') as file:\n",
    "        json.dump(result, file)"
   ]
  },
  {
   "cell_type": "code",
   "execution_count": 63,
   "id": "57ca9ca1",
   "metadata": {},
   "outputs": [
    {
     "name": "stderr",
     "output_type": "stream",
     "text": [
      "C:\\Users\\73B5~1\\AppData\\Local\\Temp/ipykernel_1884/1342175180.py:2: DtypeWarning: Columns (2,3,6,7,8,9,10) have mixed types.Specify dtype option on import or set low_memory=False.\n",
      "  dataset = read_file(file_name)\n"
     ]
    }
   ],
   "source": [
    "file_name = \"df_2.csv\"\n",
    "dataset = read_file(file_name)\n",
    "output_file = \"результаты_2.json\"\n",
    "get_memory_stat_by_column(dataset, output_file)"
   ]
  },
  {
   "cell_type": "code",
   "execution_count": 61,
   "id": "8551d0e7",
   "metadata": {},
   "outputs": [
    {
     "data": {
      "text/plain": [
       "Unnamed: 0           float64\n",
       "firstSeen             object\n",
       "askPrice              object\n",
       "isNew                 object\n",
       "brandName             object\n",
       "modelName             object\n",
       "vf_Seats              object\n",
       "vf_WheelBaseShort     object\n",
       "vf_WheelSizeRear      object\n",
       "vf_Wheels             object\n",
       "vf_Windows            object\n",
       "dtype: object"
      ]
     },
     "execution_count": 61,
     "metadata": {},
     "output_type": "execute_result"
    }
   ],
   "source": [
    "dataset.dtypes"
   ]
  },
  {
   "cell_type": "code",
   "execution_count": 48,
   "id": "e1469615",
   "metadata": {},
   "outputs": [],
   "source": [
    "# Считает объем памяти до и после преобразований\n",
    "def mem_usage(pandas_obj):\n",
    "    if isinstance(pandas_obj, pd.DataFrame):\n",
    "        usage_b = pandas_obj.memory_usage(deep=True).sum()\n",
    "    else: # предположим, что если это не дадафрейм, то серия\n",
    "        usage_b = pandas_obj.memory_usage(deep=True)\n",
    "    usage_mb = usage_b / 1024 ** 2 # преобразуем быйты в мегабайты\n",
    "    return \"{:03.2f} MB\".format(usage_mb)"
   ]
  },
  {
   "cell_type": "code",
   "execution_count": 49,
   "id": "4be4a3e7",
   "metadata": {},
   "outputs": [],
   "source": [
    "# 4. Преобразовать все колонки с типом данных «object» в категориальные, \n",
    "#    если количество уникальных значений колонки составляет менее 50%."
   ]
  },
  {
   "cell_type": "code",
   "execution_count": 50,
   "id": "4463d7a7",
   "metadata": {},
   "outputs": [],
   "source": [
    "def opt_obj(df):\n",
    "    converted_obj = pd.DataFrame()\n",
    "    dataset_obj = df.select_dtypes(include=['object']).copy()\n",
    "    for col in dataset_obj.columns:\n",
    "        num_unique_values = len(dataset_obj[col].unique())\n",
    "        num_total_values = len(dataset_obj[col])\n",
    "        if num_unique_values / num_total_values < 0.5:\n",
    "            converted_obj.loc[:, col] = dataset_obj[col].astype('category')\n",
    "        else:\n",
    "            converted_obj.loc[:, col] = dataset_obj[col]\n",
    "    print(mem_usage(dataset_obj))\n",
    "    print(mem_usage(converted_obj))\n",
    "    return converted_obj    "
   ]
  },
  {
   "cell_type": "code",
   "execution_count": 51,
   "id": "d7c81d13",
   "metadata": {},
   "outputs": [
    {
     "name": "stdout",
     "output_type": "stream",
     "text": [
      "183.43 MB\n",
      "6.84 MB\n"
     ]
    }
   ],
   "source": [
    "converted_obj = opt_obj(dataset)"
   ]
  },
  {
   "cell_type": "code",
   "execution_count": 64,
   "id": "9558be52",
   "metadata": {},
   "outputs": [],
   "source": [
    "# 5.Провести понижающее преобразование для столбцов типов «int» колонок\n",
    "def opt_int(df):\n",
    "    dataset_int = df.select_dtypes(include=['int']) # выбираем колонки типа int\n",
    "    \"\"\"\n",
    "    downcast:\n",
    "            - 'integer' or 'signed': smallest signed int dtype (min.: np.int8)\n",
    "            - 'unsigned': smallest unsigned int dtype (min.: np.int8)\n",
    "            - 'float': smallest float dtype (min.: np.float32)\n",
    "    \"\"\"\n",
    "    converted_int = dataset_int.apply(pd.to_numeric, downcast='unsigned')\n",
    "    print(mem_usage(dataset_int))\n",
    "    print(mem_usage(converted_int))\n",
    "    compare_ints = pd.concat([dataset_int.dtypes, converted_int.dtypes], axis=1)\n",
    "    compare_ints.columns = ['before', 'after']\n",
    "    compare_ints.apply(pd.Series.value_counts)\n",
    "    print(compare_ints)\n",
    "    return converted_int"
   ]
  },
  {
   "cell_type": "code",
   "execution_count": 65,
   "id": "72234e9e",
   "metadata": {},
   "outputs": [
    {
     "name": "stdout",
     "output_type": "stream",
     "text": [
      "0.00 MB\n",
      "0.00 MB\n",
      "Empty DataFrame\n",
      "Columns: [before, after]\n",
      "Index: []\n"
     ]
    }
   ],
   "source": [
    "converted_int = opt_int(dataset)"
   ]
  },
  {
   "cell_type": "code",
   "execution_count": 55,
   "id": "f29d14a0",
   "metadata": {},
   "outputs": [],
   "source": [
    "# 6. Провести понижающее преобразование для столбцов типов «float» колонок\n",
    "def opt_float(df):\n",
    "    dataset_float = df.select_dtypes(include=['float'])\n",
    "    converted_float = dataset_float.apply(pd.to_numeric, downcast='float')\n",
    "    print(mem_usage(dataset_float))\n",
    "    print(mem_usage(converted_float))\n",
    "    compare_float = pd.concat([dataset_float.dtypes, converted_float.dtypes], axis=1)\n",
    "    compare_float.columns = ['before', 'after']\n",
    "    compare_float.apply(pd.Series.value_counts)\n",
    "    print(compare_float)\n",
    "    return converted_float"
   ]
  },
  {
   "cell_type": "code",
   "execution_count": 56,
   "id": "6bf28129",
   "metadata": {},
   "outputs": [
    {
     "name": "stdout",
     "output_type": "stream",
     "text": [
      "2.94 MB\n",
      "1.47 MB\n",
      "             before    after\n",
      "Unnamed: 0  float64  float32\n"
     ]
    }
   ],
   "source": [
    "converted_float = opt_float(dataset)"
   ]
  },
  {
   "cell_type": "code",
   "execution_count": 66,
   "id": "75744269",
   "metadata": {},
   "outputs": [
    {
     "name": "stdout",
     "output_type": "stream",
     "text": [
      "186.37 MB\n",
      "8.31 MB\n"
     ]
    }
   ],
   "source": [
    "# 7. Повторно провести анализ набора данных, как в п. 2, сравнив показатели занимаемой памяти\n",
    "# Создаем копию исходного датафрейма\n",
    "optimized_dataset = dataset.copy()\n",
    "\n",
    "# заменяем исходные числовые столбцы оптмизированными\n",
    "optimized_dataset[converted_obj.columns] = converted_obj\n",
    "optimized_dataset[converted_int.columns] = converted_int\n",
    "optimized_dataset[converted_float.columns] = converted_float\n",
    "\n",
    "print(mem_usage(dataset))\n",
    "print(mem_usage(optimized_dataset))"
   ]
  },
  {
   "cell_type": "code",
   "execution_count": 67,
   "id": "e7dd9ff6",
   "metadata": {},
   "outputs": [],
   "source": [
    "# 8. Выбрать произвольно 10 колонок для дальнейшем работы, \n",
    "#    прописав преобразование типов и загрузку только нужных данных на этапе чтения файла. \n",
    "#    При этом стоит использовать чанки. Сохраните полученный поднабор в отдельном файле."
   ]
  },
  {
   "cell_type": "code",
   "execution_count": 68,
   "id": "1477da15",
   "metadata": {},
   "outputs": [
    {
     "name": "stdout",
     "output_type": "stream",
     "text": [
      "Unnamed: 0:float32\n",
      "firstSeen:category\n",
      "askPrice:category\n",
      "isNew:category\n",
      "brandName:category\n",
      "modelName:category\n",
      "vf_Seats:category\n",
      "vf_WheelBaseShort:category\n",
      "vf_WheelSizeRear:category\n",
      "vf_Wheels:category\n",
      "vf_Windows:category\n"
     ]
    }
   ],
   "source": [
    "need_column = dict()\n",
    "#column_names = ['date', 'number_of_game', 'day_of_week',\n",
    "#           'park_id', 'v_manager_name', 'length_minutes',\n",
    "#           'v_hits', 'h_hits', 'h_walks', 'h_errors']\n",
    "\n",
    "opt_dtypes = optimized_dataset.dtypes\n",
    "\n",
    "for key in dataset.columns:\n",
    "    need_column[key] = opt_dtypes[key]\n",
    "    print(f\"{key}:{opt_dtypes[key]}\")\n",
    "\n",
    "with open(\"dtypes_2.json\", mode=\"w\") as file:\n",
    "    dtype_json = need_column.copy()\n",
    "    for key in dtype_json.keys():\n",
    "        dtype_json[key] = str(dtype_json[key])\n",
    "    json.dump(dtype_json, file)\n",
    "    \n",
    "# Работа с чанкам\n",
    "#has_header = True\n",
    "#for chunk in pd.read_csv(file_name,\n",
    "#                         usecols=lambda x: x in column_names,\n",
    "#                         dtype=need_column,\n",
    "#                         #parse_dates=['date'],\n",
    "#                         #infer_datetime_format=True,\n",
    "#                         chunksize=100_000):\n",
    "    # любые преобразования\n",
    "#    print(mem_usage(chunk))\n",
    "#    chunk.to_csv('df_1.csv', mode='a', header=has_header)\n",
    "#    has_header = False"
   ]
  },
  {
   "cell_type": "code",
   "execution_count": 72,
   "id": "2f5e6c84",
   "metadata": {},
   "outputs": [
    {
     "name": "stdout",
     "output_type": "stream",
     "text": [
      "<class 'pandas.core.frame.DataFrame'>\n",
      "RangeIndex: 385028 entries, 0 to 385027\n",
      "Data columns (total 11 columns):\n",
      " #   Column             Non-Null Count   Dtype   \n",
      "---  ------             --------------   -----   \n",
      " 0   Unnamed: 0         385026 non-null  float32 \n",
      " 1   firstSeen          385028 non-null  category\n",
      " 2   askPrice           340280 non-null  category\n",
      " 3   isNew              385028 non-null  category\n",
      " 4   brandName          385028 non-null  category\n",
      " 5   modelName          385028 non-null  category\n",
      " 6   vf_Seats           385028 non-null  category\n",
      " 7   vf_WheelBaseShort  385028 non-null  category\n",
      " 8   vf_WheelSizeRear   385028 non-null  category\n",
      " 9   vf_Wheels          385028 non-null  category\n",
      " 10  vf_Windows         385028 non-null  category\n",
      "dtypes: category(10), float32(1)\n",
      "memory usage: 8.3 MB\n"
     ]
    }
   ],
   "source": [
    "# сохраняем информацию о типах, коорые нам нужны. Необходимо для графиков.\n",
    "def read_types(file_name):\n",
    "    dtypes = {}\n",
    "    with open(file_name, mode='r') as file:\n",
    "        dtypes = json.load(file)\n",
    "    for key in dtypes.keys():\n",
    "        if dtypes[key] == 'category':\n",
    "            dtypes[key] = pd.CategoricalDtype\n",
    "        elif dtypes[key] == 'string':\n",
    "            dtypes[key] = pd.StringDtype\n",
    "        else:    \n",
    "            dtypes[key] = np.dtype(dtypes[key])\n",
    "    return dtypes\n",
    "\n",
    "need_dtypes = read_types(\"dtypes_2.json\")\n",
    "\n",
    "dataset = pd.read_csv(\"df_2.csv\",\n",
    "                  usecols=lambda x: x in need_dtypes.keys(),\n",
    "                  dtype=need_column)\n",
    "dataset.info(memory_usage='deep')"
   ]
  },
  {
   "cell_type": "code",
   "execution_count": 73,
   "id": "ee95db9e",
   "metadata": {},
   "outputs": [
    {
     "ename": "TypeError",
     "evalue": "no numeric data to plot",
     "output_type": "error",
     "traceback": [
      "\u001b[1;31m---------------------------------------------------------------------------\u001b[0m",
      "\u001b[1;31mTypeError\u001b[0m                                 Traceback (most recent call last)",
      "\u001b[1;32mC:\\Users\\73B5~1\\AppData\\Local\\Temp/ipykernel_1884/2630898898.py\u001b[0m in \u001b[0;36m<module>\u001b[1;34m\u001b[0m\n\u001b[0;32m      1\u001b[0m \u001b[1;31m# графики\u001b[0m\u001b[1;33m\u001b[0m\u001b[1;33m\u001b[0m\u001b[0m\n\u001b[1;32m----> 2\u001b[1;33m \u001b[0mhist\u001b[0m \u001b[1;33m=\u001b[0m \u001b[0mdataset\u001b[0m\u001b[1;33m[\u001b[0m\u001b[1;34m'brandName'\u001b[0m\u001b[1;33m]\u001b[0m\u001b[1;33m.\u001b[0m\u001b[0mplot\u001b[0m\u001b[1;33m.\u001b[0m\u001b[0mbar\u001b[0m\u001b[1;33m(\u001b[0m\u001b[1;33m)\u001b[0m\u001b[1;33m\u001b[0m\u001b[1;33m\u001b[0m\u001b[0m\n\u001b[0m\u001b[0;32m      3\u001b[0m \u001b[0mhist\u001b[0m\u001b[1;33m.\u001b[0m\u001b[0mget_figure\u001b[0m\u001b[1;33m(\u001b[0m\u001b[1;33m)\u001b[0m\u001b[1;33m.\u001b[0m\u001b[0msavefig\u001b[0m\u001b[1;33m(\u001b[0m\u001b[1;34m\"hist.png\"\u001b[0m\u001b[1;33m)\u001b[0m\u001b[1;33m\u001b[0m\u001b[1;33m\u001b[0m\u001b[0m\n",
      "\u001b[1;32mC:\\ProgramData\\Anaconda3\\lib\\site-packages\\pandas\\plotting\\_core.py\u001b[0m in \u001b[0;36mbar\u001b[1;34m(self, x, y, **kwargs)\u001b[0m\n\u001b[0;32m   1128\u001b[0m         \u001b[0mother\u001b[0m \u001b[0maxis\u001b[0m \u001b[0mrepresents\u001b[0m \u001b[0ma\u001b[0m \u001b[0mmeasured\u001b[0m \u001b[0mvalue\u001b[0m\u001b[1;33m.\u001b[0m\u001b[1;33m\u001b[0m\u001b[1;33m\u001b[0m\u001b[0m\n\u001b[0;32m   1129\u001b[0m         \"\"\"\n\u001b[1;32m-> 1130\u001b[1;33m         \u001b[1;32mreturn\u001b[0m \u001b[0mself\u001b[0m\u001b[1;33m(\u001b[0m\u001b[0mkind\u001b[0m\u001b[1;33m=\u001b[0m\u001b[1;34m\"bar\"\u001b[0m\u001b[1;33m,\u001b[0m \u001b[0mx\u001b[0m\u001b[1;33m=\u001b[0m\u001b[0mx\u001b[0m\u001b[1;33m,\u001b[0m \u001b[0my\u001b[0m\u001b[1;33m=\u001b[0m\u001b[0my\u001b[0m\u001b[1;33m,\u001b[0m \u001b[1;33m**\u001b[0m\u001b[0mkwargs\u001b[0m\u001b[1;33m)\u001b[0m\u001b[1;33m\u001b[0m\u001b[1;33m\u001b[0m\u001b[0m\n\u001b[0m\u001b[0;32m   1131\u001b[0m \u001b[1;33m\u001b[0m\u001b[0m\n\u001b[0;32m   1132\u001b[0m     @Appender(\n",
      "\u001b[1;32mC:\\ProgramData\\Anaconda3\\lib\\site-packages\\pandas\\plotting\\_core.py\u001b[0m in \u001b[0;36m__call__\u001b[1;34m(self, *args, **kwargs)\u001b[0m\n\u001b[0;32m    970\u001b[0m                     \u001b[0mdata\u001b[0m\u001b[1;33m.\u001b[0m\u001b[0mcolumns\u001b[0m \u001b[1;33m=\u001b[0m \u001b[0mlabel_name\u001b[0m\u001b[1;33m\u001b[0m\u001b[1;33m\u001b[0m\u001b[0m\n\u001b[0;32m    971\u001b[0m \u001b[1;33m\u001b[0m\u001b[0m\n\u001b[1;32m--> 972\u001b[1;33m         \u001b[1;32mreturn\u001b[0m \u001b[0mplot_backend\u001b[0m\u001b[1;33m.\u001b[0m\u001b[0mplot\u001b[0m\u001b[1;33m(\u001b[0m\u001b[0mdata\u001b[0m\u001b[1;33m,\u001b[0m \u001b[0mkind\u001b[0m\u001b[1;33m=\u001b[0m\u001b[0mkind\u001b[0m\u001b[1;33m,\u001b[0m \u001b[1;33m**\u001b[0m\u001b[0mkwargs\u001b[0m\u001b[1;33m)\u001b[0m\u001b[1;33m\u001b[0m\u001b[1;33m\u001b[0m\u001b[0m\n\u001b[0m\u001b[0;32m    973\u001b[0m \u001b[1;33m\u001b[0m\u001b[0m\n\u001b[0;32m    974\u001b[0m     \u001b[0m__call__\u001b[0m\u001b[1;33m.\u001b[0m\u001b[0m__doc__\u001b[0m \u001b[1;33m=\u001b[0m \u001b[0m__doc__\u001b[0m\u001b[1;33m\u001b[0m\u001b[1;33m\u001b[0m\u001b[0m\n",
      "\u001b[1;32mC:\\ProgramData\\Anaconda3\\lib\\site-packages\\pandas\\plotting\\_matplotlib\\__init__.py\u001b[0m in \u001b[0;36mplot\u001b[1;34m(data, kind, **kwargs)\u001b[0m\n\u001b[0;32m     69\u001b[0m             \u001b[0mkwargs\u001b[0m\u001b[1;33m[\u001b[0m\u001b[1;34m\"ax\"\u001b[0m\u001b[1;33m]\u001b[0m \u001b[1;33m=\u001b[0m \u001b[0mgetattr\u001b[0m\u001b[1;33m(\u001b[0m\u001b[0max\u001b[0m\u001b[1;33m,\u001b[0m \u001b[1;34m\"left_ax\"\u001b[0m\u001b[1;33m,\u001b[0m \u001b[0max\u001b[0m\u001b[1;33m)\u001b[0m\u001b[1;33m\u001b[0m\u001b[1;33m\u001b[0m\u001b[0m\n\u001b[0;32m     70\u001b[0m     \u001b[0mplot_obj\u001b[0m \u001b[1;33m=\u001b[0m \u001b[0mPLOT_CLASSES\u001b[0m\u001b[1;33m[\u001b[0m\u001b[0mkind\u001b[0m\u001b[1;33m]\u001b[0m\u001b[1;33m(\u001b[0m\u001b[0mdata\u001b[0m\u001b[1;33m,\u001b[0m \u001b[1;33m**\u001b[0m\u001b[0mkwargs\u001b[0m\u001b[1;33m)\u001b[0m\u001b[1;33m\u001b[0m\u001b[1;33m\u001b[0m\u001b[0m\n\u001b[1;32m---> 71\u001b[1;33m     \u001b[0mplot_obj\u001b[0m\u001b[1;33m.\u001b[0m\u001b[0mgenerate\u001b[0m\u001b[1;33m(\u001b[0m\u001b[1;33m)\u001b[0m\u001b[1;33m\u001b[0m\u001b[1;33m\u001b[0m\u001b[0m\n\u001b[0m\u001b[0;32m     72\u001b[0m     \u001b[0mplot_obj\u001b[0m\u001b[1;33m.\u001b[0m\u001b[0mdraw\u001b[0m\u001b[1;33m(\u001b[0m\u001b[1;33m)\u001b[0m\u001b[1;33m\u001b[0m\u001b[1;33m\u001b[0m\u001b[0m\n\u001b[0;32m     73\u001b[0m     \u001b[1;32mreturn\u001b[0m \u001b[0mplot_obj\u001b[0m\u001b[1;33m.\u001b[0m\u001b[0mresult\u001b[0m\u001b[1;33m\u001b[0m\u001b[1;33m\u001b[0m\u001b[0m\n",
      "\u001b[1;32mC:\\ProgramData\\Anaconda3\\lib\\site-packages\\pandas\\plotting\\_matplotlib\\core.py\u001b[0m in \u001b[0;36mgenerate\u001b[1;34m(self)\u001b[0m\n\u001b[0;32m    284\u001b[0m     \u001b[1;32mdef\u001b[0m \u001b[0mgenerate\u001b[0m\u001b[1;33m(\u001b[0m\u001b[0mself\u001b[0m\u001b[1;33m)\u001b[0m\u001b[1;33m:\u001b[0m\u001b[1;33m\u001b[0m\u001b[1;33m\u001b[0m\u001b[0m\n\u001b[0;32m    285\u001b[0m         \u001b[0mself\u001b[0m\u001b[1;33m.\u001b[0m\u001b[0m_args_adjust\u001b[0m\u001b[1;33m(\u001b[0m\u001b[1;33m)\u001b[0m\u001b[1;33m\u001b[0m\u001b[1;33m\u001b[0m\u001b[0m\n\u001b[1;32m--> 286\u001b[1;33m         \u001b[0mself\u001b[0m\u001b[1;33m.\u001b[0m\u001b[0m_compute_plot_data\u001b[0m\u001b[1;33m(\u001b[0m\u001b[1;33m)\u001b[0m\u001b[1;33m\u001b[0m\u001b[1;33m\u001b[0m\u001b[0m\n\u001b[0m\u001b[0;32m    287\u001b[0m         \u001b[0mself\u001b[0m\u001b[1;33m.\u001b[0m\u001b[0m_setup_subplots\u001b[0m\u001b[1;33m(\u001b[0m\u001b[1;33m)\u001b[0m\u001b[1;33m\u001b[0m\u001b[1;33m\u001b[0m\u001b[0m\n\u001b[0;32m    288\u001b[0m         \u001b[0mself\u001b[0m\u001b[1;33m.\u001b[0m\u001b[0m_make_plot\u001b[0m\u001b[1;33m(\u001b[0m\u001b[1;33m)\u001b[0m\u001b[1;33m\u001b[0m\u001b[1;33m\u001b[0m\u001b[0m\n",
      "\u001b[1;32mC:\\ProgramData\\Anaconda3\\lib\\site-packages\\pandas\\plotting\\_matplotlib\\core.py\u001b[0m in \u001b[0;36m_compute_plot_data\u001b[1;34m(self)\u001b[0m\n\u001b[0;32m    451\u001b[0m         \u001b[1;31m# no non-numeric frames or series allowed\u001b[0m\u001b[1;33m\u001b[0m\u001b[1;33m\u001b[0m\u001b[0m\n\u001b[0;32m    452\u001b[0m         \u001b[1;32mif\u001b[0m \u001b[0mis_empty\u001b[0m\u001b[1;33m:\u001b[0m\u001b[1;33m\u001b[0m\u001b[1;33m\u001b[0m\u001b[0m\n\u001b[1;32m--> 453\u001b[1;33m             \u001b[1;32mraise\u001b[0m \u001b[0mTypeError\u001b[0m\u001b[1;33m(\u001b[0m\u001b[1;34m\"no numeric data to plot\"\u001b[0m\u001b[1;33m)\u001b[0m\u001b[1;33m\u001b[0m\u001b[1;33m\u001b[0m\u001b[0m\n\u001b[0m\u001b[0;32m    454\u001b[0m \u001b[1;33m\u001b[0m\u001b[0m\n\u001b[0;32m    455\u001b[0m         \u001b[0mself\u001b[0m\u001b[1;33m.\u001b[0m\u001b[0mdata\u001b[0m \u001b[1;33m=\u001b[0m \u001b[0mnumeric_data\u001b[0m\u001b[1;33m.\u001b[0m\u001b[0mapply\u001b[0m\u001b[1;33m(\u001b[0m\u001b[0mself\u001b[0m\u001b[1;33m.\u001b[0m\u001b[0m_convert_to_ndarray\u001b[0m\u001b[1;33m)\u001b[0m\u001b[1;33m\u001b[0m\u001b[1;33m\u001b[0m\u001b[0m\n",
      "\u001b[1;31mTypeError\u001b[0m: no numeric data to plot"
     ]
    }
   ],
   "source": [
    "# графики\n",
    "hist = dataset['brandName'].plot.bar()\n",
    "hist.get_figure().savefig(\"hist.png\")"
   ]
  },
  {
   "cell_type": "code",
   "execution_count": 48,
   "id": "714e1134",
   "metadata": {},
   "outputs": [
    {
     "data": {
      "image/png": "[encoded data removed]",
      "text/plain": [
       "<Figure size 432x288 with 1 Axes>"
      ]
     },
     "metadata": {
      "needs_background": "light"
     },
     "output_type": "display_data"
    }
   ],
   "source": [
    "sort_dow = dataset['length_minutes'].sort_index()\n",
    "plot = sort_dow.plot()\n",
    "plot.get_figure().savefig('plot.png')"
   ]
  },
  {
   "cell_type": "code",
   "execution_count": null,
   "id": "35c7de56",
   "metadata": {},
   "outputs": [],
   "source": []
  }
 ],
 "metadata": {
  "kernelspec": {
   "display_name": "Python 3 (ipykernel)",
   "language": "python",
   "name": "python3"
  },
  "language_info": {
   "codemirror_mode": {
    "name": "ipython",
    "version": 3
   },
   "file_extension": ".py",
   "mimetype": "text/x-python",
   "name": "python",
   "nbconvert_exporter": "python",
   "pygments_lexer": "ipython3",
   "version": "3.9.7"
  }
 },
 "nbformat": 4,
 "nbformat_minor": 5
}
