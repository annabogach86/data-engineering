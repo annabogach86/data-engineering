{
 "cells": [
  {
   "cell_type": "code",
   "execution_count": 1,
   "id": "525e5a8e",
   "metadata": {},
   "outputs": [],
   "source": [
    "# Дан файл с некоторыми данными. \n",
    "# Формат файла – произвольный, не совпадает с тем, что был в первом задании. \n",
    "# Необходимо считать данные и добавить их к той коллекции, куда были записаны данные в первом задании. \n",
    "# Реализовать следующие запросы:\n",
    "#    вывод минимальной, средней, максимальной salary\n",
    "#    вывод количества данных по представленным профессиям\n",
    "#    вывод минимальной, средней, максимальной salary по городу\n",
    "#    вывод минимальной, средней, максимальной salary по профессии\n",
    "#    вывод минимального, среднего, максимального возраста по городу\n",
    "#    вывод минимального, среднего, максимального возраста по профессии \n",
    "#    вывод максимальной заработной платы при минимальном возрасте\n",
    "#    вывод минимальной заработной платы при максимальной возрасте\n",
    "#    вывод минимального, среднего, максимального возраста по городу, при условии, \n",
    "#             что заработная плата больше 50 000, отсортировать вывод по любому полю.\n",
    "#    вывод минимальной, средней, максимальной salary в произвольно заданных диапазонах \n",
    "#             по городу, профессии, и возрасту: 18<age<25 & 50<age<65\n",
    "#    произвольный запрос с $match, $group, $sort"
   ]
  },
  {
   "cell_type": "code",
   "execution_count": 1,
   "id": "15df31b7",
   "metadata": {},
   "outputs": [],
   "source": [
    "import json\n",
    "from pymongo import MongoClient, collection\n",
    "from bson import ObjectId"
   ]
  },
  {
   "cell_type": "code",
   "execution_count": 2,
   "id": "a329c893",
   "metadata": {},
   "outputs": [
    {
     "data": {
      "text/plain": [
       "[{'job': 'Программист',\n",
       "  'salary': 52296,\n",
       "  'id': 5493254,\n",
       "  'city': 'Касерес',\n",
       "  'year': 2009,\n",
       "  'age': 51},\n",
       " {'job': 'Водитель',\n",
       "  'salary': 61394,\n",
       "  'id': 9042910,\n",
       "  'city': 'Афины',\n",
       "  'year': 2006,\n",
       "  'age': 46},\n",
       " {'job': 'Водитель',\n",
       "  'salary': 196864,\n",
       "  'id': 1303194,\n",
       "  'city': 'Самора',\n",
       "  'year': 2009,\n",
       "  'age': 62}]"
      ]
     },
     "execution_count": 2,
     "metadata": {},
     "output_type": "execute_result"
    }
   ],
   "source": [
    "with open('task_2_item.json', 'r', encoding='utf-8') as file:\n",
    "    json_data = json.load(file)\n",
    "json_data[0:3] "
   ]
  },
  {
   "cell_type": "code",
   "execution_count": 3,
   "id": "9b68e713",
   "metadata": {},
   "outputs": [],
   "source": [
    "def read_data_from_json(file_name):\n",
    "    with open(file_name, encoding='utf-8', errors='ignore') as file:\n",
    "        data = json.load(file)\n",
    "    return data"
   ]
  },
  {
   "cell_type": "code",
   "execution_count": 4,
   "id": "fcc3c647",
   "metadata": {},
   "outputs": [],
   "source": [
    "def write_data_to_mongodb(data, host, port, db_name, collection_name):\n",
    "    client = MongoClient(host, port)\n",
    "    db = client[db_name]\n",
    "    collection = db[collection_name]\n",
    "    collection.insert_many(data)"
   ]
  },
  {
   "cell_type": "code",
   "execution_count": 5,
   "id": "062a0a5d",
   "metadata": {},
   "outputs": [],
   "source": [
    "# вывод минимальной, средней, максимальной salary\n",
    "def get_salary_stats(collection):\n",
    "    aggregate_salary = collection.aggregate([\n",
    "        {\"$group\": {\n",
    "            \"_id\": None,\n",
    "            \"min_salary\": {\"$min\": \"$salary\"},\n",
    "            \"avg_salary\": {\"$avg\": \"$salary\"},\n",
    "            \"max_salary\": {\"$max\": \"$salary\"}\n",
    "        }}\n",
    "    ])\n",
    "    salary_stats = next(aggregate_salary)\n",
    "    return salary_stats"
   ]
  },
  {
   "cell_type": "code",
   "execution_count": 6,
   "id": "b9387322",
   "metadata": {},
   "outputs": [],
   "source": [
    "# вывод количества данных по представленным профессиям\n",
    "def get_data_count_by_profession(collection):\n",
    "    aggregate_profession = collection.aggregate([\n",
    "        {\"$group\": {\n",
    "            \"_id\": \"$job\",\n",
    "            \"count\": {\"$sum\": 1}\n",
    "        }}\n",
    "    ])\n",
    "    profession_stats = []\n",
    "    for profession in aggregate_profession:\n",
    "        job = profession['_id']\n",
    "        count = profession['count']\n",
    "        profession_stats.append((job, count))\n",
    "    return profession_stats"
   ]
  },
  {
   "cell_type": "code",
   "execution_count": 7,
   "id": "4ab81f9c",
   "metadata": {},
   "outputs": [],
   "source": [
    "# Вывод минимальной, средней и максимальной salary по городу\n",
    "def get_salary_by_city(collection):\n",
    "    aggregate_salary_by_city = collection.aggregate([\n",
    "        {\"$group\": {\n",
    "            \"_id\": \"$city\",\n",
    "            \"min_salary\": {\"$min\": \"$salary\"},\n",
    "            \"avg_salary\": {\"$avg\": \"$salary\"},\n",
    "            \"max_salary\": {\"$max\": \"$salary\"}\n",
    "        }}\n",
    "    ])\n",
    "\n",
    "    salary_by_city = []\n",
    "    for city in aggregate_salary_by_city:\n",
    "        city_name = city['_id']\n",
    "        min_salary = city['min_salary']\n",
    "        avg_salary = city['avg_salary']\n",
    "        max_salary = city['max_salary']\n",
    "        salary_data = {\n",
    "            \"Город\": city_name,\n",
    "            \"Минимальная зарплата\": min_salary,\n",
    "            \"Средняя зарплата\": avg_salary,\n",
    "            \"Максимальная зарплата\": max_salary\n",
    "        }\n",
    "        salary_by_city.append(salary_data)\n",
    "    return salary_by_city"
   ]
  },
  {
   "cell_type": "code",
   "execution_count": 8,
   "id": "0c40c21a",
   "metadata": {},
   "outputs": [],
   "source": [
    "# вывод минимальной, средней, максимальной salary по профессии\n",
    "def get_salary_by_profession(collection):\n",
    "    aggregate_salary_by_profession = collection.aggregate([\n",
    "        {\"$group\": {\n",
    "            \"_id\": \"$job\",\n",
    "            \"min_salary\": {\"$min\": \"$salary\"},\n",
    "            \"avg_salary\": {\"$avg\": \"$salary\"},\n",
    "            \"max_salary\": {\"$max\": \"$salary\"}\n",
    "        }}\n",
    "    ])\n",
    "\n",
    "    salary_by_profession = []\n",
    "    for profession in aggregate_salary_by_profession:\n",
    "        job = profession['_id']\n",
    "        min_salary = profession['min_salary']\n",
    "        avg_salary = profession['avg_salary']\n",
    "        max_salary = profession['max_salary']\n",
    "        salary_data = {\n",
    "            \"Профессия\": job,\n",
    "            \"Минимальная зарплата\": min_salary,\n",
    "            \"Средняя зарплата\": avg_salary,\n",
    "            \"Максимальная зарплата\": max_salary\n",
    "        }\n",
    "        salary_by_profession.append(salary_data)\n",
    "    return salary_by_profession"
   ]
  },
  {
   "cell_type": "code",
   "execution_count": 9,
   "id": "2a322443",
   "metadata": {},
   "outputs": [],
   "source": [
    "# вывод минимального, среднего, максимального возраста по городу\n",
    "def get_age_by_city(collection):\n",
    "    aggregate_age_by_city = collection.aggregate([\n",
    "        {\"$group\": {\n",
    "            \"_id\": \"$city\",\n",
    "            \"min_age\": {\"$min\": \"$age\"},\n",
    "            \"avg_age\": {\"$avg\": \"$age\"},\n",
    "            \"max_age\": {\"$max\": \"$age\"}\n",
    "        }}\n",
    "    ])\n",
    "\n",
    "    age_by_city = []\n",
    "    for city in aggregate_age_by_city:\n",
    "        city_name = city['_id']\n",
    "        min_age = city['min_age']\n",
    "        avg_age = city['avg_age']\n",
    "        max_age = city['max_age']\n",
    "        age_data = {\n",
    "            \"Город\": city_name,\n",
    "            \"Минимальный возраст\": min_age,\n",
    "            \"Средний возраст\": avg_age,\n",
    "            \"Максимальный возраст\": max_age\n",
    "        }\n",
    "        age_by_city.append(age_data)\n",
    "    return age_by_city"
   ]
  },
  {
   "cell_type": "code",
   "execution_count": 10,
   "id": "d25c4769",
   "metadata": {},
   "outputs": [],
   "source": [
    "# вывод минимального, среднего, максимального возраста по профессии \n",
    "def get_age_by_profession(collection):\n",
    "    aggregate_age_by_profession = collection.aggregate([\n",
    "        {\"$group\": {\n",
    "            \"_id\": \"$job\",\n",
    "            \"min_age\": {\"$min\": \"$age\"},\n",
    "            \"avg_age\": {\"$avg\": \"$age\"},\n",
    "            \"max_age\": {\"$max\": \"$age\"}\n",
    "        }}\n",
    "    ])\n",
    "\n",
    "    age_by_profession = []\n",
    "    for profession in aggregate_age_by_profession:\n",
    "        job_name = profession['_id']\n",
    "        min_age = profession['min_age']\n",
    "        avg_age = profession['avg_age']\n",
    "        max_age = profession['max_age']\n",
    "        age_data = {\n",
    "            \"Профессия\": job_name,\n",
    "            \"Минимальный возраст\": min_age,\n",
    "            \"Средний возраст\": avg_age,\n",
    "            \"Максимальный возраст\": max_age\n",
    "        }\n",
    "        age_by_profession.append(age_data)\n",
    "    return age_by_profession"
   ]
  },
  {
   "cell_type": "code",
   "execution_count": 11,
   "id": "a5609e78",
   "metadata": {},
   "outputs": [],
   "source": [
    "# вывод максимальной заработной платы при минимальном возрасте\n",
    "def get_max_salary_by_min_age(collection):\n",
    "    aggregate_salary_by_min_age = collection.aggregate([\n",
    "        {\"$group\": {\n",
    "            \"_id\": None,\n",
    "            \"min_salary\": {\"$min\": \"$salary\"}\n",
    "        }},\n",
    "        {\"$sort\": {\"age\": 1}},\n",
    "        {\"$limit\": 1}\n",
    "    ])\n",
    "    max_salary_by_min_age = next(aggregate_salary_by_min_age)['min_salary']\n",
    "    return max_salary_by_min_age"
   ]
  },
  {
   "cell_type": "code",
   "execution_count": 12,
   "id": "ad57475f",
   "metadata": {},
   "outputs": [],
   "source": [
    "# вывод минимальной заработной платы при максимальной возрасте\n",
    "def get_min_salary_by_max_age(collection):\n",
    "    aggregate_salary_by_max_age = collection.aggregate([\n",
    "        {\"$group\": {\n",
    "            \"_id\": None,\n",
    "            \"max_salary\": {\"$max\": \"$salary\"}\n",
    "        }},\n",
    "        {\"$sort\": {\"age\": 1}},\n",
    "        {\"$limit\": 1}\n",
    "    ])\n",
    "    min_salary_by_max_age = next(aggregate_salary_by_max_age)['max_salary']\n",
    "    return min_salary_by_max_age"
   ]
  },
  {
   "cell_type": "code",
   "execution_count": 13,
   "id": "7baef3f5",
   "metadata": {},
   "outputs": [],
   "source": [
    "# вывод минимального, среднего, максимального возраста по городу, при условии, \n",
    "# что заработная плата больше 50 000, отсортировать вывод по любому полю\n",
    "def get_age_stats_by_city(db, collection_name):\n",
    "    pipeline = [\n",
    "        {\n",
    "            '$match': {\n",
    "                'salary': {'$gt': 50000}\n",
    "            }\n",
    "        },\n",
    "        {\n",
    "            '$group': {\n",
    "                '_id': '$city',\n",
    "                'min_age': {'$min': '$age'},\n",
    "                'avg_age': {'$avg': '$age'},\n",
    "                'max_age': {'$max': '$age'}\n",
    "            }\n",
    "        },\n",
    "        {\n",
    "            '$sort': {'_id': 1}\n",
    "        }\n",
    "    ]\n",
    "    result = list(db[collection_name].aggregate(pipeline))\n",
    "    return result"
   ]
  },
  {
   "cell_type": "code",
   "execution_count": 14,
   "id": "5d206766",
   "metadata": {},
   "outputs": [],
   "source": [
    "# вывод минимальной, средней, максимальной salary в произвольно заданных диапазонах \n",
    "# по городу, профессии, и возрасту: 18<age<25 & 50<age<65\n",
    "def get_salary_stats_by_criteria(db, collection_name):\n",
    "    pipeline = [\n",
    "        {\n",
    "            '$match': {\n",
    "                '$or': [\n",
    "                    {'age': {'$gt': 18, '$lt': 25}},\n",
    "                    {'age': {'$gt': 50, '$lt': 65}}\n",
    "                ]\n",
    "            }\n",
    "        },\n",
    "        {\n",
    "            '$group': {\n",
    "                '_id': {\n",
    "                    'city': '$city',\n",
    "                    'profession': '$profession',\n",
    "                    'age_criteria': {\n",
    "                        '$cond': [\n",
    "                            {'$and': [{'$gt': ['$age', 18]}, {'$lt': ['$age', 25]}]},\n",
    "                            '18-24',\n",
    "                            '50-64'\n",
    "                        ]\n",
    "                    }\n",
    "                },\n",
    "                'min_salary': {'$min': '$salary'},\n",
    "                'avg_salary': {'$avg': '$salary'},\n",
    "                'max_salary': {'$max': '$salary'}\n",
    "            }\n",
    "        }\n",
    "    ]\n",
    "    result = list(db[collection_name].aggregate(pipeline))\n",
    "    return result"
   ]
  },
  {
   "cell_type": "code",
   "execution_count": 15,
   "id": "f245ff10",
   "metadata": {},
   "outputs": [],
   "source": [
    "# вывод минимального, среднего, максимального возраста по профессии, при условии, \n",
    "# что заработная плата 20000<salary<50 000, отсортировать вывод по любому полю\n",
    "def get_age_stats_by_profession(db, collection_name):\n",
    "    pipeline = [\n",
    "        {\n",
    "            '$match': {\n",
    "                'salary': {'$gt': 20000, '$lt': 50000}\n",
    "            }\n",
    "        },\n",
    "        {\n",
    "            '$group': {\n",
    "                '_id': '$profession',\n",
    "                'min_age': {'$min': '$age'},\n",
    "                'avg_age': {'$avg': '$age'},\n",
    "                'max_age': {'$max': '$age'}\n",
    "            }\n",
    "        },\n",
    "        {\n",
    "            '$sort': {'_id': 1}\n",
    "        }\n",
    "    ]\n",
    "    result = list(db[collection_name].aggregate(pipeline))\n",
    "    return result"
   ]
  },
  {
   "cell_type": "code",
   "execution_count": 16,
   "id": "0c36dfc8",
   "metadata": {},
   "outputs": [],
   "source": [
    "def default_json_encoder(obj):\n",
    "    if isinstance(obj, ObjectId):\n",
    "        return str(obj)\n",
    "    raise TypeError(f\"Object of type {obj.__class__.__name__} is not JSON serializable\")"
   ]
  },
  {
   "cell_type": "code",
   "execution_count": 17,
   "id": "1ec66644",
   "metadata": {},
   "outputs": [],
   "source": [
    "def write_result_to_json(result, file_path):\n",
    "    with open(file_path, 'w', encoding='utf-8') as file:\n",
    "        json.dump(result, file, indent=4, ensure_ascii=False, default=default_json_encoder)"
   ]
  },
  {
   "cell_type": "code",
   "execution_count": 18,
   "id": "fdc19e18",
   "metadata": {},
   "outputs": [],
   "source": [
    "# Параметры\n",
    "file_name = 'task_2_item.json'\n",
    "host = 'localhost'\n",
    "port = 27017\n",
    "db_name = 'mydatabase'\n",
    "collection_name = 'mycollection_2'"
   ]
  },
  {
   "cell_type": "code",
   "execution_count": 19,
   "id": "87699871",
   "metadata": {},
   "outputs": [],
   "source": [
    "data = read_data_from_json(file_name)"
   ]
  },
  {
   "cell_type": "code",
   "execution_count": 20,
   "id": "23a710b6",
   "metadata": {},
   "outputs": [],
   "source": [
    "write_data_to_mongodb(data, host, port, db_name, collection_name)"
   ]
  },
  {
   "cell_type": "code",
   "execution_count": 21,
   "id": "cd21c890",
   "metadata": {},
   "outputs": [],
   "source": [
    "client = MongoClient(host, port)\n",
    "db = client[db_name]\n",
    "collection = db[collection_name]"
   ]
  },
  {
   "cell_type": "code",
   "execution_count": 22,
   "id": "22896029",
   "metadata": {},
   "outputs": [],
   "source": [
    "# вывод минимальной, средней, максимальной salary\n",
    "salary_stats = get_salary_stats(collection)\n",
    "write_result_to_json(salary_stats, 'salary_stats_2.json')"
   ]
  },
  {
   "cell_type": "code",
   "execution_count": 23,
   "id": "ec484272",
   "metadata": {},
   "outputs": [],
   "source": [
    "# вывод количества данных по представленным профессиям\n",
    "profession_stats = get_data_count_by_profession(collection)\n",
    "write_result_to_json(profession_stats, 'profession_stats_2.json')"
   ]
  },
  {
   "cell_type": "code",
   "execution_count": 24,
   "id": "5d95f675",
   "metadata": {},
   "outputs": [],
   "source": [
    "# Вывод минимальной, средней и максимальной зарплаты по городу\n",
    "salary_by_city = get_salary_by_city(collection)\n",
    "write_result_to_json(salary_by_city, 'salary_by_city_2.json')"
   ]
  },
  {
   "cell_type": "code",
   "execution_count": 25,
   "id": "fd024dda",
   "metadata": {},
   "outputs": [],
   "source": [
    "# вывод минимальной, средней, максимальной salary по профессии\n",
    "salary_by_profession = get_salary_by_profession(collection)\n",
    "write_result_to_json(salary_by_profession, 'salary_by_profession_2.json')"
   ]
  },
  {
   "cell_type": "code",
   "execution_count": 26,
   "id": "8be650af",
   "metadata": {},
   "outputs": [],
   "source": [
    "# вывод минимального, среднего, максимального возраста по городу\n",
    "age_by_city = get_age_by_city(collection)\n",
    "write_result_to_json(age_by_city, 'age_by_city_2.json')"
   ]
  },
  {
   "cell_type": "code",
   "execution_count": 27,
   "id": "1f5fce96",
   "metadata": {},
   "outputs": [],
   "source": [
    "# вывод минимального, среднего, максимального возраста по профессии \n",
    "age_by_profession = get_age_by_profession(collection)\n",
    "write_result_to_json(age_by_profession, 'age_by_profession_2.json')"
   ]
  },
  {
   "cell_type": "code",
   "execution_count": 28,
   "id": "d4e4f391",
   "metadata": {},
   "outputs": [],
   "source": [
    "# вывод максимальной заработной платы при минимальном возрасте\n",
    "max_salary_by_min_age = get_max_salary_by_min_age(collection)\n",
    "write_result_to_json(max_salary_by_min_age, 'max_salary_by_min_age_2.json')"
   ]
  },
  {
   "cell_type": "code",
   "execution_count": 29,
   "id": "3869981e",
   "metadata": {},
   "outputs": [],
   "source": [
    "# вывод минимальной заработной платы при максимальной возрасте\n",
    "min_salary_by_max_age = get_min_salary_by_max_age(collection)\n",
    "write_result_to_json(min_salary_by_max_age, 'min_salary_by_max_age_2.json')"
   ]
  },
  {
   "cell_type": "code",
   "execution_count": 30,
   "id": "ef74d754",
   "metadata": {},
   "outputs": [],
   "source": [
    "# вывод минимального, среднего, максимального возраста по городу, при условии, \n",
    "# что заработная плата больше 50 000, отсортировать вывод по любому полю\n",
    "result = get_age_stats_by_city(db, collection_name)\n",
    "write_result_to_json(result, 'result_1_2.json')"
   ]
  },
  {
   "cell_type": "code",
   "execution_count": 31,
   "id": "7a51487d",
   "metadata": {},
   "outputs": [],
   "source": [
    "# вывод минимальной, средней, максимальной salary в произвольно заданных диапазонах \n",
    "# по городу, профессии, и возрасту: 18<age<25 & 50<age<65\n",
    "result = get_salary_stats_by_criteria(db, collection_name)\n",
    "write_result_to_json(result, 'result_2_2.json')"
   ]
  },
  {
   "cell_type": "code",
   "execution_count": 32,
   "id": "4e379a54",
   "metadata": {},
   "outputs": [],
   "source": [
    "# вывод минимального, среднего, максимального возраста по профессии, при условии, \n",
    "# что заработная плата 20000<salary<50 000, отсортировать вывод по любому полю\n",
    "result = get_age_stats_by_profession(db, collection_name)\n",
    "write_result_to_json(result, 'result_3_2.json')"
   ]
  },
  {
   "cell_type": "code",
   "execution_count": 33,
   "id": "1611edc6",
   "metadata": {},
   "outputs": [],
   "source": [
    "# Закрытие соединения с MongoDB\n",
    "client.close()"
   ]
  },
  {
   "cell_type": "code",
   "execution_count": null,
   "id": "fe9ff442",
   "metadata": {},
   "outputs": [],
   "source": []
  }
 ],
 "metadata": {
  "kernelspec": {
   "display_name": "Python 3 (ipykernel)",
   "language": "python",
   "name": "python3"
  },
  "language_info": {
   "codemirror_mode": {
    "name": "ipython",
    "version": 3
   },
   "file_extension": ".py",
   "mimetype": "text/x-python",
   "name": "python",
   "nbconvert_exporter": "python",
   "pygments_lexer": "ipython3",
   "version": "3.9.7"
  }
 },
 "nbformat": 4,
 "nbformat_minor": 5
}
