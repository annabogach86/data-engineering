{
 "cells": [
  {
   "cell_type": "code",
   "execution_count": 1,
   "id": "d6c3b812",
   "metadata": {},
   "outputs": [],
   "source": [
    "# Дан файл с некоторыми данными. Формат файла – произвольный. \n",
    "# Данные некоторым образом связаны с теми, что были добавлены в первом задании. \n",
    "# Необходимо проанализировать и установить связь между таблицами. \n",
    "# Создать таблицу и наполнить ее прочитанными данными из файла. \n",
    "# Реализовать и выполнить 3 запроса, где используется связь между таблицами."
   ]
  },
  {
   "cell_type": "code",
   "execution_count": 3,
   "id": "4c2ec72c",
   "metadata": {},
   "outputs": [],
   "source": [
    "import pandas as pd\n",
    "import sqlite3\n",
    "import pickle\n",
    "import json"
   ]
  },
  {
   "cell_type": "code",
   "execution_count": 4,
   "id": "e95dfaa1",
   "metadata": {},
   "outputs": [
    {
     "data": {
      "text/plain": [
       "[{'name': 'Банк 35',\n",
       "  'rating': 4.3,\n",
       "  'convenience': 1,\n",
       "  'security': 1,\n",
       "  'functionality': 1,\n",
       "  'comment': 'У этого здания отличная архитектура.'},\n",
       " {'name': 'Тенета 54',\n",
       "  'rating': 0.5,\n",
       "  'convenience': 1,\n",
       "  'security': 4,\n",
       "  'functionality': 2,\n",
       "  'comment': 'Это здание построено из стандартных строительных материалов.'},\n",
       " {'name': 'Музей 19',\n",
       "  'rating': 4.5,\n",
       "  'convenience': 5,\n",
       "  'security': 4,\n",
       "  'functionality': 1,\n",
       "  'comment': 'У этого здания отличная архитектура.'}]"
      ]
     },
     "execution_count": 4,
     "metadata": {},
     "output_type": "execute_result"
    }
   ],
   "source": [
    "with open('task_2_var_17_subitem.json', 'r', encoding='utf-8') as file:\n",
    "    json_data = json.load(file)\n",
    "json_data[0:3]    "
   ]
  },
  {
   "cell_type": "code",
   "execution_count": 5,
   "id": "80d5b9d4",
   "metadata": {},
   "outputs": [],
   "source": [
    "# Создание таблицы в базе данных\n",
    "def create_table():\n",
    "    conn = sqlite3.connect('database.db')\n",
    "    c = conn.cursor()\n",
    "    c.execute('''CREATE TABLE IF NOT EXISTS properties_2\n",
    "                  (name TEXT, \n",
    "                   rating FLOAT, \n",
    "                   convenience INTEGER, \n",
    "                   security INTEGER, \n",
    "                   functionality INTEGER, \n",
    "                   comment TEXT)''')\n",
    "    conn.commit()\n",
    "    conn.close()"
   ]
  },
  {
   "cell_type": "code",
   "execution_count": 6,
   "id": "5714bc39",
   "metadata": {},
   "outputs": [],
   "source": [
    "# Чтение данных из файла в таблицу\n",
    "def insert_data():\n",
    "    conn = sqlite3.connect('database.db')\n",
    "    c = conn.cursor()\n",
    "    # Чтение данных из файла task_1_var_17_item.pkl\n",
    "    with open('task_2_var_17_subitem.json', 'r', encoding='utf-8') as file:\n",
    "        json_data = json.load(file)\n",
    "    # Запись данных в таблицу\n",
    "    for item in json_data:\n",
    "        c.execute(\"INSERT OR IGNORE INTO properties_2 VALUES (:name, :rating, :convenience, :security, :functionality, :comment)\",\n",
    "                   {'name': item['name'], \n",
    "                    'rating': item['rating'], \n",
    "                    'convenience': item['convenience'], \n",
    "                    'security': item['security'], \n",
    "                    'functionality': item['functionality'], \n",
    "                    'comment': item['comment']})\n",
    "    # Сохранение изменений\n",
    "    conn.commit()\n",
    "    conn.close()    "
   ]
  },
  {
   "cell_type": "code",
   "execution_count": 7,
   "id": "1c237990",
   "metadata": {},
   "outputs": [],
   "source": [
    "# Создание таблицы и запись данных\n",
    "create_table()\n",
    "insert_data()"
   ]
  },
  {
   "cell_type": "code",
   "execution_count": 52,
   "id": "feae7f3d",
   "metadata": {},
   "outputs": [],
   "source": [
    "# Объединить две таблицы properties и properties_2 по полю name\n",
    "\n",
    "\n",
    "# Получить все свойства и их рейтинги\n",
    "def oll_properties(): \n",
    "    # Устанавливаем соединение базой данных\n",
    "    conn = sqlite3.connect('database.db')\n",
    "    cursor = conn.cursor()\n",
    "    # Выполняем запрос\n",
    "    cursor.execute('''\n",
    "        SELECT p.name, p.prob_price, p_2.rating\n",
    "        FROM properties p\n",
    "        INNER JOIN properties_2 p_2 ON p.name = p_2.name\n",
    "    ''')\n",
    "    # Получаем результат запроса\n",
    "    results = cursor.fetchall()\n",
    "\n",
    "    # Создаем список для хранения результатов\n",
    "    property_list = []\n",
    "\n",
    "    # Проходимся по каждой строке и добавляем данные в список\n",
    "    for row in results:\n",
    "        property_data = {\n",
    "            'Свойство': row[0],\n",
    "            'Цена': row[1],\n",
    "            'Рейтинг': row[2]\n",
    "        }\n",
    "        property_list.append(property_data)\n",
    "\n",
    "    # Закрываем соединение\n",
    "    conn.close()\n",
    "\n",
    "    # Записываем список в файл JSON\n",
    "    with open('oll_properties_2.json', 'w', encoding='utf-8') as json_file:\n",
    "        json.dump(property_list, json_file, ensure_ascii=False)\n",
    "\n",
    "oll_properties()"
   ]
  },
  {
   "cell_type": "code",
   "execution_count": 53,
   "id": "c5e22bc6",
   "metadata": {},
   "outputs": [],
   "source": [
    "# Получить все свойства с комментариями и рейтингом выше 4\n",
    "def four_properties(): \n",
    "    # Устанавливаем соединение базой данных\n",
    "    conn = sqlite3.connect('database.db')\n",
    "    cursor = conn.cursor()\n",
    "    # Выполняем запрос\n",
    "    cursor.execute('''\n",
    "        SELECT p.name, p_2.comment, p_2.rating\n",
    "        FROM properties p\n",
    "        JOIN properties_2 p_2 ON p.name = p_2.name\n",
    "        WHERE p_2.rating > 4\n",
    "    ''')\n",
    "    # Получаем результат запроса\n",
    "    results = cursor.fetchall()\n",
    "\n",
    "    # Создаем список для хранения результатов\n",
    "    property_list = []\n",
    "\n",
    "    # Проходимся по каждой строке и добавляем данные в список\n",
    "    for row in results:\n",
    "        property_data = {\n",
    "            'Свойство': row[0],\n",
    "            'Цена': row[1],\n",
    "            'Рейтинг': row[2]\n",
    "        }\n",
    "        property_list.append(property_data)\n",
    "\n",
    "    # Закрываем соединение\n",
    "    conn.close()\n",
    "\n",
    "    # Записываем список в файл JSON\n",
    "    with open('four_properties_2.json', 'w', encoding='utf-8') as json_file:\n",
    "        json.dump(property_list, json_file, ensure_ascii=False)\n",
    "\n",
    "four_properties()"
   ]
  },
  {
   "cell_type": "code",
   "execution_count": 54,
   "id": "d2124762",
   "metadata": {},
   "outputs": [],
   "source": [
    "# Получить все свойства с архитектурой и удобством выше 3\n",
    "def three_properties(): \n",
    "    # Устанавливаем соединение базой данных\n",
    "    conn = sqlite3.connect('database.db')\n",
    "    cursor = conn.cursor()\n",
    "    # Выполняем запрос\n",
    "    cursor.execute('''\n",
    "        SELECT p.name, p_2.comment\n",
    "        FROM properties p\n",
    "        JOIN properties_2 p_2 ON p.name = p_2.name\n",
    "        WHERE p_2.convenience > 3\n",
    "    ''')\n",
    "    # Получаем результат запроса\n",
    "    results = cursor.fetchall()\n",
    "\n",
    "    # Создаем список для хранения результатов\n",
    "    property_list = []\n",
    "\n",
    "    # Проходимся по каждой строке и добавляем данные в список\n",
    "    for row in results:\n",
    "        property_data = {\n",
    "            'Свойство': row[0],\n",
    "            'Комментарий': row[1],\n",
    "        }\n",
    "        property_list.append(property_data)\n",
    "\n",
    "    # Закрываем соединение\n",
    "    conn.close()\n",
    "\n",
    "    # Записываем список в файл JSON\n",
    "    with open('three_properties_2.json', 'w', encoding='utf-8') as json_file:\n",
    "        json.dump(property_list, json_file, ensure_ascii=False)\n",
    "\n",
    "three_properties()"
   ]
  },
  {
   "cell_type": "code",
   "execution_count": null,
   "id": "aeb93782",
   "metadata": {},
   "outputs": [],
   "source": []
  }
 ],
 "metadata": {
  "kernelspec": {
   "display_name": "Python 3 (ipykernel)",
   "language": "python",
   "name": "python3"
  },
  "language_info": {
   "codemirror_mode": {
    "name": "ipython",
    "version": 3
   },
   "file_extension": ".py",
   "mimetype": "text/x-python",
   "name": "python",
   "nbconvert_exporter": "python",
   "pygments_lexer": "ipython3",
   "version": "3.9.7"
  }
 },
 "nbformat": 4,
 "nbformat_minor": 5
}
