{
 "cells": [
  {
   "cell_type": "code",
   "execution_count": 214,
   "id": "88532185",
   "metadata": {},
   "outputs": [],
   "source": [
    "import requests\n",
    "from bs4 import BeautifulSoup\n",
    "import json\n",
    "import re\n",
    "from time import sleep # уменьшить нашрузку на сайт\n",
    "import math\n",
    "import collections\n",
    "import pandas as pd"
   ]
  },
  {
   "cell_type": "code",
   "execution_count": 215,
   "id": "fab4f7ea",
   "metadata": {},
   "outputs": [],
   "source": [
    "# find - помогает получить содержимое хэш-тега\n",
    "# get - помогает получить содержимое атрибута\n",
    "#for i in data:\n",
    "    #sleep(3)\n",
    "    #name = i.find('a', class_='product-list1__title').text.replace('\\n', '')\n",
    "    #price = i.find('span', class_='product-list1__price').text.strip()\n",
    "    #price = price.replace('9\\xa0', '')\n",
    "    #url_img = i.find('div', class_='product-list1__foto').get('style')\n",
    "    #url_img = re.search(r'url\\((.*?)\\)', url_img).group(1)\n",
    "    # собираем все карточки\n",
    "    #print(name + \"\\n\" + price + \"\\n\", url_img +\"\\n\\n\")"
   ]
  },
  {
   "cell_type": "code",
   "execution_count": 216,
   "id": "aa0e0c2c",
   "metadata": {},
   "outputs": [],
   "source": [
    "url = 'https://belleyou.ru/catalog/odezhda/bryuki/'\n",
    "# получение ответа от сайта\n",
    "response = requests.get(url)\n",
    "# подключаем анализатор html кода lxml, что бы легко можно было находить элементы\n",
    "soup = BeautifulSoup(response.text, 'lxml') # html.parser альтернатива\n",
    "# find вернет хэш_тег div\n",
    "# find_all - пройдется по всем \"div\" с class_= \"product-list1__item catalog-item\"\n",
    "data = soup.find_all(\"div\", class_=\"product-list1__item catalog-item\")\n",
    "\n",
    "def get_url():\n",
    "    for i in data:\n",
    "        card_url = \"https://belleyou.ru\" + i.find('a').get('href')\n",
    "        yield card_url"
   ]
  },
  {
   "cell_type": "code",
   "execution_count": 217,
   "id": "923e45f2",
   "metadata": {},
   "outputs": [],
   "source": [
    "results = []\n",
    "def array():\n",
    "    for card_url in get_url():\n",
    "        response = requests.get(card_url)\n",
    "        soup = BeautifulSoup(response.text, 'lxml')\n",
    "        data = soup.find(\"div\", class_=\"content-information1 bx-catalog-element\")\n",
    "\n",
    "        name = data.find('h1', class_='bx-title content-information1__title1').text\n",
    "        price = data.find('span', class_='content-information1__price-value_old').text.strip()\n",
    "        price_1 = price.replace('\\xa0', '')\n",
    "        price_2 = price_1.replace('₽', '')\n",
    "        price_3 = price_2.replace(' ', '')\n",
    "        price_4 = float(price_3)\n",
    "        compound = data.find('div', class_='content-information1__info-content').text\n",
    "        compound_1 = compound.replace('\\n\\n', '')\n",
    "        art = data.find('div', class_='content-information1__title2 mod1').text.strip()\n",
    "        url_img = data.find('img').get('src')\n",
    "\n",
    "        result = {\n",
    "            'name': name,\n",
    "            'price': price_4,\n",
    "            'compound': compound_1,\n",
    "            'art': art,\n",
    "            'url_img': url_img\n",
    "        }\n",
    "        results.append(result)\n",
    "\n",
    "    with open('parsing_results_5_1.json', 'w', encoding = 'utf-8') as file:\n",
    "        json.dump(results, file, ensure_ascii=False)\n",
    "\n",
    "array()"
   ]
  },
  {
   "cell_type": "code",
   "execution_count": 218,
   "id": "a0e8a5e9",
   "metadata": {},
   "outputs": [],
   "source": [
    "# Отсортируeм значения по полю ['price'] в убывающем порядке:\n",
    "sort = sorted(results, key = lambda x: x['price'], reverse = True)"
   ]
  },
  {
   "cell_type": "code",
   "execution_count": 219,
   "id": "ecaab341",
   "metadata": {},
   "outputs": [],
   "source": [
    "# Выполним фильтрацию по полю ['price']:\n",
    "filtered_results = []\n",
    "for br in results:\n",
    "    if br['price'] > 7000:\n",
    "        filtered_results.append(br)       "
   ]
  },
  {
   "cell_type": "code",
   "execution_count": 220,
   "id": "8ccde433",
   "metadata": {},
   "outputs": [],
   "source": [
    "with open(\"parsing_results_filtered_5_1.json\", \"w\", encoding = 'utf-8') as file:\n",
    "    file.write(json.dumps(filtered_results, ensure_ascii=False))"
   ]
  },
  {
   "cell_type": "code",
   "execution_count": 221,
   "id": "987867a0",
   "metadata": {},
   "outputs": [],
   "source": [
    "# для числового поля ['price'] посчитаем статистические характеристики (сумма, мин/макс, среднее и т.д.)\n",
    "stats_results = []\n",
    "df = pd.DataFrame(results)\n",
    "pd.set_option('display.float_format', '{:.1f}'.format)\n",
    "stats = df['price'].agg(['max', 'min', 'mean', 'median', 'std']).to_dict()\n",
    "stats_results.append(stats)"
   ]
  },
  {
   "cell_type": "code",
   "execution_count": 222,
   "id": "e5f9ca56",
   "metadata": {},
   "outputs": [],
   "source": [
    "# для текстового поля ['name'] посчитайте частоту меток\n",
    "text_results = []\n",
    "text = [item['name'] for item in results]\n",
    "f1 = collections.Counter(text)\n",
    "text_results.append(f1)"
   ]
  },
  {
   "cell_type": "code",
   "execution_count": null,
   "id": "f30a0639",
   "metadata": {},
   "outputs": [],
   "source": []
  }
 ],
 "metadata": {
  "kernelspec": {
   "display_name": "Python 3 (ipykernel)",
   "language": "python",
   "name": "python3"
  },
  "language_info": {
   "codemirror_mode": {
    "name": "ipython",
    "version": 3
   },
   "file_extension": ".py",
   "mimetype": "text/x-python",
   "name": "python",
   "nbconvert_exporter": "python",
   "pygments_lexer": "ipython3",
   "version": "3.9.7"
  }
 },
 "nbformat": 4,
 "nbformat_minor": 5
}
