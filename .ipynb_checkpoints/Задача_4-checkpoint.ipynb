{
 "cells": [
  {
   "cell_type": "code",
   "execution_count": null,
   "id": "8d3a9ae2",
   "metadata": {},
   "outputs": [],
   "source": [
    "# Исследовать структуру xml-файлов, чтобы произвести парсинг всех данных. \n",
    "# В каждом файле содержится информация об одном или нескольких объектах из случайной предметной области. \n",
    "# Перечень всех характеристик объекта может меняться (у отдельного объекта могут отсутствовать некоторые характеристики). \n",
    "# Полученные данные собрать и записать в json. \n",
    "# Выполните также ряд операций с данными:\n",
    "# отсортируйте значения по одному из доступных полей\n",
    "# выполните фильтрацию по другому полю (запишите результат отдельно)\n",
    "# для одного выбранного числового поля посчитайте статистические характеристики (сумма, мин/макс, среднее и т.д.)\n",
    "# для одного текстового поля посчитайте частоту меток"
   ]
  },
  {
   "cell_type": "code",
   "execution_count": 2,
   "id": "aac9f58a",
   "metadata": {},
   "outputs": [],
   "source": [
    "from bs4 import BeautifulSoup\n",
    "import re\n",
    "import json\n",
    "import math\n",
    "import collections\n",
    "import pandas as pd\n",
    "import xml"
   ]
  },
  {
   "cell_type": "code",
   "execution_count": 3,
   "id": "057144f5",
   "metadata": {},
   "outputs": [],
   "source": [
    "def handle_file(file_name):\n",
    "    items = []\n",
    "    with open(file_name, encoding = 'utf-8') as file:\n",
    "        text = \"\"\n",
    "        for row in file.readlines():\n",
    "            text += row\n",
    "        root = BeautifulSoup(text, 'lxml')\n",
    "        for clothing in root.find_all(\"clothing\"):\n",
    "            item = {}\n",
    "            for i in clothing.contents:\n",
    "                if i.name is None:\n",
    "                    continue\n",
    "                elif i.name == \"price\" or i.name == \"reviews\":\n",
    "                    item[i.name] = int(i.get_text().strip())\n",
    "                elif i.name == \"price\" or i.name == \"rating\":\n",
    "                    item[i.name] = float(i.get_text().strip())\n",
    "                elif i.name == \"new\":\n",
    "                    item[i.name] = i.get_text().strip() == '+'\n",
    "                elif i.name == \"exclusive\" or i.name == \"sporty\":\n",
    "                    item[i.name] = i.get_text().strip() == 'yes'\n",
    "                else:\n",
    "                    item[i.name] = i.get_text().strip()\n",
    "            items.append(item)\n",
    "    return items"
   ]
  },
  {
   "cell_type": "code",
   "execution_count": 14,
   "id": "3fa9d0be",
   "metadata": {},
   "outputs": [
    {
     "name": "stdout",
     "output_type": "stream",
     "text": [
      "[{'id': '329936680', 'name': 'Brooks Pants P-3037', 'category': 'Pants', 'size': 'XL', 'color': 'Красный', 'material': 'Шелк', 'price': 777176, 'rating': 4.21, 'reviews': 95170, 'new': True, 'exclusive': True}]\n"
     ]
    }
   ],
   "source": [
    "items = []\n",
    "for i in range(1,101):\n",
    "  file_name = f'./4/{i}.xml'\n",
    "  result = handle_file(file_name)\n",
    "  items += result\n",
    "print(items[1:2])"
   ]
  },
  {
   "cell_type": "code",
   "execution_count": 15,
   "id": "668605ff",
   "metadata": {},
   "outputs": [],
   "source": [
    "with open('result_all_17_4.json', 'w', encoding = 'utf-8') as f:\n",
    "    f.write(json.dumps(items, ensure_ascii=False))"
   ]
  },
  {
   "cell_type": "code",
   "execution_count": 18,
   "id": "a7c0d8b8",
   "metadata": {},
   "outputs": [
    {
     "name": "stdout",
     "output_type": "stream",
     "text": [
      "[{'id': '677328804', 'name': 'Vans Sweater L-6420', 'category': 'Sweater', 'size': 'XL', 'color': 'Оранжевый', 'material': 'Шерсть', 'price': 999386, 'rating': 1.56, 'reviews': 572984, 'exclusive': False, 'sporty': False}, {'id': '602286011', 'name': 'Fila Handbags D-7572', 'category': 'Handbags', 'size': 'M', 'color': 'Зеленый', 'material': 'Нейлон', 'price': 999051, 'rating': 2.24, 'reviews': 724075, 'new': True, 'exclusive': True, 'sporty': False}, {'id': '760371393', 'name': 'Vans Blouse Y-4713', 'category': 'Blouse', 'size': 'L', 'color': 'Фиолетовый', 'material': 'Хлопок', 'price': 998986, 'rating': 4.01, 'reviews': 570773, 'new': True, 'exclusive': True, 'sporty': False}, {'id': '124984297', 'name': 'Nike Socks P-9850', 'category': 'Socks', 'size': 'M', 'color': 'Красный', 'material': 'Хлопок', 'price': 998700, 'rating': 2.51, 'reviews': 749253, 'new': False, 'exclusive': False}]\n"
     ]
    }
   ],
   "source": [
    "# Сортировка значений по полю 'price' в убывающем порядке\n",
    "items = sorted(items, key = lambda x: x['price'], reverse = True)\n",
    "print(items[1:5])"
   ]
  },
  {
   "cell_type": "code",
   "execution_count": 19,
   "id": "29130b66",
   "metadata": {},
   "outputs": [
    {
     "name": "stdout",
     "output_type": "stream",
     "text": [
      "[{'id': '124984297', 'name': 'Nike Socks P-9850', 'category': 'Socks', 'size': 'M', 'color': 'Красный', 'material': 'Хлопок', 'price': 998700, 'rating': 2.51, 'reviews': 749253, 'new': False, 'exclusive': False}, {'id': '772160776', 'name': 'Adidas Blouse Z-9093', 'category': 'Blouse', 'size': 'M', 'color': 'Зеленый', 'material': 'Хлопок', 'price': 998517, 'rating': 2.62, 'reviews': 995355, 'new': False, 'exclusive': True, 'sporty': False}, {'id': '178506825', 'name': 'Addidas Skirt W-1390', 'category': 'Skirt', 'size': 'M', 'color': 'Желтый', 'material': 'Хлопок', 'price': 996643, 'rating': 3.5, 'reviews': 687155, 'new': False, 'exclusive': True}, {'id': '387480370', 'name': 'Puma Umbrellas B-7039', 'category': 'Umbrellas', 'size': 'M', 'color': 'Синий', 'material': 'Лен', 'price': 995052, 'rating': 3.52, 'reviews': 892965, 'exclusive': True}]\n"
     ]
    }
   ],
   "source": [
    "# Выполним фильтрацию по полю ['size']:\n",
    "filtered_items = []\n",
    "for size in items:\n",
    "    if size['size'] == 'M':\n",
    "        filtered_items.append(size)\n",
    "print(filtered_items[1:5])     "
   ]
  },
  {
   "cell_type": "code",
   "execution_count": 20,
   "id": "c53cc6d4",
   "metadata": {},
   "outputs": [],
   "source": [
    "with open(\"result_filtered_17_4.json\", \"w\", encoding = 'utf-8') as file:\n",
    "    file.write(json.dumps(filtered_items, ensure_ascii=False))"
   ]
  },
  {
   "cell_type": "code",
   "execution_count": 21,
   "id": "5a526921",
   "metadata": {},
   "outputs": [
    {
     "name": "stdout",
     "output_type": "stream",
     "text": [
      "[{'max': 999781.0, 'min': 1825.0, 'mean': 502653.1551076187, 'median': 504970.0, 'std': 283653.0096127634}]\n"
     ]
    }
   ],
   "source": [
    "# для числового поля ['reviews'] посчитаем статистические характеристики (сумма, мин/макс, среднее и т.д.)\n",
    "stats_items = []\n",
    "df = pd.DataFrame(items)\n",
    "pd.set_option('display.float_format', '{:.1f}'.format)\n",
    "stats = df['reviews'].agg(['max', 'min', 'mean', 'median', 'std']).to_dict()\n",
    "stats_items.append(stats)\n",
    "print(stats_items)"
   ]
  },
  {
   "cell_type": "code",
   "execution_count": 23,
   "id": "da43abd5",
   "metadata": {},
   "outputs": [
    {
     "name": "stdout",
     "output_type": "stream",
     "text": [
      "[Counter({'Shoes': 204, 'Socks': 201, 'Umbrellas': 198, 'Skirt': 197, 'Jacket': 194, 'Handbags': 194, 'Blouse': 194, 'Sweater': 189, 'Jeans': 184, 'Hat': 183, 'Pants': 175, 'Dress': 172, 'T-shirt': 169, 'Shirt': 163, 'Belts': 162, 'Gloves': 148})]\n"
     ]
    }
   ],
   "source": [
    "# для текстового поля ['category'] посчитайте частоту меток\n",
    "text_items = []\n",
    "category = [item['category'] for item in items]\n",
    "f1 = collections.Counter(category)\n",
    "text_items.append(f1)\n",
    "print(text_items)"
   ]
  }
 ],
 "metadata": {
  "kernelspec": {
   "display_name": "Python 3 (ipykernel)",
   "language": "python",
   "name": "python3"
  },
  "language_info": {
   "codemirror_mode": {
    "name": "ipython",
    "version": 3
   },
   "file_extension": ".py",
   "mimetype": "text/x-python",
   "name": "python",
   "nbconvert_exporter": "python",
   "pygments_lexer": "ipython3",
   "version": "3.9.7"
  }
 },
 "nbformat": 4,
 "nbformat_minor": 5
}
