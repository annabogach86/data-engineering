{
 "cells": [
  {
   "cell_type": "code",
   "execution_count": 1,
   "id": "384982f5",
   "metadata": {},
   "outputs": [],
   "source": [
    "# Найдите набор данных (csv, json), размер которого превышает 20-30Мб.\n",
    "# Отберите для дальнейшей работы в нем 7-10 полей \n",
    "# (пропишите это преобразование в коде). \n",
    "# Для полей, представляющих числовые данные, рассчитайте характеристики: \n",
    "# максимальное и минимальное значения, \n",
    "# среднее арифметическое, \n",
    "# сумму, стандартное отклонение. \n",
    "# Для полей, представляющий текстовые данные \n",
    "# (в виде меток некоторых категорий) рассчитайте частоту встречаемости. \n",
    "# Сохраните полученные расчеты в json. \n",
    "# Сохраните набор данных с помощью разных форматов: csv, json, msgpack, pkl. \n",
    "# Сравните размеры полученных файлов.\n"
   ]
  },
  {
   "cell_type": "code",
   "execution_count": 39,
   "id": "6946b4e3",
   "metadata": {},
   "outputs": [],
   "source": [
    "import json\n",
    "import pickle\n",
    "import msgpack\n",
    "import csv\n",
    "import os\n",
    "import pandas as pd\n",
    "import collections"
   ]
  },
  {
   "cell_type": "code",
   "execution_count": 40,
   "id": "8d2a2111",
   "metadata": {},
   "outputs": [],
   "source": [
    "face = pd.read_csv('raw_counts.csv', encoding = 'windows-1251', low_memory=False)"
   ]
  },
  {
   "cell_type": "code",
   "execution_count": 41,
   "id": "d6d220fa",
   "metadata": {},
   "outputs": [],
   "source": [
    "face = face.rename(columns = {'': 'ID', 'DOX_C241 / 9522-MT-0001': 'MT-0001', 'DOX_C241 / 9522-MT-0002': 'MT-0002',\n",
    "                              'CONTR_C241 / 9522-MT-0003': 'MT-0003',\n",
    "                              'CONTR_C241 / 9522-MT-0004': 'MT-0004',\n",
    "                              'DOX_4838 / 9522-MT-0005': 'MT-0005',\n",
    "                              'DOX_4838 / 9522-MT-0006': 'MT-0006',\n",
    "                              'CONTR_4838 / 9522-MT-0007': 'MT-0007',\n",
    "                              'CONTR_4838 / 9522-MT-0008': 'MT-0008',\n",
    "                              'DOX_C241 / 9522-MT-0009': 'MT-0009',\n",
    "                              'DOX_C241 / 9522-MT-0010': 'MT-0010',\n",
    "                              'CONTR_C241 / 9522-MT-0011': 'MT-0011',\n",
    "                              'CONTR_C241 / 9522-MT-0012': 'MT-0012',\n",
    "                              'DOX_4838 / 9522-MT-0013': 'MT-0013',\n",
    "                              'DOX_4838 / 9522-MT-0014': 'MT-0014',\n",
    "                              'CONTR_4838 / 9522-MT-0015': 'MT-0015',\n",
    "                              'CONTR_4838 / 9522-MT-0016': 'MT-0016',\n",
    "                              'DOX_C241 / 9522-MT-0017': 'MT-0017',\n",
    "                              'DOX_C241 / 9522-MT-0018': 'MT-0018',\n",
    "                              'CONTR_C241 / 9522-MT-0019': 'MT-0019',\n",
    "                              'CONTR_C241 / 9522-MT-0020': 'MT-0020',\n",
    "                              'DOX_4838 / 9522-MT-0021': 'MT-0021',\n",
    "                              'DOX_4838 / 9522-MT-0022': 'MT-0022',\n",
    "                              'CONTR_4838 / 9522-MT-0023': 'MT-0023',\n",
    "                              'CONTR_4838 / 9522-MT-0024': 'MT-0024'\n",
    "                             })"
   ]
  },
  {
   "cell_type": "code",
   "execution_count": 42,
   "id": "6163ae40",
   "metadata": {},
   "outputs": [],
   "source": [
    "counts = face[['MT-0001', 'MT-0002', 'MT-0003', 'MT-0004', 'MT-0005', 'MT-0006', 'MT-0007', 'MT-0008', 'MT-0009', 'MT-0010', 'MT-0011', 'MT-0012', 'MT-0013', 'MT-0014', 'MT-0015', 'MT-0016', 'MT-0017', 'MT-0018', 'MT-0019', 'MT-0020', 'MT-0021', 'MT-0022', 'MT-0023', 'MT-0024']]"
   ]
  },
  {
   "cell_type": "code",
   "execution_count": 43,
   "id": "d9f284d4",
   "metadata": {},
   "outputs": [],
   "source": [
    "def calculate_statistics(face):\n",
    "    result = []\n",
    "    pd.set_option('display.float_format', '{:.2f}'.format)\n",
    "    \n",
    "    columns = ['MT-0001', 'MT-0002', 'MT-0003', 'MT-0004', 'MT-0005', 'MT-0006',\n",
    "               'MT-0007', 'MT-0008', 'MT-0009', 'MT-0010', 'MT-0011', 'MT-0012',\n",
    "               'MT-0013', 'MT-0014', 'MT-0015', 'MT-0016', 'MT-0017', 'MT-0018',\n",
    "               'MT-0019', 'MT-0020', 'MT-0021', 'MT-0022', 'MT-0023', 'MT-0024']\n",
    "    \n",
    "    for column in columns:\n",
    "        result.append({\n",
    "            f'{column}_min': int(face[column].min()),\n",
    "            f'{column}_max': int(face[column].max()),\n",
    "            f'{column}_mean': int(face[column].mean()),\n",
    "            f'{column}_std': int(face[column].std()),\n",
    "            f'{column}_sum': int(face[column].sum()),\n",
    "        })\n",
    "    \n",
    "    return result"
   ]
  },
  {
   "cell_type": "code",
   "execution_count": 76,
   "id": "b5068ef5",
   "metadata": {},
   "outputs": [],
   "source": [
    "# print(calculate_statistics(face))"
   ]
  },
  {
   "cell_type": "code",
   "execution_count": 77,
   "id": "17e02184",
   "metadata": {},
   "outputs": [],
   "source": [
    "result_1 = []\n",
    "result_1.append(calculate_statistics(face))\n",
    "# print(result_1)"
   ]
  },
  {
   "cell_type": "code",
   "execution_count": 78,
   "id": "102fe377",
   "metadata": {},
   "outputs": [],
   "source": [
    "face_1 = face['ensemblid']\n",
    "f_1 = collections.Counter(face_1)\n",
    "result_1.append(f_1)\n",
    "# print(result_1)"
   ]
  },
  {
   "cell_type": "code",
   "execution_count": 79,
   "id": "6b53a472",
   "metadata": {},
   "outputs": [],
   "source": [
    "face_2 = face['gene_symbol']\n",
    "f_2 = collections.Counter(face_2)\n",
    "result_1.append(f_2)\n",
    "# print(result_1)"
   ]
  },
  {
   "cell_type": "code",
   "execution_count": 71,
   "id": "4b7e8cca",
   "metadata": {},
   "outputs": [],
   "source": [
    "# Сохраняем полученный результат в json:\n",
    "with open('result_17_5_2.json', 'w') as file:\n",
    "    file.write(json.dumps(result_1))"
   ]
  },
  {
   "cell_type": "code",
   "execution_count": 72,
   "id": "5ed68328",
   "metadata": {},
   "outputs": [],
   "source": [
    "# Сохраняем ИСХОДНЫЙ набор данных в разные форматы:\n",
    "with open('face_5.json', 'w') as file:\n",
    "    file.write(face.to_json(orient='split'))"
   ]
  },
  {
   "cell_type": "code",
   "execution_count": 73,
   "id": "ae1af745",
   "metadata": {},
   "outputs": [],
   "source": [
    "face.to_pickle('face_5.pkl')"
   ]
  },
  {
   "cell_type": "code",
   "execution_count": 74,
   "id": "d15fa18e",
   "metadata": {},
   "outputs": [
    {
     "ename": "AttributeError",
     "evalue": "'DataFrame' object has no attribute 'to_msgpack'",
     "output_type": "error",
     "traceback": [
      "\u001b[1;31m---------------------------------------------------------------------------\u001b[0m",
      "\u001b[1;31mAttributeError\u001b[0m                            Traceback (most recent call last)",
      "\u001b[1;32mC:\\Users\\73B5~1\\AppData\\Local\\Temp/ipykernel_252/3681369659.py\u001b[0m in \u001b[0;36m<module>\u001b[1;34m\u001b[0m\n\u001b[1;32m----> 1\u001b[1;33m \u001b[0mface\u001b[0m\u001b[1;33m.\u001b[0m\u001b[0mto_msgpack\u001b[0m\u001b[1;33m(\u001b[0m\u001b[0mface_5\u001b[0m\u001b[1;33m.\u001b[0m\u001b[0mmsgpack\u001b[0m\u001b[1;33m)\u001b[0m\u001b[1;33m\u001b[0m\u001b[1;33m\u001b[0m\u001b[0m\n\u001b[0m",
      "\u001b[1;32mC:\\ProgramData\\Anaconda3\\lib\\site-packages\\pandas\\core\\generic.py\u001b[0m in \u001b[0;36m__getattr__\u001b[1;34m(self, name)\u001b[0m\n\u001b[0;32m   5485\u001b[0m         ):\n\u001b[0;32m   5486\u001b[0m             \u001b[1;32mreturn\u001b[0m \u001b[0mself\u001b[0m\u001b[1;33m[\u001b[0m\u001b[0mname\u001b[0m\u001b[1;33m]\u001b[0m\u001b[1;33m\u001b[0m\u001b[1;33m\u001b[0m\u001b[0m\n\u001b[1;32m-> 5487\u001b[1;33m         \u001b[1;32mreturn\u001b[0m \u001b[0mobject\u001b[0m\u001b[1;33m.\u001b[0m\u001b[0m__getattribute__\u001b[0m\u001b[1;33m(\u001b[0m\u001b[0mself\u001b[0m\u001b[1;33m,\u001b[0m \u001b[0mname\u001b[0m\u001b[1;33m)\u001b[0m\u001b[1;33m\u001b[0m\u001b[1;33m\u001b[0m\u001b[0m\n\u001b[0m\u001b[0;32m   5488\u001b[0m \u001b[1;33m\u001b[0m\u001b[0m\n\u001b[0;32m   5489\u001b[0m     \u001b[1;32mdef\u001b[0m \u001b[0m__setattr__\u001b[0m\u001b[1;33m(\u001b[0m\u001b[0mself\u001b[0m\u001b[1;33m,\u001b[0m \u001b[0mname\u001b[0m\u001b[1;33m:\u001b[0m \u001b[0mstr\u001b[0m\u001b[1;33m,\u001b[0m \u001b[0mvalue\u001b[0m\u001b[1;33m)\u001b[0m \u001b[1;33m->\u001b[0m \u001b[1;32mNone\u001b[0m\u001b[1;33m:\u001b[0m\u001b[1;33m\u001b[0m\u001b[1;33m\u001b[0m\u001b[0m\n",
      "\u001b[1;31mAttributeError\u001b[0m: 'DataFrame' object has no attribute 'to_msgpack'"
     ]
    }
   ],
   "source": [
    "face.to_msgpack(face_5.msgpack)"
   ]
  },
  {
   "cell_type": "code",
   "execution_count": 75,
   "id": "ffc85270",
   "metadata": {},
   "outputs": [
    {
     "name": "stdout",
     "output_type": "stream",
     "text": [
      "json = 2494546\n",
      "msgpack = 0\n",
      "pkl = 3915426\n"
     ]
    }
   ],
   "source": [
    "print(f\"json = {os.path.getsize('face_5.json')}\")\n",
    "print(f\"msgpack = {os.path.getsize('face_5.msgpack')}\")\n",
    "print(f\"pkl = {os.path.getsize('face_5.pkl')}\")"
   ]
  },
  {
   "cell_type": "code",
   "execution_count": null,
   "id": "e38c96c4",
   "metadata": {},
   "outputs": [],
   "source": []
  }
 ],
 "metadata": {
  "kernelspec": {
   "display_name": "Python 3 (ipykernel)",
   "language": "python",
   "name": "python3"
  },
  "language_info": {
   "codemirror_mode": {
    "name": "ipython",
    "version": 3
   },
   "file_extension": ".py",
   "mimetype": "text/x-python",
   "name": "python",
   "nbconvert_exporter": "python",
   "pygments_lexer": "ipython3",
   "version": "3.9.7"
  }
 },
 "nbformat": 4,
 "nbformat_minor": 5
}
