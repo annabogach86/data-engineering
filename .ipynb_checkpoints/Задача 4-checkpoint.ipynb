{
 "cells": [
  {
   "cell_type": "code",
   "execution_count": 1,
   "id": "7e354ff6",
   "metadata": {},
   "outputs": [],
   "source": [
    "# Считайте данные в формате pkl о товарах. \n",
    "# Также считайте данные из файла формата json о новых ценах \n",
    "# для каждого товара:\n",
    "\n",
    "#{\n",
    "#    name: \"Apple\",\n",
    "#    method: \"add\"|\"sub\"|\"percent+\"|\"percent-\",\n",
    "#    param: 4|0.01\n",
    "#}\n",
    "\n",
    "# Обновите цены для товаров в зависимости от метода:\n",
    "# \"add\" – добавить значение param к цене;\n",
    "# \"sub\" – отнять значение param от цены;\n",
    "# \"percent+\" – поднять на param % (1% = 0.01);\n",
    "# \"percent-\" – снизить на param %.\n",
    "# Сохраните модифицированные данные обратно в формат pkl."
   ]
  },
  {
   "cell_type": "code",
   "execution_count": 3,
   "id": "d8c0e1bf",
   "metadata": {},
   "outputs": [],
   "source": [
    "import json\n",
    "import pickle"
   ]
  },
  {
   "cell_type": "code",
   "execution_count": 4,
   "id": "5350692e",
   "metadata": {},
   "outputs": [],
   "source": [
    "def update_price(product, price_info):\n",
    "    method = price_info['method']\n",
    "    if method == 'add':\n",
    "        product['price'] += price_ifo['param']\n",
    "    elif method == 'sub':\n",
    "        product['price'] -= price_info['param']\n",
    "    elif method == 'percent+':\n",
    "        product['price'] *= (1 + price_info['param'])\n",
    "    elif method == 'percent-':\n",
    "        product['price'] *= (1 - price_info['param'])\n",
    "    product['price'] = round(product['price'], 2)        "
   ]
  },
  {
   "cell_type": "code",
   "execution_count": 5,
   "id": "c623b42f",
   "metadata": {},
   "outputs": [],
   "source": [
    "with open('./products_17_4.pkl', 'rb') as f:\n",
    "    products = pickle.load(f)\n",
    "with open('./price_info_17_4.json') as f:\n",
    "    price_info = json.load(f)"
   ]
  },
  {
   "cell_type": "code",
   "execution_count": 6,
   "id": "409609bc",
   "metadata": {},
   "outputs": [],
   "source": [
    "price_info_dict = dict()\n",
    "\n",
    "for item in price_info:\n",
    "    price_info_dict[item[\"name\"]] = item"
   ]
  },
  {
   "cell_type": "code",
   "execution_count": 7,
   "id": "1e585f47",
   "metadata": {},
   "outputs": [],
   "source": [
    "for product in products:\n",
    "    current_price_info = price_info_dict[product['name']]\n",
    "    update_price(product, current_price_info)"
   ]
  },
  {
   "cell_type": "code",
   "execution_count": 9,
   "id": "042ec284",
   "metadata": {},
   "outputs": [],
   "source": [
    "with open('products_updated_17_4.pkl', 'wb') as f:\n",
    "    f.write(pickle.dumps(products))"
   ]
  },
  {
   "cell_type": "code",
   "execution_count": null,
   "id": "81444a35",
   "metadata": {},
   "outputs": [],
   "source": []
  }
 ],
 "metadata": {
  "kernelspec": {
   "display_name": "Python 3 (ipykernel)",
   "language": "python",
   "name": "python3"
  },
  "language_info": {
   "codemirror_mode": {
    "name": "ipython",
    "version": 3
   },
   "file_extension": ".py",
   "mimetype": "text/x-python",
   "name": "python",
   "nbconvert_exporter": "python",
   "pygments_lexer": "ipython3",
   "version": "3.9.7"
  }
 },
 "nbformat": 4,
 "nbformat_minor": 5
}
