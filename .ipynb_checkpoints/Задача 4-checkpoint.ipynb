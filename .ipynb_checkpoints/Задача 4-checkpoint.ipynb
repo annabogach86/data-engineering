{
 "cells": [
  {
   "cell_type": "code",
   "execution_count": 1,
   "id": "94f46516",
   "metadata": {},
   "outputs": [],
   "source": [
    "# Дан набор файлов. \n",
    "# В одних содержится информация о некоторых товарах, которые нужно сохранить в соответствующей таблице базы данных. \n",
    "# В других (начинающихся с префикса upd) содержится информация об изменениях, которые могут задаваться разными командами: \n",
    "#    изменение цены, изменение остатков, снять/возврат продажи, удаление из каталога (таблицы). \n",
    "# По одному товару могут быть несколько изменений, поэтому при создании таблицы необходимо предусмотреть поле-счетчик, \n",
    "# которое инкрементируется каждый раз, когда происходит обновление строки. \n",
    "# Все изменения необходимо производить, используя транзакции, проверяя изменения на корректность \n",
    "# (например, цена или остатки после обновления не могут быть отрицательными)\n",
    "# После записи всех данных и применения обновлений необходимо выполнить следующие запросы:\n",
    "#   вывести топ-10 самых обновляемых товаров\n",
    "#   проанализировать цены товаров, найдя (сумму, мин, макс, среднее) для каждой группы, а также количество товаров в группе\n",
    "#   проанализировать остатки товаров, найдя (сумму, мин, макс, среднее) для каждой группы товаров\n",
    "#   произвольный запрос "
   ]
  },
  {
   "cell_type": "code",
   "execution_count": 1,
   "id": "bf3771eb",
   "metadata": {},
   "outputs": [],
   "source": [
    "import pandas as pd\n",
    "import sqlite3\n",
    "import msgpack\n",
    "import json\n",
    "import csv"
   ]
  },
  {
   "cell_type": "code",
   "execution_count": 2,
   "id": "6ed33e7c",
   "metadata": {},
   "outputs": [
    {
     "data": {
      "text/html": [
       "<div>\n",
       "<style scoped>\n",
       "    .dataframe tbody tr th:only-of-type {\n",
       "        vertical-align: middle;\n",
       "    }\n",
       "\n",
       "    .dataframe tbody tr th {\n",
       "        vertical-align: top;\n",
       "    }\n",
       "\n",
       "    .dataframe thead th {\n",
       "        text-align: right;\n",
       "    }\n",
       "</style>\n",
       "<table border=\"1\" class=\"dataframe\">\n",
       "  <thead>\n",
       "    <tr style=\"text-align: right;\">\n",
       "      <th></th>\n",
       "      <th>name</th>\n",
       "      <th>method</th>\n",
       "      <th>param</th>\n",
       "    </tr>\n",
       "  </thead>\n",
       "  <tbody>\n",
       "    <tr>\n",
       "      <th>0</th>\n",
       "      <td>nice plumbing</td>\n",
       "      <td>quantity_add</td>\n",
       "      <td>138</td>\n",
       "    </tr>\n",
       "    <tr>\n",
       "      <th>1</th>\n",
       "      <td>marvelous blueberry</td>\n",
       "      <td>price_percent</td>\n",
       "      <td>0.12</td>\n",
       "    </tr>\n",
       "    <tr>\n",
       "      <th>2</th>\n",
       "      <td>glamorous insulation</td>\n",
       "      <td>price_abs</td>\n",
       "      <td>-6</td>\n",
       "    </tr>\n",
       "  </tbody>\n",
       "</table>\n",
       "</div>"
      ],
      "text/plain": [
       "                   name         method param\n",
       "0         nice plumbing   quantity_add   138\n",
       "1   marvelous blueberry  price_percent  0.12\n",
       "2  glamorous insulation      price_abs    -6"
      ]
     },
     "execution_count": 2,
     "metadata": {},
     "output_type": "execute_result"
    }
   ],
   "source": [
    "file_path = \"task_4_var_17_update_data.csv\"\n",
    "data_csv = pd.read_csv(file_path, sep=';')\n",
    "data_csv[0:3]"
   ]
  },
  {
   "cell_type": "code",
   "execution_count": 3,
   "id": "f747df63",
   "metadata": {},
   "outputs": [],
   "source": [
    "def connect_to_db(file):\n",
    "    connection = sqlite3.connect(file)\n",
    "    connection.row_factory = sqlite3.Row\n",
    "    return connection"
   ]
  },
  {
   "cell_type": "code",
   "execution_count": 4,
   "id": "dd433f83",
   "metadata": {},
   "outputs": [],
   "source": [
    "# Создание таблицы в базе данных\n",
    "def create_table():\n",
    "    conn = sqlite3.connect('database.db')\n",
    "    c = conn.cursor()\n",
    "    c.execute('''CREATE TABLE IF NOT EXISTS m_4\n",
    "                  (id INTEGER PRIMARY KEY AUTOINCREMENT,\n",
    "                  name TEXT,\n",
    "                  price FLOAT,\n",
    "                  quantity INTEGER,\n",
    "                  category TEXT,\n",
    "                  fromCity TEXT,\n",
    "                  isAvailable TEXT,\n",
    "                  views INTEGER,\n",
    "                  update_counter INTEGER)''')\n",
    "    conn.commit()\n",
    "    conn.close()"
   ]
  },
  {
   "cell_type": "code",
   "execution_count": 5,
   "id": "77f5f1ce",
   "metadata": {},
   "outputs": [],
   "source": [
    "# Чтение данных из файла msgpack в таблицу\n",
    "def insert_data():\n",
    "    conn = sqlite3.connect('database.db')\n",
    "    c = conn.cursor()\n",
    "    with open('task_4_var_17_product_data.msgpack', 'rb') as file:\n",
    "        msgpack_data = msgpack.unpack(file)\n",
    "        for data in msgpack_data:\n",
    "            data['category'] = 'no'\n",
    "            c.execute(\"INSERT INTO m_4 (name, price, quantity, category, fromCity, isAvailable, views, update_counter) VALUES (?, ?, ?, ?, ?, ?, ?, 0)\",\n",
    "                      (data['name'], data['price'], data['quantity'], data['category'], data['fromCity'], data['isAvailable'], data['views']))\n",
    "    \n",
    "    conn.commit()\n",
    "    conn.close()                                           "
   ]
  },
  {
   "cell_type": "code",
   "execution_count": 6,
   "id": "e32d920f",
   "metadata": {},
   "outputs": [],
   "source": [
    "def update_insert_data():\n",
    "    conn = sqlite3.connect('database.db')\n",
    "    c = conn.cursor()\n",
    "    with open('task_4_var_17_update_data.csv', 'r') as file:\n",
    "        csv_data = csv.reader(file, delimiter=';')\n",
    "        next(csv_data)  # Пропускаем заголовок CSV файла\n",
    "        for row in csv_data:\n",
    "            if len(row) >= 3:  # Проверяем, что строка содержит не менее трех значений\n",
    "                name = row[0]\n",
    "                method = row[1]\n",
    "                param = row[2]\n",
    "                \n",
    "                # Выполняем соответствующие операции в зависимости от значения столбца \"method\"\n",
    "                if method == 'available':\n",
    "                    c.execute(\"UPDATE m_4 SET isAvailable = ?, update_counter = update_counter + 1 WHERE name = ?\", (True if param else False, name))\n",
    "                elif method == 'quantity_add':\n",
    "                    c.execute(\"UPDATE m_4 SET quantity = quantity + ?, update_counter = update_counter + 1 WHERE name = ? AND quantity + ? >= 0\", (param, name, param))\n",
    "                elif method == 'price_percent':\n",
    "                    c.execute(\"UPDATE m_4 SET price = ROUND(price * (1 + ?), 2), update_counter = update_counter + 1 WHERE name = ?\", (param, name))\n",
    "                elif method == 'price_abs':\n",
    "                    c.execute(\"UPDATE m_4 SET price = MAX(price + ?, 0), update_counter = update_counter + 1 WHERE name = ? AND ((price + ?) >= 0)\", (param, name, param))\n",
    "                elif method == 'quantity_sub':\n",
    "                    c.execute(\"UPDATE m_4 SET quantity = MAX(quantity - ?, 0), update_counter = update_counter + 1 WHERE name = ? AND ((quantity - ?) > 0)\", (param, name, param))\n",
    "                elif method == 'remove':\n",
    "                    c.execute(\"DELETE FROM m_4 WHERE name = ?\", (name,))\n",
    "                else:\n",
    "                    print(\"Неизвестный метод \", method)    \n",
    "    \n",
    "    conn.commit()\n",
    "    conn.close()"
   ]
  },
  {
   "cell_type": "code",
   "execution_count": 7,
   "id": "416b3302",
   "metadata": {},
   "outputs": [],
   "source": [
    "# Функция для вывода топ-10 самых обновляемых товаров и записи в JSON\n",
    "def top_10_updated_products():\n",
    "    conn = sqlite3.connect('database.db')\n",
    "    c = conn.cursor()\n",
    "    c.execute(\"SELECT name, update_counter FROM m_4 ORDER BY update_counter DESC LIMIT 10\")\n",
    "    data = c.fetchall()\n",
    "    conn.close()\n",
    "    \n",
    "    top_10_updated = [{'name': row[0], 'update_counter': row[1]} for row in data]\n",
    "    \n",
    "    with open('top_10_updated_products_4.json', 'w', encoding='utf-8') as file:\n",
    "        json.dump(top_10_updated, file, ensure_ascii=False)"
   ]
  },
  {
   "cell_type": "code",
   "execution_count": 8,
   "id": "4d743924",
   "metadata": {},
   "outputs": [],
   "source": [
    "# Функция для анализа цен товаров и записи в JSON\n",
    "def analyze_prices():\n",
    "    conn = sqlite3.connect('database.db')\n",
    "    c = conn.cursor()\n",
    "    c.execute(\"SELECT category, SUM(price) AS total_price, MIN(price) AS min_price, MAX(price) AS max_price, AVG(price) AS avg_price, COUNT(*) AS num_products FROM m_4 GROUP BY category\")\n",
    "    data = c.fetchall()\n",
    "    conn.close()\n",
    "    \n",
    "    price_analysis = [{'category': row[0], 'total_price': row[1], 'min_price': row[2], 'max_price': row[3], 'avg_price': row[4], 'num_products': row[5]} for row in data]\n",
    "    \n",
    "    with open('price_analysis_4.json', 'w', encoding='utf-8') as file:\n",
    "        json.dump(price_analysis, file, ensure_ascii=False)"
   ]
  },
  {
   "cell_type": "code",
   "execution_count": 9,
   "id": "1f876d87",
   "metadata": {},
   "outputs": [],
   "source": [
    "# Функция для анализа остатков товаров и записи в JSON\n",
    "def analyze_quantity():\n",
    "    conn = sqlite3.connect('database.db')\n",
    "    c = conn.cursor()\n",
    "    c.execute(\"SELECT category, SUM(quantity) AS total_quantity, MIN(quantity) AS min_quantity, MAX(quantity) AS max_quantity, AVG(quantity) AS avg_quantity FROM m_4 GROUP BY category\")\n",
    "    data = c.fetchall()\n",
    "    conn.close()\n",
    "    \n",
    "    quantity_analysis = [{'category': row[0], 'total_quantity': row[1], 'min_quantity': row[2], 'max_quantity': row[3], 'avg_quantity': row[4]} for row in data]\n",
    "    \n",
    "    with open('quantity_analysis_4.json', 'w', encoding='utf-8') as file:\n",
    "        json.dump(quantity_analysis, file, ensure_ascii=False)"
   ]
  },
  {
   "cell_type": "code",
   "execution_count": 10,
   "id": "cb88346c",
   "metadata": {},
   "outputs": [],
   "source": [
    "# Функция для вывода топ-10 самых обновляемых товаров в Москве, Санкт-Петербурге и Астане и записи в JSON\n",
    "def top_10_updated_products_cities():\n",
    "    conn = sqlite3.connect('database.db')\n",
    "    c = conn.cursor()\n",
    "    \n",
    "    cities = ['Москва', 'Санкт-Петербург', 'Астана']\n",
    "    top_10_updated_cities = {}\n",
    "    \n",
    "    for city in cities:\n",
    "        c.execute(\"SELECT name, update_counter FROM m_4 WHERE fromCity = ? ORDER BY update_counter DESC LIMIT 10\", (city,))\n",
    "        data = c.fetchall()\n",
    "        top_10_updated_cities[city] = [{'name': row[0], 'update_counter': row[1]} for row in data]\n",
    "    \n",
    "    conn.close()\n",
    "    \n",
    "    with open('top_10_updated_products_cities_4.json', 'w', encoding='utf-8') as file:\n",
    "        json.dump(top_10_updated_cities, file, ensure_ascii=False)"
   ]
  },
  {
   "cell_type": "code",
   "execution_count": 11,
   "id": "843b6ed4",
   "metadata": {},
   "outputs": [],
   "source": [
    "connect_to_db('database.db')\n",
    "create_table()\n",
    "insert_data()\n",
    "update_insert_data()"
   ]
  },
  {
   "cell_type": "code",
   "execution_count": 12,
   "id": "7ae5ca61",
   "metadata": {},
   "outputs": [],
   "source": [
    "top_10_updated_products()\n",
    "analyze_prices()\n",
    "analyze_quantity()\n",
    "top_10_updated_products_cities()"
   ]
  },
  {
   "cell_type": "code",
   "execution_count": null,
   "id": "45961b91",
   "metadata": {},
   "outputs": [],
   "source": []
  }
 ],
 "metadata": {
  "kernelspec": {
   "display_name": "Python 3 (ipykernel)",
   "language": "python",
   "name": "python3"
  },
  "language_info": {
   "codemirror_mode": {
    "name": "ipython",
    "version": 3
   },
   "file_extension": ".py",
   "mimetype": "text/x-python",
   "name": "python",
   "nbconvert_exporter": "python",
   "pygments_lexer": "ipython3",
   "version": "3.9.7"
  }
 },
 "nbformat": 4,
 "nbformat_minor": 5
}
