{
 "cells": [
  {
   "cell_type": "code",
   "execution_count": 1,
   "id": "384982f5",
   "metadata": {},
   "outputs": [],
   "source": [
    "# Найдите набор данных (csv, json), размер которого превышает 20-30Мб.\n",
    "# Отберите для дальнейшей работы в нем 7-10 полей \n",
    "# (пропишите это преобразование в коде). \n",
    "# Для полей, представляющих числовые данные, рассчитайте характеристики: \n",
    "# максимальное и минимальное значения, \n",
    "# среднее арифметическое, \n",
    "# сумму, стандартное отклонение. \n",
    "# Для полей, представляющий текстовые данные \n",
    "# (в виде меток некоторых категорий) рассчитайте частоту встречаемости. \n",
    "# Сохраните полученные расчеты в json. \n",
    "# Сохраните набор данных с помощью разных форматов: csv, json, msgpack, pkl. \n",
    "# Сравните размеры полученных файлов.\n"
   ]
  },
  {
   "cell_type": "code",
   "execution_count": 2,
   "id": "6946b4e3",
   "metadata": {},
   "outputs": [],
   "source": [
    "import json\n",
    "import pickle\n",
    "import msgpack\n",
    "import csv\n",
    "import os\n",
    "import pandas as pd\n",
    "import collections"
   ]
  },
  {
   "cell_type": "code",
   "execution_count": 6,
   "id": "8d2a2111",
   "metadata": {},
   "outputs": [],
   "source": [
    "face = pd.read_csv('raw_counts.csv', encoding = 'windows-1251', low_memory=False)"
   ]
  },
  {
   "cell_type": "code",
   "execution_count": 7,
   "id": "d6d220fa",
   "metadata": {},
   "outputs": [],
   "source": [
    "face = face.rename(columns = {'': 'ID', 'DOX_C241 / 9522-MT-0001': 'MT-0001', 'DOX_C241 / 9522-MT-0002': 'MT-0002',\n",
    "                              'CONTR_C241 / 9522-MT-0003': 'MT-0003',\n",
    "                              'CONTR_C241 / 9522-MT-0004': 'MT-0004',\n",
    "                              'DOX_4838 / 9522-MT-0005': 'MT-0005',\n",
    "                              'DOX_4838 / 9522-MT-0006': 'MT-0006',\n",
    "                              'CONTR_4838 / 9522-MT-0007': 'MT-0007',\n",
    "                              'CONTR_4838 / 9522-MT-0008': 'MT-0008',\n",
    "                              'DOX_C241 / 9522-MT-0009': 'MT-0009',\n",
    "                              'DOX_C241 / 9522-MT-0010': 'MT-0010',\n",
    "                              'CONTR_C241 / 9522-MT-0011': 'MT-0011',\n",
    "                              'CONTR_C241 / 9522-MT-0012': 'MT-0012',\n",
    "                              'DOX_4838 / 9522-MT-0013': 'MT-0013',\n",
    "                              'DOX_4838 / 9522-MT-0014': 'MT-0014',\n",
    "                              'CONTR_4838 / 9522-MT-0015': 'MT-0015',\n",
    "                              'CONTR_4838 / 9522-MT-0016': 'MT-0016',\n",
    "                              'DOX_C241 / 9522-MT-0017': 'MT-0017',\n",
    "                              'DOX_C241 / 9522-MT-0018': 'MT-0018',\n",
    "                              'CONTR_C241 / 9522-MT-0019': 'MT-0019',\n",
    "                              'CONTR_C241 / 9522-MT-0020': 'MT-0020',\n",
    "                              'DOX_4838 / 9522-MT-0021': 'MT-0021',\n",
    "                              'DOX_4838 / 9522-MT-0022': 'MT-0022',\n",
    "                              'CONTR_4838 / 9522-MT-0023': 'MT-0023',\n",
    "                              'CONTR_4838 / 9522-MT-0024': 'MT-0024'\n",
    "                             })"
   ]
  },
  {
   "cell_type": "code",
   "execution_count": 8,
   "id": "6163ae40",
   "metadata": {},
   "outputs": [],
   "source": [
    "counts = face[['MT-0001', 'MT-0002', 'MT-0003', 'MT-0004', 'MT-0005', 'MT-0006', 'MT-0007', 'MT-0008', 'MT-0009', 'MT-0010', 'MT-0011', 'MT-0012', 'MT-0013', 'MT-0014', 'MT-0015', 'MT-0016', 'MT-0017', 'MT-0018', 'MT-0019', 'MT-0020', 'MT-0021', 'MT-0022', 'MT-0023', 'MT-0024']]"
   ]
  },
  {
   "cell_type": "code",
   "execution_count": 9,
   "id": "234cd1fc",
   "metadata": {},
   "outputs": [],
   "source": [
    "result = []"
   ]
  },
  {
   "cell_type": "code",
   "execution_count": 11,
   "id": "cc80af7b",
   "metadata": {},
   "outputs": [],
   "source": [
    "pd.set_option('display.float_format', '{:.2f}'.format)\n",
    "result.append({\n",
    "    'MT-0001_min': int(face['MT-0001'].min()),\n",
    "    'MT-0001_max': int(face['MT-0001'].max()),\n",
    "    'MT-0001_mean': int(face['MT-0001'].mean()),\n",
    "    'MT-0001_std': int(face['MT-0001'].std()),\n",
    "    'MT-0001_sum': int(face['MT-0001'].sum()),\n",
    "    'MT-0002_min': int(face['MT-0002'].min()),\n",
    "    'MT-0002_max': int(face['MT-0002'].max()),\n",
    "    'MT-0002_mean': int(face['MT-0002'].mean()),\n",
    "    'MT-0002_std': int(face['MT-0002'].std()),\n",
    "    'MT-0002_sum': int(face['MT-0002'].sum()),\n",
    "    'MT-0003_min': int(face['MT-0003'].min()),\n",
    "    'MT-0003_max': int(face['MT-0003'].max()),\n",
    "    'MT-0003_mean': int(face['MT-0003'].mean()),\n",
    "    'MT-0003_std': int(face['MT-0003'].std()),\n",
    "    'MT-0003_sum': int(face['MT-0003'].sum()),\n",
    "    'MT-0004_min': int(face['MT-0004'].min()),\n",
    "    'MT-0004_max': int(face['MT-0004'].max()),\n",
    "    'MT-0004_mean': int(face['MT-0004'].mean()),\n",
    "    'MT-0004_std': int(face['MT-0004'].std()),\n",
    "    'MT-0004_sum': int(face['MT-0004'].sum()),\n",
    "    'MT-0005_min': int(face['MT-0005'].min()),\n",
    "    'MT-0005_max': int(face['MT-0005'].max()),\n",
    "    'MT-0005_mean': int(face['MT-0005'].mean()),\n",
    "    'MT-0005_std': int(face['MT-0005'].std()),\n",
    "    'MT-0005_sum': int(face['MT-0005'].sum()),\n",
    "    'MT-0006_min': int(face['MT-0006'].min()),\n",
    "    'MT-0006_max': int(face['MT-0006'].max()),\n",
    "    'MT-0006_mean': int(face['MT-0006'].mean()),\n",
    "    'MT-0006_std': int(face['MT-0006'].std()),\n",
    "    'MT-0006_sum': int(face['MT-0006'].sum()),\n",
    "    'MT-0007_min': int(face['MT-0007'].min()),\n",
    "    'MT-0007_max': int(face['MT-0007'].max()),\n",
    "    'MT-0007_mean': int(face['MT-0007'].mean()),\n",
    "    'MT-0007_std': int(face['MT-0007'].std()),\n",
    "    'MT-0007_sum': int(face['MT-0007'].sum()),\n",
    "    'MT-0008_min': int(face['MT-0008'].min()),\n",
    "    'MT-0008_max': int(face['MT-0008'].max()),\n",
    "    'MT-0008_mean': int(face['MT-0008'].mean()),\n",
    "    'MT-0008_std': int(face['MT-0008'].std()),\n",
    "    'MT-0008_sum': int(face['MT-0008'].sum()),\n",
    "    'MT-0009_min': int(face['MT-0009'].min()),\n",
    "    'MT-0009_max': int(face['MT-0009'].max()),\n",
    "    'MT-0009_mean': int(face['MT-0009'].mean()),\n",
    "    'MT-0009_std': int(face['MT-0009'].std()),\n",
    "    'MT-0009_sum': int(face['MT-0009'].sum()),\n",
    "    'MT-0010_min': int(face['MT-0010'].min()),\n",
    "    'MT-0010_max': int(face['MT-0010'].max()),\n",
    "    'MT-0010_mean': int(face['MT-0010'].mean()),\n",
    "    'MT-0010_std': int(face['MT-0010'].std()),\n",
    "    'MT-0010_sum': int(face['MT-0010'].sum()),\n",
    "    'MT-0011_min': int(face['MT-0011'].min()),\n",
    "    'MT-0011_max': int(face['MT-0011'].max()),\n",
    "    'MT-0011_mean': int(face['MT-0011'].mean()),\n",
    "    'MT-0011_std': int(face['MT-0011'].std()),\n",
    "    'MT-0011_sum': int(face['MT-0011'].sum()),\n",
    "    'MT-0012_min': int(face['MT-0012'].min()),\n",
    "    'MT-0012_max': int(face['MT-0012'].max()),\n",
    "    'MT-0012_mean': int(face['MT-0012'].mean()),\n",
    "    'MT-0012_std': int(face['MT-0012'].std()),\n",
    "    'MT-0012_sum': int(face['MT-0012'].sum()),\n",
    "    'MT-0013_min': int(face['MT-0013'].min()),\n",
    "    'MT-0013_max': int(face['MT-0013'].max()),\n",
    "    'MT-0013_mean': int(face['MT-0013'].mean()),\n",
    "    'MT-0013_std': int(face['MT-0013'].std()),\n",
    "    'MT-0013_sum': int(face['MT-0013'].sum()),\n",
    "    'MT-0014_min': int(face['MT-0014'].min()),\n",
    "    'MT-0014_max': int(face['MT-0014'].max()),\n",
    "    'MT-0014_mean': int(face['MT-0014'].mean()),\n",
    "    'MT-0014_std': int(face['MT-0014'].std()),\n",
    "    'MT-0014_sum': int(face['MT-0014'].sum()),\n",
    "    'MT-0015_min': int(face['MT-0015'].min()),\n",
    "    'MT-0015_max': int(face['MT-0015'].max()),\n",
    "    'MT-0015_mean': int(face['MT-0015'].mean()),\n",
    "    'MT-0015_std': int(face['MT-0015'].std()),\n",
    "    'MT-0015_sum': int(face['MT-0015'].sum()),\n",
    "    'MT-0016_min': int(face['MT-0016'].min()),\n",
    "    'MT-0016_max': int(face['MT-0016'].max()),\n",
    "    'MT-0016_mean': int(face['MT-0016'].mean()),\n",
    "    'MT-0016_std': int(face['MT-0016'].std()),\n",
    "    'MT-0016_sum': int(face['MT-0016'].sum()),\n",
    "    'MT-0017_min': int(face['MT-0017'].min()),\n",
    "    'MT-0017_max': int(face['MT-0017'].max()),\n",
    "    'MT-0017_mean': int(face['MT-0017'].mean()),\n",
    "    'MT-0017_std': int(face['MT-0017'].std()),\n",
    "    'MT-0017_sum': int(face['MT-0017'].sum()),\n",
    "    'MT-0018_min': int(face['MT-0018'].min()),\n",
    "    'MT-0018_max': int(face['MT-0018'].max()),\n",
    "    'MT-0018_mean': int(face['MT-0018'].mean()),\n",
    "    'MT-0018_std': int(face['MT-0018'].std()),\n",
    "    'MT-0018_sum': int(face['MT-0018'].sum()),\n",
    "    'MT-0019_min': int(face['MT-0019'].min()),\n",
    "    'MT-0019_max': int(face['MT-0019'].max()),\n",
    "    'MT-0019_mean': int(face['MT-0019'].mean()),\n",
    "    'MT-0019_std': int(face['MT-0019'].std()),\n",
    "    'MT-0019_sum': int(face['MT-0019'].sum()),\n",
    "    'MT-0020_min': int(face['MT-0020'].min()),\n",
    "    'MT-0020_max': int(face['MT-0020'].max()),\n",
    "    'MT-0020_mean': int(face['MT-0020'].mean()),\n",
    "    'MT-0020_std': int(face['MT-0020'].std()),\n",
    "    'MT-0020_sum': int(face['MT-0020'].sum()),\n",
    "    'MT-0021_min': int(face['MT-0021'].min()),\n",
    "    'MT-0021_max': int(face['MT-0021'].max()),\n",
    "    'MT-0021_mean': int(face['MT-0021'].mean()),\n",
    "    'MT-0021_std': int(face['MT-0021'].std()),\n",
    "    'MT-0021_sum': int(face['MT-0021'].sum()),\n",
    "    'MT-0022_min': int(face['MT-0022'].min()),\n",
    "    'MT-0022_max': int(face['MT-0022'].max()),\n",
    "    'MT-0022_mean': int(face['MT-0022'].mean()),\n",
    "    'MT-0022_std': int(face['MT-0022'].std()),\n",
    "    'MT-0022_sum': int(face['MT-0022'].sum()),\n",
    "    'MT-0023_min': int(face['MT-0023'].min()),\n",
    "    'MT-0023_max': int(face['MT-0023'].max()),\n",
    "    'MT-0023_mean': int(face['MT-0023'].mean()),\n",
    "    'MT-0023_std': int(face['MT-0023'].std()),\n",
    "    'MT-0023_sum': int(face['MT-0023'].sum()),\n",
    "    'MT-0024_min': int(face['MT-0024'].min()),\n",
    "    'MT-0024_max': int(face['MT-0024'].max()),\n",
    "    'MT-0024_mean': int(face['MT-0024'].mean()),\n",
    "    'MT-0024_std': int(face['MT-0024'].std()),\n",
    "    'MT-0024_sum': int(face['MT-0024'].sum()),\n",
    "})"
   ]
  },
  {
   "cell_type": "code",
   "execution_count": 12,
   "id": "17e02184",
   "metadata": {},
   "outputs": [],
   "source": [
    "face_1 = face['ensemblid']\n",
    "f_1 = collections.Counter(face_1)\n",
    "result.append(f_1)"
   ]
  },
  {
   "cell_type": "code",
   "execution_count": 13,
   "id": "6b53a472",
   "metadata": {},
   "outputs": [],
   "source": [
    "face_2 = face['gene_symbol']\n",
    "f_2 = collections.Counter(face_2)\n",
    "result.append(f_2)"
   ]
  },
  {
   "cell_type": "code",
   "execution_count": 15,
   "id": "bb1118a3",
   "metadata": {},
   "outputs": [],
   "source": [
    "# print(result)"
   ]
  },
  {
   "cell_type": "code",
   "execution_count": 16,
   "id": "4b7e8cca",
   "metadata": {},
   "outputs": [],
   "source": [
    "with open('result_17_5.json', 'w') as file:\n",
    "    file.write(json.dumps(result))"
   ]
  },
  {
   "cell_type": "code",
   "execution_count": 17,
   "id": "301835c4",
   "metadata": {},
   "outputs": [],
   "source": [
    "with open('result_17_5.msgpack', 'wb') as file:\n",
    "    file.write(msgpack.dumps(result))"
   ]
  },
  {
   "cell_type": "code",
   "execution_count": 18,
   "id": "1fe63b15",
   "metadata": {},
   "outputs": [],
   "source": [
    "with open('result_17_5.pkl', 'wb') as file:\n",
    "    file.write(pickle.dumps(result))"
   ]
  },
  {
   "cell_type": "code",
   "execution_count": 19,
   "id": "ffc85270",
   "metadata": {},
   "outputs": [
    {
     "name": "stdout",
     "output_type": "stream",
     "text": [
      "json = 612210\n",
      "msgpack = 450498\n",
      "pkl = 547523\n"
     ]
    }
   ],
   "source": [
    "print(f\"json = {os.path.getsize('result_17_5.json')}\")\n",
    "print(f\"msgpack = {os.path.getsize('result_17_5.msgpack')}\")\n",
    "print(f\"pkl = {os.path.getsize('result_17_5.pkl')}\")"
   ]
  },
  {
   "cell_type": "code",
   "execution_count": null,
   "id": "cf4864a0",
   "metadata": {},
   "outputs": [],
   "source": []
  }
 ],
 "metadata": {
  "kernelspec": {
   "display_name": "Python 3 (ipykernel)",
   "language": "python",
   "name": "python3"
  },
  "language_info": {
   "codemirror_mode": {
    "name": "ipython",
    "version": 3
   },
   "file_extension": ".py",
   "mimetype": "text/x-python",
   "name": "python",
   "nbconvert_exporter": "python",
   "pygments_lexer": "ipython3",
   "version": "3.9.7"
  }
 },
 "nbformat": 4,
 "nbformat_minor": 5
}
