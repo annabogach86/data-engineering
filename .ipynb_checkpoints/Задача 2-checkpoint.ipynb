{
 "cells": [
  {
   "cell_type": "code",
   "execution_count": 22,
   "id": "0ce40138",
   "metadata": {},
   "outputs": [],
   "source": [
    "import json\n",
    "import pandas as pd\n",
    "import matplotlib.pyplot as plt\n",
    "import numpy as np\n",
    "import os\n",
    "import seaborn as sns"
   ]
  },
  {
   "cell_type": "code",
   "execution_count": 2,
   "id": "d24871de",
   "metadata": {},
   "outputs": [
    {
     "name": "stdout",
     "output_type": "stream",
     "text": [
      "index: 0, cum_size = 0\n",
      "(500000, 10)\n",
      "(500000, 10)\n",
      "index: 1, cum_size = 123805762\n",
      "(500000, 10)\n",
      "(500000, 10)\n",
      "index: 2, cum_size = 247297775\n",
      "(500000, 10)\n",
      "(500000, 10)\n",
      "index: 3, cum_size = 370966117\n",
      "(500000, 10)\n",
      "(500000, 10)\n",
      "index: 4, cum_size = 494672684\n",
      "(500000, 10)\n",
      "(500000, 10)\n",
      "index: 5, cum_size = 618453042\n",
      "(500000, 10)\n",
      "(500000, 10)\n",
      "index: 6, cum_size = 742216581\n",
      "(500000, 10)\n",
      "(500000, 10)\n",
      "index: 7, cum_size = 866116921\n",
      "(500000, 10)\n",
      "(500000, 10)\n",
      "index: 8, cum_size = 990300237\n",
      "(500000, 10)\n",
      "(500000, 10)\n",
      "index: 9, cum_size = 1114144735\n",
      "(500000, 10)\n",
      "(500000, 10)\n",
      "index: 10, cum_size = 1237906911\n",
      "(500000, 10)\n",
      "(500000, 10)\n",
      "index: 11, cum_size = 1361643510\n",
      "(195015, 10)\n",
      "(195015, 10)\n",
      "1409797587\n"
     ]
    }
   ],
   "source": [
    "file_name_full = \"Data/[2]automotive.csv.zip\"\n",
    "\n",
    "colomn_dtype = {\n",
    "    \"firstSeen\": object,\n",
    "    \"brandName\": object,\n",
    "    \"modelName\": object,\n",
    "    \"askPrice\": pd.Int64Dtype(),\n",
    "    \"isNew\": \"bool\",\n",
    "    \"vf_Wheels\": pd.Int64Dtype(),\n",
    "    \"vf_Seats\": pd.Int64Dtype(),\n",
    "    \"vf_Windows\": pd.Int64Dtype(),\n",
    "    \"vf_WheelSizeRear\": pd.Int64Dtype(),\n",
    "    \"vf_WheelBaseShort\": \"float64\"\n",
    "}\n",
    "\n",
    "total_size = 0\n",
    "index = 0 \n",
    "has_header = True\n",
    "for part in pd.read_csv(file_name_full, \n",
    "                           usecols=lambda x: x in colomn_dtype.keys(),\n",
    "                           dtype=colomn_dtype,\n",
    "                           chunksize=500_000, \n",
    "                           compression='zip',\n",
    "                           na_values=['NA']):\n",
    "    print(f\"index: {index}, cum_size = {total_size}\")\n",
    "    index = index + 1\n",
    "    total_size = total_size + part.memory_usage(deep=True).sum()\n",
    "    print(part.shape)\n",
    "    part.dropna().to_csv(\"df_2.csv\", mode='a', header=has_header)\n",
    "    has_header = False\n",
    "    print(part.shape)\n",
    "    \n",
    "print(total_size)"
   ]
  },
  {
   "cell_type": "code",
   "execution_count": 3,
   "id": "2f13d169",
   "metadata": {},
   "outputs": [],
   "source": [
    "pd.set_option(\"display.max_rows\", 20, \"display.max_columns\", 60)"
   ]
  },
  {
   "cell_type": "code",
   "execution_count": 4,
   "id": "db6c1bd8",
   "metadata": {},
   "outputs": [],
   "source": [
    "def read_file(file_name):\n",
    "    return pd.read_csv(file_name)\n",
    "    # для заархивированных файлов\n",
    "    #return next(pd.read_csv(file_name, chunksize=100_000, compression='gzip'))"
   ]
  },
  {
   "cell_type": "code",
   "execution_count": 5,
   "id": "926eba76",
   "metadata": {},
   "outputs": [
    {
     "data": {
      "text/html": [
       "<div>\n",
       "<style scoped>\n",
       "    .dataframe tbody tr th:only-of-type {\n",
       "        vertical-align: middle;\n",
       "    }\n",
       "\n",
       "    .dataframe tbody tr th {\n",
       "        vertical-align: top;\n",
       "    }\n",
       "\n",
       "    .dataframe thead th {\n",
       "        text-align: right;\n",
       "    }\n",
       "</style>\n",
       "<table border=\"1\" class=\"dataframe\">\n",
       "  <thead>\n",
       "    <tr style=\"text-align: right;\">\n",
       "      <th></th>\n",
       "      <th>number</th>\n",
       "      <th>firstSeen</th>\n",
       "      <th>askPrice</th>\n",
       "      <th>isNew</th>\n",
       "      <th>brandName</th>\n",
       "      <th>modelName</th>\n",
       "      <th>vf_Seats</th>\n",
       "      <th>vf_WheelBaseShort</th>\n",
       "      <th>vf_WheelSizeRear</th>\n",
       "      <th>vf_Wheels</th>\n",
       "      <th>vf_Windows</th>\n",
       "    </tr>\n",
       "  </thead>\n",
       "  <tbody>\n",
       "    <tr>\n",
       "      <th>0</th>\n",
       "      <td>3</td>\n",
       "      <td>2019-05-06</td>\n",
       "      <td>12387</td>\n",
       "      <td>False</td>\n",
       "      <td>CHEVROLET</td>\n",
       "      <td>Cruze</td>\n",
       "      <td>5</td>\n",
       "      <td>106.3</td>\n",
       "      <td>17</td>\n",
       "      <td>4</td>\n",
       "      <td>4</td>\n",
       "    </tr>\n",
       "    <tr>\n",
       "      <th>1</th>\n",
       "      <td>20</td>\n",
       "      <td>2019-05-07</td>\n",
       "      <td>16671</td>\n",
       "      <td>False</td>\n",
       "      <td>CHEVROLET</td>\n",
       "      <td>Impala</td>\n",
       "      <td>5</td>\n",
       "      <td>111.7</td>\n",
       "      <td>18</td>\n",
       "      <td>4</td>\n",
       "      <td>4</td>\n",
       "    </tr>\n",
       "    <tr>\n",
       "      <th>2</th>\n",
       "      <td>43</td>\n",
       "      <td>2019-05-07</td>\n",
       "      <td>12959</td>\n",
       "      <td>False</td>\n",
       "      <td>CHEVROLET</td>\n",
       "      <td>Cruze</td>\n",
       "      <td>5</td>\n",
       "      <td>106.3</td>\n",
       "      <td>16</td>\n",
       "      <td>4</td>\n",
       "      <td>4</td>\n",
       "    </tr>\n",
       "    <tr>\n",
       "      <th>3</th>\n",
       "      <td>109</td>\n",
       "      <td>2019-05-11</td>\n",
       "      <td>15900</td>\n",
       "      <td>False</td>\n",
       "      <td>CHEVROLET</td>\n",
       "      <td>Impala</td>\n",
       "      <td>5</td>\n",
       "      <td>111.7</td>\n",
       "      <td>18</td>\n",
       "      <td>4</td>\n",
       "      <td>4</td>\n",
       "    </tr>\n",
       "    <tr>\n",
       "      <th>4</th>\n",
       "      <td>118</td>\n",
       "      <td>2019-05-13</td>\n",
       "      <td>12998</td>\n",
       "      <td>False</td>\n",
       "      <td>CHEVROLET</td>\n",
       "      <td>Sonic</td>\n",
       "      <td>5</td>\n",
       "      <td>99.4</td>\n",
       "      <td>15</td>\n",
       "      <td>4</td>\n",
       "      <td>4</td>\n",
       "    </tr>\n",
       "    <tr>\n",
       "      <th>...</th>\n",
       "      <td>...</td>\n",
       "      <td>...</td>\n",
       "      <td>...</td>\n",
       "      <td>...</td>\n",
       "      <td>...</td>\n",
       "      <td>...</td>\n",
       "      <td>...</td>\n",
       "      <td>...</td>\n",
       "      <td>...</td>\n",
       "      <td>...</td>\n",
       "      <td>...</td>\n",
       "    </tr>\n",
       "    <tr>\n",
       "      <th>128337</th>\n",
       "      <td>5694424</td>\n",
       "      <td>2020-03-15</td>\n",
       "      <td>14750</td>\n",
       "      <td>False</td>\n",
       "      <td>CHEVROLET</td>\n",
       "      <td>Malibu</td>\n",
       "      <td>5</td>\n",
       "      <td>111.4</td>\n",
       "      <td>17</td>\n",
       "      <td>4</td>\n",
       "      <td>4</td>\n",
       "    </tr>\n",
       "    <tr>\n",
       "      <th>128338</th>\n",
       "      <td>5694496</td>\n",
       "      <td>2020-02-13</td>\n",
       "      <td>18250</td>\n",
       "      <td>False</td>\n",
       "      <td>CHEVROLET</td>\n",
       "      <td>Impala</td>\n",
       "      <td>5</td>\n",
       "      <td>111.7</td>\n",
       "      <td>18</td>\n",
       "      <td>4</td>\n",
       "      <td>4</td>\n",
       "    </tr>\n",
       "    <tr>\n",
       "      <th>128339</th>\n",
       "      <td>5694839</td>\n",
       "      <td>2020-05-20</td>\n",
       "      <td>13386</td>\n",
       "      <td>False</td>\n",
       "      <td>CHEVROLET</td>\n",
       "      <td>Malibu</td>\n",
       "      <td>5</td>\n",
       "      <td>111.4</td>\n",
       "      <td>16</td>\n",
       "      <td>4</td>\n",
       "      <td>4</td>\n",
       "    </tr>\n",
       "    <tr>\n",
       "      <th>128340</th>\n",
       "      <td>5694980</td>\n",
       "      <td>2020-05-19</td>\n",
       "      <td>13892</td>\n",
       "      <td>False</td>\n",
       "      <td>CHEVROLET</td>\n",
       "      <td>Malibu</td>\n",
       "      <td>5</td>\n",
       "      <td>111.4</td>\n",
       "      <td>16</td>\n",
       "      <td>4</td>\n",
       "      <td>4</td>\n",
       "    </tr>\n",
       "    <tr>\n",
       "      <th>128341</th>\n",
       "      <td>5695002</td>\n",
       "      <td>2020-03-27</td>\n",
       "      <td>12950</td>\n",
       "      <td>False</td>\n",
       "      <td>CHEVROLET</td>\n",
       "      <td>Cruze</td>\n",
       "      <td>5</td>\n",
       "      <td>106.3</td>\n",
       "      <td>17</td>\n",
       "      <td>4</td>\n",
       "      <td>4</td>\n",
       "    </tr>\n",
       "  </tbody>\n",
       "</table>\n",
       "<p>128342 rows × 11 columns</p>\n",
       "</div>"
      ],
      "text/plain": [
       "         number   firstSeen  askPrice  isNew  brandName modelName  vf_Seats  \\\n",
       "0             3  2019-05-06     12387  False  CHEVROLET     Cruze         5   \n",
       "1            20  2019-05-07     16671  False  CHEVROLET    Impala         5   \n",
       "2            43  2019-05-07     12959  False  CHEVROLET     Cruze         5   \n",
       "3           109  2019-05-11     15900  False  CHEVROLET    Impala         5   \n",
       "4           118  2019-05-13     12998  False  CHEVROLET     Sonic         5   \n",
       "...         ...         ...       ...    ...        ...       ...       ...   \n",
       "128337  5694424  2020-03-15     14750  False  CHEVROLET    Malibu         5   \n",
       "128338  5694496  2020-02-13     18250  False  CHEVROLET    Impala         5   \n",
       "128339  5694839  2020-05-20     13386  False  CHEVROLET    Malibu         5   \n",
       "128340  5694980  2020-05-19     13892  False  CHEVROLET    Malibu         5   \n",
       "128341  5695002  2020-03-27     12950  False  CHEVROLET     Cruze         5   \n",
       "\n",
       "        vf_WheelBaseShort  vf_WheelSizeRear  vf_Wheels  vf_Windows  \n",
       "0                   106.3                17          4           4  \n",
       "1                   111.7                18          4           4  \n",
       "2                   106.3                16          4           4  \n",
       "3                   111.7                18          4           4  \n",
       "4                    99.4                15          4           4  \n",
       "...                   ...               ...        ...         ...  \n",
       "128337              111.4                17          4           4  \n",
       "128338              111.7                18          4           4  \n",
       "128339              111.4                16          4           4  \n",
       "128340              111.4                16          4           4  \n",
       "128341              106.3                17          4           4  \n",
       "\n",
       "[128342 rows x 11 columns]"
      ]
     },
     "execution_count": 5,
     "metadata": {},
     "output_type": "execute_result"
    }
   ],
   "source": [
    "file_name = \"df_2.csv\"\n",
    "read_file(file_name)"
   ]
  },
  {
   "cell_type": "code",
   "execution_count": 6,
   "id": "677ad1b9",
   "metadata": {},
   "outputs": [],
   "source": [
    "def get_memory_stat_by_column(df, output_file):\n",
    "    # вывод пар: колонка - тип данных\n",
    "    memory_usage_stat = df.memory_usage(deep=True)\n",
    "    # суммарный размер\n",
    "    total_memory_usage = memory_usage_stat.sum()\n",
    "    result = {\n",
    "        \"file_in_memory_size\": f\"{int(total_memory_usage // 1024):10} KB\",\n",
    "        \"columns\": []\n",
    "    }\n",
    "    # проходимся по колонкам, записываем в список\n",
    "    for key in df.dtypes.keys():\n",
    "        result[\"columns\"].append({\n",
    "            \"column_name\": key,\n",
    "            \"memory_abs\": int(memory_usage_stat[key] // 1024),\n",
    "            \"memory_per\": round(memory_usage_stat[key] / total_memory_usage * 100, 4),\n",
    "            \"dtype\": str(df.dtypes[key])\n",
    "        })\n",
    "    # отсортируем колонки\n",
    "    result[\"columns\"].sort(key=lambda x: x['memory_abs'], reverse=True)\n",
    "    # Запись в файл JSON\n",
    "    with open(output_file, 'w') as file:\n",
    "        json.dump(result, file)"
   ]
  },
  {
   "cell_type": "code",
   "execution_count": 7,
   "id": "57ca9ca1",
   "metadata": {},
   "outputs": [],
   "source": [
    "file_name = \"df_2.csv\"\n",
    "dataset = read_file(file_name)\n",
    "output_file = \"результаты_2.json\"\n",
    "get_memory_stat_by_column(dataset, output_file)"
   ]
  },
  {
   "cell_type": "code",
   "execution_count": 8,
   "id": "8551d0e7",
   "metadata": {},
   "outputs": [
    {
     "data": {
      "text/plain": [
       "number                 int64\n",
       "firstSeen             object\n",
       "askPrice               int64\n",
       "isNew                   bool\n",
       "brandName             object\n",
       "modelName             object\n",
       "vf_Seats               int64\n",
       "vf_WheelBaseShort    float64\n",
       "vf_WheelSizeRear       int64\n",
       "vf_Wheels              int64\n",
       "vf_Windows             int64\n",
       "dtype: object"
      ]
     },
     "execution_count": 8,
     "metadata": {},
     "output_type": "execute_result"
    }
   ],
   "source": [
    "dataset.dtypes"
   ]
  },
  {
   "cell_type": "code",
   "execution_count": 9,
   "id": "e1469615",
   "metadata": {},
   "outputs": [],
   "source": [
    "# Считает объем памяти до и после преобразований\n",
    "def mem_usage(pandas_obj):\n",
    "    if isinstance(pandas_obj, pd.DataFrame):\n",
    "        usage_b = pandas_obj.memory_usage(deep=True).sum()\n",
    "    else: # предположим, что если это не дадафрейм, то серия\n",
    "        usage_b = pandas_obj.memory_usage(deep=True)\n",
    "    usage_mb = usage_b / 1024 ** 2 # преобразуем быйты в мегабайты\n",
    "    return \"{:03.2f} MB\".format(usage_mb)"
   ]
  },
  {
   "cell_type": "code",
   "execution_count": 10,
   "id": "4be4a3e7",
   "metadata": {},
   "outputs": [],
   "source": [
    "# 4. Преобразовать все колонки с типом данных «object» в категориальные, \n",
    "#    если количество уникальных значений колонки составляет менее 50%."
   ]
  },
  {
   "cell_type": "code",
   "execution_count": 11,
   "id": "4463d7a7",
   "metadata": {},
   "outputs": [],
   "source": [
    "def opt_obj(df):\n",
    "    converted_obj = pd.DataFrame()\n",
    "    dataset_obj = df.select_dtypes(include=['object']).copy()\n",
    "    for col in dataset_obj.columns:\n",
    "        num_unique_values = len(dataset_obj[col].unique())\n",
    "        num_total_values = len(dataset_obj[col])\n",
    "        if num_unique_values / num_total_values < 0.5:\n",
    "            converted_obj.loc[:, col] = dataset_obj[col].astype('category')\n",
    "        else:\n",
    "            converted_obj.loc[:, col] = dataset_obj[col]\n",
    "    print(mem_usage(dataset_obj))\n",
    "    print(mem_usage(converted_obj))\n",
    "    return converted_obj    "
   ]
  },
  {
   "cell_type": "code",
   "execution_count": 12,
   "id": "d7c81d13",
   "metadata": {},
   "outputs": [
    {
     "name": "stdout",
     "output_type": "stream",
     "text": [
      "23.87 MB\n",
      "0.61 MB\n"
     ]
    }
   ],
   "source": [
    "converted_obj = opt_obj(dataset)"
   ]
  },
  {
   "cell_type": "code",
   "execution_count": 13,
   "id": "9558be52",
   "metadata": {},
   "outputs": [],
   "source": [
    "# 5.Провести понижающее преобразование для столбцов типов «int» колонок\n",
    "def opt_int(df):\n",
    "    dataset_int = df.select_dtypes(include=['int']) # выбираем колонки типа int\n",
    "    \"\"\"\n",
    "    downcast:\n",
    "            - 'integer' or 'signed': smallest signed int dtype (min.: np.int8)\n",
    "            - 'unsigned': smallest unsigned int dtype (min.: np.int8)\n",
    "            - 'float': smallest float dtype (min.: np.float32)\n",
    "    \"\"\"\n",
    "    converted_int = dataset_int.apply(pd.to_numeric, downcast='unsigned')\n",
    "    print(mem_usage(dataset_int))\n",
    "    print(mem_usage(converted_int))\n",
    "    compare_ints = pd.concat([dataset_int.dtypes, converted_int.dtypes], axis=1)\n",
    "    compare_ints.columns = ['before', 'after']\n",
    "    compare_ints.apply(pd.Series.value_counts)\n",
    "    print(compare_ints)\n",
    "    return converted_int"
   ]
  },
  {
   "cell_type": "code",
   "execution_count": 14,
   "id": "72234e9e",
   "metadata": {},
   "outputs": [
    {
     "name": "stdout",
     "output_type": "stream",
     "text": [
      "5.88 MB\n",
      "1.47 MB\n",
      "                 before   after\n",
      "number            int64  uint32\n",
      "askPrice          int64  uint32\n",
      "vf_Seats          int64   uint8\n",
      "vf_WheelSizeRear  int64   uint8\n",
      "vf_Wheels         int64   uint8\n",
      "vf_Windows        int64   uint8\n"
     ]
    }
   ],
   "source": [
    "converted_int = opt_int(dataset)"
   ]
  },
  {
   "cell_type": "code",
   "execution_count": 15,
   "id": "f29d14a0",
   "metadata": {},
   "outputs": [],
   "source": [
    "# 6. Провести понижающее преобразование для столбцов типов «float» колонок\n",
    "def opt_float(df):\n",
    "    dataset_float = df.select_dtypes(include=['float'])\n",
    "    converted_float = dataset_float.apply(pd.to_numeric, downcast='float')\n",
    "    print(mem_usage(dataset_float))\n",
    "    print(mem_usage(converted_float))\n",
    "    compare_float = pd.concat([dataset_float.dtypes, converted_float.dtypes], axis=1)\n",
    "    compare_float.columns = ['before', 'after']\n",
    "    compare_float.apply(pd.Series.value_counts)\n",
    "    print(compare_float)\n",
    "    return converted_float"
   ]
  },
  {
   "cell_type": "code",
   "execution_count": 16,
   "id": "6bf28129",
   "metadata": {},
   "outputs": [
    {
     "name": "stdout",
     "output_type": "stream",
     "text": [
      "0.98 MB\n",
      "0.49 MB\n",
      "                    before    after\n",
      "vf_WheelBaseShort  float64  float32\n"
     ]
    }
   ],
   "source": [
    "converted_float = opt_float(dataset)"
   ]
  },
  {
   "cell_type": "code",
   "execution_count": 17,
   "id": "75744269",
   "metadata": {},
   "outputs": [
    {
     "name": "stdout",
     "output_type": "stream",
     "text": [
      "30.85 MB\n",
      "2.69 MB\n"
     ]
    }
   ],
   "source": [
    "# 7. Повторно провести анализ набора данных, как в п. 2, сравнив показатели занимаемой памяти\n",
    "# Создаем копию исходного датафрейма\n",
    "optimized_dataset = dataset.copy()\n",
    "\n",
    "# заменяем исходные числовые столбцы оптмизированными\n",
    "optimized_dataset[converted_obj.columns] = converted_obj\n",
    "optimized_dataset[converted_int.columns] = converted_int\n",
    "optimized_dataset[converted_float.columns] = converted_float\n",
    "\n",
    "print(mem_usage(dataset))\n",
    "print(mem_usage(optimized_dataset))"
   ]
  },
  {
   "cell_type": "code",
   "execution_count": 18,
   "id": "e7dd9ff6",
   "metadata": {},
   "outputs": [],
   "source": [
    "# 8. Выбрать произвольно 10 колонок для дальнейшем работы, \n",
    "#    прописав преобразование типов и загрузку только нужных данных на этапе чтения файла. \n",
    "#    При этом стоит использовать чанки. Сохраните полученный поднабор в отдельном файле."
   ]
  },
  {
   "cell_type": "code",
   "execution_count": 19,
   "id": "1477da15",
   "metadata": {},
   "outputs": [
    {
     "name": "stdout",
     "output_type": "stream",
     "text": [
      "number:uint32\n",
      "firstSeen:category\n",
      "askPrice:uint32\n",
      "isNew:bool\n",
      "brandName:category\n",
      "modelName:category\n",
      "vf_Seats:uint8\n",
      "vf_WheelBaseShort:float32\n",
      "vf_WheelSizeRear:uint8\n",
      "vf_Wheels:uint8\n",
      "vf_Windows:uint8\n"
     ]
    }
   ],
   "source": [
    "need_column = dict()\n",
    "#column_names = ['date', 'number_of_game', 'day_of_week',\n",
    "#           'park_id', 'v_manager_name', 'length_minutes',\n",
    "#           'v_hits', 'h_hits', 'h_walks', 'h_errors']\n",
    "\n",
    "opt_dtypes = optimized_dataset.dtypes\n",
    "\n",
    "for key in dataset.columns:\n",
    "    need_column[key] = opt_dtypes[key]\n",
    "    print(f\"{key}:{opt_dtypes[key]}\")\n",
    "\n",
    "with open(\"dtypes_2.json\", mode=\"w\") as file:\n",
    "    dtype_json = need_column.copy()\n",
    "    for key in dtype_json.keys():\n",
    "        dtype_json[key] = str(dtype_json[key])\n",
    "    json.dump(dtype_json, file)\n",
    "    \n",
    "# Работа с чанкам\n",
    "#has_header = True\n",
    "#for chunk in pd.read_csv(file_name,\n",
    "#                         usecols=lambda x: x in column_names,\n",
    "#                         dtype=need_column,\n",
    "#                         #parse_dates=['date'],\n",
    "#                         #infer_datetime_format=True,\n",
    "#                         chunksize=100_000):\n",
    "    # любые преобразования\n",
    "#    print(mem_usage(chunk))\n",
    "#    chunk.to_csv('df_1.csv', mode='a', header=has_header)\n",
    "#    has_header = False"
   ]
  },
  {
   "cell_type": "code",
   "execution_count": 20,
   "id": "2f5e6c84",
   "metadata": {},
   "outputs": [
    {
     "name": "stdout",
     "output_type": "stream",
     "text": [
      "<class 'pandas.core.frame.DataFrame'>\n",
      "RangeIndex: 128342 entries, 0 to 128341\n",
      "Data columns (total 11 columns):\n",
      " #   Column             Non-Null Count   Dtype   \n",
      "---  ------             --------------   -----   \n",
      " 0   number             128342 non-null  uint32  \n",
      " 1   firstSeen          128342 non-null  category\n",
      " 2   askPrice           128342 non-null  uint32  \n",
      " 3   isNew              128342 non-null  bool    \n",
      " 4   brandName          128342 non-null  category\n",
      " 5   modelName          128342 non-null  category\n",
      " 6   vf_Seats           128342 non-null  uint8   \n",
      " 7   vf_WheelBaseShort  128342 non-null  float32 \n",
      " 8   vf_WheelSizeRear   128342 non-null  uint8   \n",
      " 9   vf_Wheels          128342 non-null  uint8   \n",
      " 10  vf_Windows         128342 non-null  uint8   \n",
      "dtypes: bool(1), category(3), float32(1), uint32(2), uint8(4)\n",
      "memory usage: 2.7 MB\n"
     ]
    }
   ],
   "source": [
    "# сохраняем информацию о типах, коорые нам нужны. Необходимо для графиков.\n",
    "def read_types(file_name):\n",
    "    dtypes = {}\n",
    "    with open(file_name, mode='r') as file:\n",
    "        dtypes = json.load(file)\n",
    "    for key in dtypes.keys():\n",
    "        if dtypes[key] == 'category':\n",
    "            dtypes[key] = pd.CategoricalDtype\n",
    "        elif dtypes[key] == 'string':\n",
    "            dtypes[key] = pd.StringDtype\n",
    "        else:    \n",
    "            dtypes[key] = np.dtype(dtypes[key])\n",
    "    return dtypes\n",
    "\n",
    "need_dtypes = read_types(\"dtypes_2.json\")\n",
    "\n",
    "dataset = pd.read_csv(\"df_2.csv\",\n",
    "                  usecols=lambda x: x in need_dtypes.keys(),\n",
    "                  dtype=need_column)\n",
    "dataset.info(memory_usage='deep')"
   ]
  },
  {
   "cell_type": "code",
   "execution_count": 23,
   "id": "c8afa766",
   "metadata": {},
   "outputs": [
    {
     "data": {
      "image/png": "[encoded data removed]",
      "text/plain": [
       "<Figure size 576x432 with 1 Axes>"
      ]
     },
     "metadata": {
      "needs_background": "light"
     },
     "output_type": "display_data"
    }
   ],
   "source": [
    "# Гистограмма \n",
    "plt.figure(figsize=(8, 6))\n",
    "sns.histplot(dataset['brandName'], bins=20)\n",
    "plt.title('Распределение по брендам')\n",
    "plt.show()"
   ]
  },
  {
   "cell_type": "code",
   "execution_count": 29,
   "id": "d431adb9",
   "metadata": {},
   "outputs": [
    {
     "data": {
      "image/png": "[encoded data removed]",
      "text/plain": [
       "<Figure size 576x432 with 1 Axes>"
      ]
     },
     "metadata": {
      "needs_background": "light"
     },
     "output_type": "display_data"
    }
   ],
   "source": [
    "# Линейный график\n",
    "plt.figure(figsize=(8, 6))\n",
    "sns.lineplot(x='number', y='askPrice', data=dataset)\n",
    "plt.xlabel('')\n",
    "plt.ylabel('')\n",
    "plt.title('')\n",
    "plt.show()"
   ]
  },
  {
   "cell_type": "code",
   "execution_count": 31,
   "id": "5b49c257",
   "metadata": {},
   "outputs": [
    {
     "data": {
      "image/png": "[encoded data removed]",
      "text/plain": [
       "<Figure size 576x432 with 1 Axes>"
      ]
     },
     "metadata": {
      "needs_background": "light"
     },
     "output_type": "display_data"
    }
   ],
   "source": [
    "# Столбчатый график \n",
    "plt.figure(figsize=(8, 6))\n",
    "sns.countplot(x='modelName', data=dataset)\n",
    "plt.xlabel('')\n",
    "plt.ylabel('')\n",
    "plt.title('')\n",
    "plt.xticks(rotation=90)\n",
    "plt.show()"
   ]
  },
  {
   "cell_type": "code",
   "execution_count": 33,
   "id": "94f1a1ff",
   "metadata": {},
   "outputs": [
    {
     "data": {
      "image/png": "[encoded data removed]",
      "text/plain": [
       "<Figure size 576x432 with 1 Axes>"
      ]
     },
     "metadata": {},
     "output_type": "display_data"
    }
   ],
   "source": [
    "# Круговая диаграмма\n",
    "plt.figure(figsize=(8, 6))\n",
    "park_counts = dataset['brandName'].value_counts()\n",
    "plt.pie(park_counts, labels=park_counts.index, autopct='%1.1f%%')\n",
    "plt.title('')\n",
    "plt.show()"
   ]
  },
  {
   "cell_type": "code",
   "execution_count": 35,
   "id": "c77734e4",
   "metadata": {},
   "outputs": [
    {
     "data": {
      "image/png": "[encoded data removed]",
      "text/plain": [
       "<Figure size 576x432 with 2 Axes>"
      ]
     },
     "metadata": {
      "needs_background": "light"
     },
     "output_type": "display_data"
    }
   ],
   "source": [
    "# Корреляционная матрица для связи различных числовых переменных\n",
    "numerical_vars = ['vf_WheelBaseShort', 'vf_WheelSizeRear', 'vf_Seats', 'vf_Windows']\n",
    "correlation_matrix = dataset[numerical_vars].corr()\n",
    "plt.figure(figsize=(8, 6))\n",
    "sns.heatmap(correlation_matrix, annot=True, cmap='coolwarm')\n",
    "plt.title('Корреляционная матрица')\n",
    "plt.show()"
   ]
  },
  {
   "cell_type": "code",
   "execution_count": null,
   "id": "7b42356d",
   "metadata": {},
   "outputs": [],
   "source": []
  }
 ],
 "metadata": {
  "kernelspec": {
   "display_name": "Python 3 (ipykernel)",
   "language": "python",
   "name": "python3"
  },
  "language_info": {
   "codemirror_mode": {
    "name": "ipython",
    "version": 3
   },
   "file_extension": ".py",
   "mimetype": "text/x-python",
   "name": "python",
   "nbconvert_exporter": "python",
   "pygments_lexer": "ipython3",
   "version": "3.9.7"
  }
 },
 "nbformat": 4,
 "nbformat_minor": 5
}
