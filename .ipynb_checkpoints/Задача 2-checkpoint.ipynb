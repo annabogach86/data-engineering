{
 "cells": [
  {
   "cell_type": "code",
   "execution_count": null,
   "id": "fada9541",
   "metadata": {},
   "outputs": [],
   "source": [
    "# Загрузите матрицу из файла с форматом npy. \n",
    "# Создайте три массива. \n",
    "# Отберите из матрицы значения, которые превышают следующее значение:  \n",
    "# (500 + вариант), следующим образом: \n",
    "# индексы элемента разнесите по массивам X и Y, а само значение в массив Z.\n",
    "# Сохраните полученные массив в файла формата npz. \n",
    "# Воспользуйтесь методами np.savez() и np.savez_compressed(). \n",
    "# Сравните размеры полученных файлов. "
   ]
  },
  {
   "cell_type": "code",
   "execution_count": 1,
   "id": "79ad6980",
   "metadata": {},
   "outputs": [],
   "source": [
    "import numpy as np\n",
    "import os"
   ]
  },
  {
   "cell_type": "code",
   "execution_count": 2,
   "id": "8b0e687d",
   "metadata": {},
   "outputs": [],
   "source": [
    "matrix = np.load('./matrix_17_2.npy')"
   ]
  },
  {
   "cell_type": "code",
   "execution_count": 3,
   "id": "02345881",
   "metadata": {},
   "outputs": [],
   "source": [
    "size = len(matrix)"
   ]
  },
  {
   "cell_type": "code",
   "execution_count": 13,
   "id": "14a5018f",
   "metadata": {},
   "outputs": [],
   "source": [
    "x, y, z = [], [], []"
   ]
  },
  {
   "cell_type": "code",
   "execution_count": 14,
   "id": "5cdbdc0b",
   "metadata": {},
   "outputs": [],
   "source": [
    "limit = 517"
   ]
  },
  {
   "cell_type": "code",
   "execution_count": 15,
   "id": "7795c510",
   "metadata": {},
   "outputs": [],
   "source": [
    "for i in range(0, size):\n",
    "    for j in range(0, size):\n",
    "        if matrix[i][j] > limit:\n",
    "            x.append(i)\n",
    "            y.append(j)\n",
    "            z.append(matrix[i][j])"
   ]
  },
  {
   "cell_type": "code",
   "execution_count": 16,
   "id": "b2afb74a",
   "metadata": {},
   "outputs": [],
   "source": [
    "np.savez('points', x=x, y=y, z=z)\n",
    "np.savez_compressed('points_zip', x=x, y=y, z=z)"
   ]
  },
  {
   "cell_type": "code",
   "execution_count": 17,
   "id": "f38e2c14",
   "metadata": {},
   "outputs": [
    {
     "name": "stdout",
     "output_type": "stream",
     "text": [
      "points = 938044\n",
      "points_zip = 180448\n"
     ]
    }
   ],
   "source": [
    "print(f\"points = {os.path.getsize('points.npz')}\")\n",
    "print(f\"points_zip = {os.path.getsize('points_zip.npz')}\")"
   ]
  },
  {
   "cell_type": "code",
   "execution_count": 18,
   "id": "3260f3b4",
   "metadata": {},
   "outputs": [],
   "source": [
    "plot_data = np.load('points.npz')\n",
    "plot_data_compressed = np.load('points_zip.npz')"
   ]
  },
  {
   "cell_type": "code",
   "execution_count": null,
   "id": "26735120",
   "metadata": {},
   "outputs": [],
   "source": []
  }
 ],
 "metadata": {
  "kernelspec": {
   "display_name": "Python 3 (ipykernel)",
   "language": "python",
   "name": "python3"
  },
  "language_info": {
   "codemirror_mode": {
    "name": "ipython",
    "version": 3
   },
   "file_extension": ".py",
   "mimetype": "text/x-python",
   "name": "python",
   "nbconvert_exporter": "python",
   "pygments_lexer": "ipython3",
   "version": "3.9.7"
  }
 },
 "nbformat": 4,
 "nbformat_minor": 5
}
