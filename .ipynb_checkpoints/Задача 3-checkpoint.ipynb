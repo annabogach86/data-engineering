{
 "cells": [
  {
   "cell_type": "code",
   "execution_count": 1,
   "id": "6110ab45",
   "metadata": {},
   "outputs": [],
   "source": [
    "# Дано два файла разных форматов. Необходимо проанализировать их структуру и выделить общие хранимые данные. \n",
    "# Необходимо создать таблицу для хранения данных в базе данных. \n",
    "# Произведите запись данных из файлов разных форматов в одну таблицу. \n",
    "# Реализуйте и выполните следующие запросы:\n",
    "#  вывод первых (VAR+10) отсортированных по произвольному числовому полю строк из таблицы в файл формата json;\n",
    "#  вывод (сумму, мин, макс, среднее) по произвольному числовому полю;\n",
    "#  вывод частоты встречаемости для категориального поля;\n",
    "#  вывод первых (VAR+15) отфильтрованных по произвольному предикату отсортированных по произвольному числовому полю строк \n",
    "#  из таблицы в файл формате json."
   ]
  },
  {
   "cell_type": "code",
   "execution_count": 1,
   "id": "5deb3b69",
   "metadata": {},
   "outputs": [],
   "source": [
    "import pandas as pd\n",
    "import sqlite3\n",
    "import pickle\n",
    "import json\n",
    "import csv"
   ]
  },
  {
   "cell_type": "code",
   "execution_count": 2,
   "id": "29c2d70f",
   "metadata": {
    "scrolled": false
   },
   "outputs": [
    {
     "data": {
      "text/html": [
       "<div>\n",
       "<style scoped>\n",
       "    .dataframe tbody tr th:only-of-type {\n",
       "        vertical-align: middle;\n",
       "    }\n",
       "\n",
       "    .dataframe tbody tr th {\n",
       "        vertical-align: top;\n",
       "    }\n",
       "\n",
       "    .dataframe thead th {\n",
       "        text-align: right;\n",
       "    }\n",
       "</style>\n",
       "<table border=\"1\" class=\"dataframe\">\n",
       "  <thead>\n",
       "    <tr style=\"text-align: right;\">\n",
       "      <th></th>\n",
       "      <th>artist</th>\n",
       "      <th>song</th>\n",
       "      <th>duration_ms</th>\n",
       "      <th>year</th>\n",
       "      <th>tempo</th>\n",
       "      <th>genre</th>\n",
       "      <th>energy</th>\n",
       "      <th>key</th>\n",
       "      <th>loudness</th>\n",
       "    </tr>\n",
       "  </thead>\n",
       "  <tbody>\n",
       "    <tr>\n",
       "      <th>0</th>\n",
       "      <td>PSY</td>\n",
       "      <td>Gangnam Style (강남스타일)</td>\n",
       "      <td>219493</td>\n",
       "      <td>2012</td>\n",
       "      <td>132.067</td>\n",
       "      <td>pop</td>\n",
       "      <td>0.937</td>\n",
       "      <td>11</td>\n",
       "      <td>-2.871</td>\n",
       "    </tr>\n",
       "    <tr>\n",
       "      <th>1</th>\n",
       "      <td>Sofía Reyes</td>\n",
       "      <td>1, 2, 3 (feat. Jason Derulo &amp; De La Ghetto)</td>\n",
       "      <td>201526</td>\n",
       "      <td>2018</td>\n",
       "      <td>94.968</td>\n",
       "      <td>pop, latin</td>\n",
       "      <td>0.895</td>\n",
       "      <td>1</td>\n",
       "      <td>-3.112</td>\n",
       "    </tr>\n",
       "    <tr>\n",
       "      <th>2</th>\n",
       "      <td>Oliver Heldens</td>\n",
       "      <td>Gecko (Overdrive) - Radio Edit</td>\n",
       "      <td>165440</td>\n",
       "      <td>2014</td>\n",
       "      <td>124.959</td>\n",
       "      <td>pop, Dance/Electronic</td>\n",
       "      <td>0.885</td>\n",
       "      <td>0</td>\n",
       "      <td>-5.469</td>\n",
       "    </tr>\n",
       "    <tr>\n",
       "      <th>3</th>\n",
       "      <td>Peking Duk</td>\n",
       "      <td>High (feat. Nicole Millar)</td>\n",
       "      <td>228000</td>\n",
       "      <td>2014</td>\n",
       "      <td>100.094</td>\n",
       "      <td>Dance/Electronic</td>\n",
       "      <td>0.803</td>\n",
       "      <td>0</td>\n",
       "      <td>-4.052</td>\n",
       "    </tr>\n",
       "    <tr>\n",
       "      <th>4</th>\n",
       "      <td>Black Eyed Peas</td>\n",
       "      <td>Boom Boom Pow</td>\n",
       "      <td>251440</td>\n",
       "      <td>2009</td>\n",
       "      <td>130.048</td>\n",
       "      <td>hip hop, pop</td>\n",
       "      <td>0.857</td>\n",
       "      <td>9</td>\n",
       "      <td>-5.892</td>\n",
       "    </tr>\n",
       "  </tbody>\n",
       "</table>\n",
       "</div>"
      ],
      "text/plain": [
       "            artist                                         song  duration_ms  \\\n",
       "0              PSY                        Gangnam Style (강남스타일)       219493   \n",
       "1      Sofía Reyes  1, 2, 3 (feat. Jason Derulo & De La Ghetto)       201526   \n",
       "2   Oliver Heldens               Gecko (Overdrive) - Radio Edit       165440   \n",
       "3       Peking Duk                   High (feat. Nicole Millar)       228000   \n",
       "4  Black Eyed Peas                                Boom Boom Pow       251440   \n",
       "\n",
       "   year    tempo                  genre  energy  key  loudness  \n",
       "0  2012  132.067                    pop   0.937   11    -2.871  \n",
       "1  2018   94.968             pop, latin   0.895    1    -3.112  \n",
       "2  2014  124.959  pop, Dance/Electronic   0.885    0    -5.469  \n",
       "3  2014  100.094       Dance/Electronic   0.803    0    -4.052  \n",
       "4  2009  130.048           hip hop, pop   0.857    9    -5.892  "
      ]
     },
     "execution_count": 2,
     "metadata": {},
     "output_type": "execute_result"
    }
   ],
   "source": [
    "file_path = \"task_3_var_17_part_1.csv\"\n",
    "data_csv = pd.read_csv(file_path, sep=';')\n",
    "data_csv[0:5]"
   ]
  },
  {
   "cell_type": "code",
   "execution_count": 3,
   "id": "51be255e",
   "metadata": {},
   "outputs": [
    {
     "data": {
      "text/plain": [
       "[{'artist': 'The Corrs',\n",
       "  'song': 'Breathless',\n",
       "  'duration_ms': '207506',\n",
       "  'year': '2000',\n",
       "  'tempo': '126.988',\n",
       "  'genre': 'pop, Folk/Acoustic',\n",
       "  'explicit': 'False',\n",
       "  'popularity': '68',\n",
       "  'danceability': '0.607'},\n",
       " {'artist': 'P!nk',\n",
       "  'song': 'Get the Party Started',\n",
       "  'duration_ms': '192533',\n",
       "  'year': '2001',\n",
       "  'tempo': '128.93',\n",
       "  'genre': 'pop',\n",
       "  'explicit': 'False',\n",
       "  'popularity': '68',\n",
       "  'danceability': '0.802'},\n",
       " {'artist': 'Jason Aldean',\n",
       "  'song': 'Dirt Road Anthem',\n",
       "  'duration_ms': '229413',\n",
       "  'year': '2010',\n",
       "  'tempo': '127.037',\n",
       "  'genre': 'country',\n",
       "  'explicit': 'False',\n",
       "  'popularity': '53',\n",
       "  'danceability': '0.678'}]"
      ]
     },
     "execution_count": 3,
     "metadata": {},
     "output_type": "execute_result"
    }
   ],
   "source": [
    "with open('task_3_var_17_part_2.json', 'r', encoding='utf-8') as file:\n",
    "    data_json = json.load(file)\n",
    "data_json[0:3]"
   ]
  },
  {
   "cell_type": "code",
   "execution_count": 12,
   "id": "7a7b1832",
   "metadata": {},
   "outputs": [],
   "source": [
    "# Создание таблицы в базе данных\n",
    "def create_table():\n",
    "    conn = sqlite3.connect('database.db')\n",
    "    c = conn.cursor()\n",
    "    c.execute('''CREATE TABLE IF NOT EXISTS music\n",
    "                  (id INTEGER PRIMARY KEY AUTOINCREMENT,\n",
    "                   artist TEXT,\n",
    "                   song TEXT,\n",
    "                   duration_ms INTEGER,\n",
    "                   year INTEGER,\n",
    "                   tempo FLOAT,\n",
    "                   genre TEXT)''')\n",
    "    conn.commit()\n",
    "    conn.close()"
   ]
  },
  {
   "cell_type": "code",
   "execution_count": 13,
   "id": "6139cb64",
   "metadata": {},
   "outputs": [],
   "source": [
    "# Чтение данных из файлов в таблицу\n",
    "def insert_data():\n",
    "    conn = sqlite3.connect('database.db')\n",
    "    c = conn.cursor()\n",
    "    # Чтение данных из файла CSV и запись их в таблицу\n",
    "    with open('task_3_var_17_part_1.csv', 'r', encoding='utf-8') as csv_file:\n",
    "        csv_reader = csv.DictReader(csv_file, delimiter=';')\n",
    "        for item in csv_reader:\n",
    "            c.execute(\"INSERT INTO music (artist, song, duration_ms, year, tempo, genre) VALUES (?, ?, ?, ?, ?, ?)\",\n",
    "                      (item['artist'], item['song'], item['duration_ms'], item['year'], item['tempo'], item['genre']))\n",
    "    # Чтение данных из файла JSON и запись их в таблицу\n",
    "    with open('task_3_var_17_part_2.json', 'r', encoding='utf-8') as json_file:\n",
    "        json_data = json.load(json_file)\n",
    "        for data in json_data:\n",
    "            c.execute(\"INSERT INTO music (artist, song, duration_ms, year, tempo, genre) VALUES (?, ?, ?, ?, ?, ?)\",\n",
    "                      (data['artist'], data['song'], data['duration_ms'], data['year'], data['tempo'], data['genre']))        \n",
    "    conn.commit()\n",
    "    conn.close()"
   ]
  },
  {
   "cell_type": "code",
   "execution_count": 14,
   "id": "411f29b3",
   "metadata": {},
   "outputs": [],
   "source": [
    "# Вывод первых 27 отсортированных по числовому полю ['year'] в файл json\n",
    "def sort_by_year():\n",
    "    conn = sqlite3.connect('database.db')\n",
    "    c = conn.cursor()\n",
    "    c.execute(\"SELECT * FROM music ORDER BY year LIMIT 27\")\n",
    "    result = c.fetchall()\n",
    "    with open('sorted_properties_3.json', 'w', encoding='utf-8') as file:\n",
    "        json.dump(result, file, ensure_ascii=False)\n",
    "\n",
    "    conn.close()  "
   ]
  },
  {
   "cell_type": "code",
   "execution_count": 15,
   "id": "56be3f51",
   "metadata": {},
   "outputs": [],
   "source": [
    "# Вывод суммы, минимума, максимума и среднего значения по полю ['tempo']\n",
    "def floors_statistics():\n",
    "    conn = sqlite3.connect('database.db')\n",
    "    c = conn.cursor()\n",
    "\n",
    "    c.execute(\"SELECT SUM(tempo), MIN(tempo), MAX(tempo), AVG(tempo) FROM music\")\n",
    "    result = c.fetchone()\n",
    "\n",
    "    conn.close()\n",
    "\n",
    "    return result"
   ]
  },
  {
   "cell_type": "code",
   "execution_count": 16,
   "id": "9206e7e6",
   "metadata": {},
   "outputs": [],
   "source": [
    "# Вывод частоты встречаемости для категориального поля ['artist']\n",
    "def city_frequency():\n",
    "    conn = sqlite3.connect('database.db')\n",
    "    c = conn.cursor()\n",
    "\n",
    "    c.execute(\"SELECT artist, COUNT(*) FROM music GROUP BY artist\")\n",
    "    result = c.fetchall()\n",
    "\n",
    "    conn.close()\n",
    "\n",
    "    return result"
   ]
  },
  {
   "cell_type": "code",
   "execution_count": 17,
   "id": "0e4b0bd1",
   "metadata": {},
   "outputs": [],
   "source": [
    "# Вывод первых 32 отфильтрованных по произвольному предикату и отсортированных по числовому полю ['duration_ms'] в файл json\n",
    "def filter_and_sort_by_views():\n",
    "    conn = sqlite3.connect('database.db')\n",
    "    c = conn.cursor()\n",
    "\n",
    "    c.execute(\"SELECT * FROM music WHERE duration_ms > 10000 ORDER BY duration_ms LIMIT 32\")\n",
    "    result = c.fetchall()\n",
    "\n",
    "    with open('filtered_properties_3.json', 'w', encoding='utf-8') as file:\n",
    "        json.dump(result, file, ensure_ascii=False)\n",
    "\n",
    "    conn.close()  "
   ]
  },
  {
   "cell_type": "code",
   "execution_count": 18,
   "id": "b719b34d",
   "metadata": {},
   "outputs": [],
   "source": [
    "create_table()\n",
    "insert_data()\n",
    "sort_by_year()\n",
    "floors_statistics()\n",
    "city_frequency()\n",
    "filter_and_sort_by_views()  "
   ]
  },
  {
   "cell_type": "code",
   "execution_count": null,
   "id": "a5fe70c0",
   "metadata": {},
   "outputs": [],
   "source": []
  }
 ],
 "metadata": {
  "kernelspec": {
   "display_name": "Python 3 (ipykernel)",
   "language": "python",
   "name": "python3"
  },
  "language_info": {
   "codemirror_mode": {
    "name": "ipython",
    "version": 3
   },
   "file_extension": ".py",
   "mimetype": "text/x-python",
   "name": "python",
   "nbconvert_exporter": "python",
   "pygments_lexer": "ipython3",
   "version": "3.9.7"
  }
 },
 "nbformat": 4,
 "nbformat_minor": 5
}
