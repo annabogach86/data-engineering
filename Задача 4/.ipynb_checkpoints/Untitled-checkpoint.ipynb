{
 "cells": [
  {
   "cell_type": "code",
   "execution_count": 1,
   "id": "d7e4f18b",
   "metadata": {},
   "outputs": [],
   "source": [
    "# Предметная область: книги \n",
    "# Книги разных жанров."
   ]
  },
  {
   "cell_type": "code",
   "execution_count": 897,
   "id": "1fc8b75c",
   "metadata": {},
   "outputs": [],
   "source": [
    "from pymongo import MongoClient, collection\n",
    "from bson import ObjectId\n",
    "import pandas as pd\n",
    "import json\n",
    "import csv\n",
    "from statistics import mean, median"
   ]
  },
  {
   "cell_type": "code",
   "execution_count": 785,
   "id": "9e81673d",
   "metadata": {},
   "outputs": [
    {
     "data": {
      "text/html": [
       "<div>\n",
       "<style scoped>\n",
       "    .dataframe tbody tr th:only-of-type {\n",
       "        vertical-align: middle;\n",
       "    }\n",
       "\n",
       "    .dataframe tbody tr th {\n",
       "        vertical-align: top;\n",
       "    }\n",
       "\n",
       "    .dataframe thead th {\n",
       "        text-align: right;\n",
       "    }\n",
       "</style>\n",
       "<table border=\"1\" class=\"dataframe\">\n",
       "  <thead>\n",
       "    <tr style=\"text-align: right;\">\n",
       "      <th></th>\n",
       "      <th>availability</th>\n",
       "      <th>category</th>\n",
       "      <th>description</th>\n",
       "      <th>num_reviews</th>\n",
       "      <th>price</th>\n",
       "      <th>price_excl_tax</th>\n",
       "      <th>price_incl_tax</th>\n",
       "      <th>product_type</th>\n",
       "      <th>stars</th>\n",
       "      <th>tax</th>\n",
       "      <th>title</th>\n",
       "      <th>upc</th>\n",
       "      <th>url</th>\n",
       "    </tr>\n",
       "  </thead>\n",
       "  <tbody>\n",
       "    <tr>\n",
       "      <th>0</th>\n",
       "      <td>19</td>\n",
       "      <td>default</td>\n",
       "      <td>Since her assault, Miss Annette Chetwynd has b...</td>\n",
       "      <td>0</td>\n",
       "      <td>13.99</td>\n",
       "      <td>13.99</td>\n",
       "      <td>13.99</td>\n",
       "      <td>books</td>\n",
       "      <td>2</td>\n",
       "      <td>0.0</td>\n",
       "      <td>Since her assault, Miss Annette Chetwynd has b...</td>\n",
       "      <td>0312262ecafa5a40</td>\n",
       "      <td>https://books.toscrape.com/catalogue/starving-...</td>\n",
       "    </tr>\n",
       "    <tr>\n",
       "      <th>1</th>\n",
       "      <td>20</td>\n",
       "      <td>fiction</td>\n",
       "      <td>Dans une France assez proche de la nôtre, un h...</td>\n",
       "      <td>0</td>\n",
       "      <td>50.10</td>\n",
       "      <td>50.10</td>\n",
       "      <td>50.10</td>\n",
       "      <td>books</td>\n",
       "      <td>1</td>\n",
       "      <td>0.0</td>\n",
       "      <td>Dans une France assez proche de la nôtre, un h...</td>\n",
       "      <td>6957f44c3847a760</td>\n",
       "      <td>https://books.toscrape.com/catalogue/soumissio...</td>\n",
       "    </tr>\n",
       "    <tr>\n",
       "      <th>2</th>\n",
       "      <td>19</td>\n",
       "      <td>young adult</td>\n",
       "      <td>Patient Twenty-nine.A monster roams the halls ...</td>\n",
       "      <td>0</td>\n",
       "      <td>22.65</td>\n",
       "      <td>22.65</td>\n",
       "      <td>22.65</td>\n",
       "      <td>books</td>\n",
       "      <td>1</td>\n",
       "      <td>0.0</td>\n",
       "      <td>Patient Twenty-nine.A monster roams the halls ...</td>\n",
       "      <td>f77dbf2323deb740</td>\n",
       "      <td>https://books.toscrape.com/catalogue/the-requi...</td>\n",
       "    </tr>\n",
       "    <tr>\n",
       "      <th>3</th>\n",
       "      <td>20</td>\n",
       "      <td>history</td>\n",
       "      <td>From a renowned historian comes a groundbreaki...</td>\n",
       "      <td>0</td>\n",
       "      <td>54.23</td>\n",
       "      <td>54.23</td>\n",
       "      <td>54.23</td>\n",
       "      <td>books</td>\n",
       "      <td>5</td>\n",
       "      <td>0.0</td>\n",
       "      <td>From a renowned historian comes a groundbreaki...</td>\n",
       "      <td>4165285e1663650f</td>\n",
       "      <td>https://books.toscrape.com/catalogue/sapiens-a...</td>\n",
       "    </tr>\n",
       "    <tr>\n",
       "      <th>4</th>\n",
       "      <td>20</td>\n",
       "      <td>historical fiction</td>\n",
       "      <td>\"Erotic and absorbing...Written with starling ...</td>\n",
       "      <td>0</td>\n",
       "      <td>53.74</td>\n",
       "      <td>53.74</td>\n",
       "      <td>53.74</td>\n",
       "      <td>books</td>\n",
       "      <td>1</td>\n",
       "      <td>0.0</td>\n",
       "      <td>\"Erotic and absorbing...Written with starling ...</td>\n",
       "      <td>90fa61229261140a</td>\n",
       "      <td>https://books.toscrape.com/catalogue/tipping-t...</td>\n",
       "    </tr>\n",
       "  </tbody>\n",
       "</table>\n",
       "</div>"
      ],
      "text/plain": [
       "   availability            category  \\\n",
       "0            19             default   \n",
       "1            20             fiction   \n",
       "2            19         young adult   \n",
       "3            20             history   \n",
       "4            20  historical fiction   \n",
       "\n",
       "                                         description  num_reviews  price  \\\n",
       "0  Since her assault, Miss Annette Chetwynd has b...            0  13.99   \n",
       "1  Dans une France assez proche de la nôtre, un h...            0  50.10   \n",
       "2  Patient Twenty-nine.A monster roams the halls ...            0  22.65   \n",
       "3  From a renowned historian comes a groundbreaki...            0  54.23   \n",
       "4  \"Erotic and absorbing...Written with starling ...            0  53.74   \n",
       "\n",
       "   price_excl_tax  price_incl_tax product_type  stars  tax  \\\n",
       "0           13.99           13.99        books      2  0.0   \n",
       "1           50.10           50.10        books      1  0.0   \n",
       "2           22.65           22.65        books      1  0.0   \n",
       "3           54.23           54.23        books      5  0.0   \n",
       "4           53.74           53.74        books      1  0.0   \n",
       "\n",
       "                                               title               upc  \\\n",
       "0  Since her assault, Miss Annette Chetwynd has b...  0312262ecafa5a40   \n",
       "1  Dans une France assez proche de la nôtre, un h...  6957f44c3847a760   \n",
       "2  Patient Twenty-nine.A monster roams the halls ...  f77dbf2323deb740   \n",
       "3  From a renowned historian comes a groundbreaki...  4165285e1663650f   \n",
       "4  \"Erotic and absorbing...Written with starling ...  90fa61229261140a   \n",
       "\n",
       "                                                 url  \n",
       "0  https://books.toscrape.com/catalogue/starving-...  \n",
       "1  https://books.toscrape.com/catalogue/soumissio...  \n",
       "2  https://books.toscrape.com/catalogue/the-requi...  \n",
       "3  https://books.toscrape.com/catalogue/sapiens-a...  \n",
       "4  https://books.toscrape.com/catalogue/tipping-t...  "
      ]
     },
     "execution_count": 785,
     "metadata": {},
     "output_type": "execute_result"
    }
   ],
   "source": [
    "file_path = \"bookdata.csv\"\n",
    "data_csv = pd.read_csv(file_path, sep=',')\n",
    "data_csv[0:5]"
   ]
  },
  {
   "cell_type": "code",
   "execution_count": 786,
   "id": "8d9c9d77",
   "metadata": {
    "scrolled": true
   },
   "outputs": [
    {
     "data": {
      "text/plain": [
       "[{'id': 1,\n",
       "  'url': 'https://books.toscrape.com/catalogue/a-light-in-the-attic_1000/index.html',\n",
       "  'title': \"It's hard to imagine a world without A Light in the Attic. This now-classic collection of poetry and drawings from Shel Silverstein celebrates its 20th anniversary with this special edition. Silverstein's humorous and creative verse can amuse the dowdiest of readers. Lemon-faced adults and fidgety kids sit still and read these rhythmic words and laugh and smile and love th It's hard to imagine a world without A Light in the Attic. This now-classic collection of poetry and drawings from Shel Silverstein celebrates its 20th anniversary with this special edition. Silverstein's humorous and creative verse can amuse the dowdiest of readers. Lemon-faced adults and fidgety kids sit still and read these rhythmic words and laugh and smile and love that Silverstein. Need proof of his genius? RockabyeRockabye baby, in the treetopDon't you know a treetopIs no safe place to rock?And who put you up there,And your cradle, too?Baby, I think someone down here'sGot it in for you. Shel, you never sounded so good. ...more\",\n",
       "  'upc': 'a897fe39b1053632',\n",
       "  'product_type': 'books',\n",
       "  'price_excl_tax': 52.0,\n",
       "  'price_incl_tax': 52.0,\n",
       "  'tax': 0.0,\n",
       "  'price': 52.0,\n",
       "  'availability': 22,\n",
       "  'num_reviews': 0,\n",
       "  'stars': 3,\n",
       "  'category': 'poetry',\n",
       "  'description': '(\"It\\'s hard to imagine a world without A Light in the Attic. This now-classic collection of poetry and drawings from Shel Silverstein celebrates its 20th anniversary with this special edition. Silverstein\\'s humorous and creative verse can amuse the dowdiest of readers. Lemon-faced adults and fidgety kids sit still and read these rhythmic words and laugh and smile and love th It\\'s hard to imagine a world without A Light in the Attic. This now-classic collection of poetry and drawings from Shel Silverstein celebrates its 20th anniversary with this special edition. Silverstein\\'s humorous and creative verse can amuse the dowdiest of readers. Lemon-faced adults and fidgety kids sit still and read these rhythmic words and laugh and smile and love that Silverstein. Need proof of his genius? RockabyeRockabye baby, in the treetopDon\\'t you know a treetopIs no safe place to rock?And who put you up there,And your cradle, too?Baby, I think someone down here\\'sGot it in for you. Shel, you never sounded so good. ...more\",)'}]"
      ]
     },
     "execution_count": 786,
     "metadata": {},
     "output_type": "execute_result"
    }
   ],
   "source": [
    "with open('Books.json', 'r', encoding='utf-8') as json_file:\n",
    "    json_data = json.load(json_file)\n",
    "json_data[0:1]    "
   ]
  },
  {
   "cell_type": "code",
   "execution_count": 787,
   "id": "60f8c7a1",
   "metadata": {},
   "outputs": [],
   "source": [
    "def insert_data_to_mongodb(csv_file_path, json_file_path, host, port, db_name, collection_name):\n",
    "    # Подключение к MongoDB\n",
    "    client = MongoClient(host, port)\n",
    "    db = client[db_name]\n",
    "    collection = db[collection_name]\n",
    "    # Чтение данных из файла CSV\n",
    "    csv_data = pd.read_csv(csv_file_path)\n",
    "    # Запись данных из файла CSV в MongoDB\n",
    "    csv_data_dict = csv_data.to_dict(orient='records')\n",
    "    collection.insert_many(csv_data_dict)\n",
    "    # Чтение данных из файла JSON\n",
    "    with open(json_file_path) as json_file:\n",
    "        json_data = json.load(json_file)\n",
    "    for item in json_data:\n",
    "        item['_id'] = str(ObjectId())\n",
    "    # Запись данных из файла JSON в MongoDB\n",
    "    collection.insert_many(json_data)"
   ]
  },
  {
   "cell_type": "code",
   "execution_count": 830,
   "id": "82d40df5",
   "metadata": {},
   "outputs": [],
   "source": [
    "# 1) Получить 20 книг с рейтингом 'stars' меньше 2 и отсортированных по цене 'price'\n",
    "def get_books():\n",
    "    client = MongoClient(host, port)\n",
    "    db = client[db_name]\n",
    "    collection = db[collection_name]\n",
    "    query = {\"stars\": {\"$lt\": 2}}\n",
    "    result_1 = collection.find(query).sort(\"price\", 1).limit(20)\n",
    "    return result_1"
   ]
  },
  {
   "cell_type": "code",
   "execution_count": 893,
   "id": "3a199b44",
   "metadata": {},
   "outputs": [],
   "source": [
    "# 2) Получить книги с рейингом 'stars' 3, которые не относятся к определённому жанру \n",
    "#    'category': young adult, history\n",
    "def get_books_with_rating_and_exclude_genres():\n",
    "    client = MongoClient(host, port)\n",
    "    db = client[db_name]\n",
    "    collection = db[collection_name]\n",
    "    result_2 = collection.find({\n",
    "        'stars': 3,\n",
    "        'category': {'$ne': ['young adult', 'history']}\n",
    "    })\n",
    "    return result_2"
   ]
  },
  {
   "cell_type": "code",
   "execution_count": 895,
   "id": "f4f5fd98",
   "metadata": {},
   "outputs": [],
   "source": [
    "# 3) Получить книги, число 'availability' которых больше 18 и вычеркнуть из этого списка некторые книги \n",
    "#    по жанру'category' business, а также отсортировать по цене 'price'\n",
    "def get_books_with_availability_and_exclude_genre_and_sort_by_price():\n",
    "    client = MongoClient(host, port)\n",
    "    db = client[db_name]\n",
    "    collection = db[collection_name]\n",
    "    result_3 = collection.find({\n",
    "        'availability': {'$gt': 18},\n",
    "        'category': {'$ne': ['business']}\n",
    "    }).sort('price', 1)\n",
    "    return result_3"
   ]
  },
  {
   "cell_type": "code",
   "execution_count": 833,
   "id": "d25d655c",
   "metadata": {},
   "outputs": [],
   "source": [
    "# 4) Получить книги, количество которых меньше 3, где есть ссылка 'url' и сортировать по рейтингу 'stars'\n",
    "def get_books_with_low_availability():\n",
    "    client = MongoClient(host, port)\n",
    "    db = client[db_name]\n",
    "    collection = db[collection_name]\n",
    "    query = {\n",
    "        \"availability\": {\"$lt\": 3},\n",
    "        \"url\": {\"$exists\": True} \n",
    "    }\n",
    "    result_4 = collection.find(query).sort(\"stars\", -1)\n",
    "    return result_4"
   ]
  },
  {
   "cell_type": "code",
   "execution_count": 834,
   "id": "604173e7",
   "metadata": {},
   "outputs": [],
   "source": [
    "# 5) Получить количество книг с ценой 'price' меньше 30 или больше 50 в некоторых жанрах \n",
    "#    'category': default, fiction, sequential art\n",
    "def get_books_5():\n",
    "    client = MongoClient(host, port)\n",
    "    db = client[db_name]\n",
    "    collection = db[collection_name]\n",
    "    query = {\n",
    "        \"$and\": [\n",
    "            { \"$or\": [\n",
    "                { \"price\": { \"$lt\": 30 } },\n",
    "                { \"price\": { \"$gt\": 50 } }\n",
    "            ]},\n",
    "            { \"category\": { \"$in\": [\"default\", \"fiction\", \"sequential art\"] } }\n",
    "        ]\n",
    "    }\n",
    "    result_5 = collection.find(query)\n",
    "    return result_5"
   ]
  },
  {
   "cell_type": "code",
   "execution_count": 835,
   "id": "cb360a0e",
   "metadata": {},
   "outputs": [],
   "source": [
    "# 6) Получить статистику по ценам 'price'\n",
    "def get_price_statistics():\n",
    "    client = MongoClient(host, port)\n",
    "    db = client[db_name]\n",
    "    collection = db[collection_name]\n",
    "    query = [\n",
    "        {\n",
    "            \"$group\": {\n",
    "                \"_id\": None,\n",
    "                \"min_price\": { \"$min\": \"$price\" },\n",
    "                \"max_price\": { \"$max\": \"$price\" },\n",
    "                \"avg_price\": { \"$avg\": \"$price\" },\n",
    "                \"total_count\": { \"$sum\": 1 }\n",
    "            }\n",
    "        }\n",
    "    ]\n",
    "    result_6 = list(collection.aggregate(query))\n",
    "    return result_6   "
   ]
  },
  {
   "cell_type": "code",
   "execution_count": 836,
   "id": "10a7c369",
   "metadata": {},
   "outputs": [],
   "source": [
    "# 7) Получить все жанры книг 'category'\n",
    "def get_all_categories():\n",
    "    client = MongoClient(host, port)\n",
    "    db = client[db_name]\n",
    "    collection = db[collection_name]\n",
    "    result_7 = collection.distinct('category')\n",
    "    return result_7 "
   ]
  },
  {
   "cell_type": "code",
   "execution_count": 837,
   "id": "601d6b4e",
   "metadata": {},
   "outputs": [],
   "source": [
    "# 8) Для минимального рейтинга 'stars'=1 получить максимальную цену 'price'\n",
    "def get_max_price_by_min_stars():\n",
    "    client = MongoClient(host, port)\n",
    "    db = client[db_name]\n",
    "    collection = db[collection_name]\n",
    "    query = {\"stars\": 1}\n",
    "    projection = {\"price\": 1}\n",
    "    sort = [(\"price\", -1)]\n",
    "    result = collection.find(query, projection).sort(sort).limit(1)\n",
    "\n",
    "    # Обработка результата запроса\n",
    "    max_price = None\n",
    "    for doc in result:\n",
    "        max_price_8 = doc[\"price\"]\n",
    "\n",
    "    return max_price_8"
   ]
  },
  {
   "cell_type": "code",
   "execution_count": 901,
   "id": "118eafa4",
   "metadata": {},
   "outputs": [],
   "source": [
    "# 9) Получить статистику цен 'price' для определённых жанров 'category': young adult, history, historical fiction\n",
    "def get_rating_stats_by_category():\n",
    "    client = MongoClient(host, port)\n",
    "    db = client[db_name]\n",
    "    collection = db[collection_name]\n",
    "    genres = ['young adult', 'history', 'historical fiction']\n",
    "    price_statistics = {}\n",
    "\n",
    "    for genre in genres:\n",
    "        books = collection.find({'category': genre})\n",
    "        prices = [book['price'] for book in books]\n",
    "        price_statistics[genre] = {\n",
    "            'count': len(prices),\n",
    "            'mean': mean(prices),\n",
    "            'median': median(prices)\n",
    "        }\n",
    "    return price_statistics"
   ]
  },
  {
   "cell_type": "code",
   "execution_count": 883,
   "id": "a18d43f3",
   "metadata": {},
   "outputs": [],
   "source": [
    "# 10) Получить самую большую цену книги в жанре 'category': business и poetry с рейтингом 'stars' = 4\n",
    "def get_max_book_price():\n",
    "    client = MongoClient(host, port)\n",
    "    db = client[db_name]\n",
    "    collection = db[collection_name]\n",
    "    query = {\n",
    "        'category': {'$in': ['business', 'poetry']},\n",
    "        'stars': 4\n",
    "    }\n",
    "    sort_by_price_descending = [(\"price\", -1)]\n",
    "    result_10 = collection.find_one(query, sort=sort_by_price_descending)\n",
    "\n",
    "    return result_10[\"price\"] if result_10 else None"
   ]
  },
  {
   "cell_type": "code",
   "execution_count": 840,
   "id": "87e6db75",
   "metadata": {},
   "outputs": [],
   "source": [
    "# 11) Удалить книги по 'price' дешевле 10\n",
    "def delete_books_under_10():\n",
    "    client = MongoClient(host, port)\n",
    "    db = client[db_name]\n",
    "    collection = db[collection_name]\n",
    "    query = {\n",
    "        'price': {'lt': 10}}\n",
    "    result_11 = collection.delete_many(query)\n",
    "\n",
    "    return result_11"
   ]
  },
  {
   "cell_type": "code",
   "execution_count": 841,
   "id": "345c8d7b",
   "metadata": {},
   "outputs": [],
   "source": [
    "# 12) Увеличить цену 'price' в два раз книг в единичном экземпляре 'availability'\n",
    "def double_price_for_single_availability_books():\n",
    "    client = MongoClient(host, port)\n",
    "    db = client[db_name]\n",
    "    collection = db[collection_name]\n",
    "    query = {\n",
    "        \"availability\": 1\n",
    "    }\n",
    "    books = collection.find(query)\n",
    "    for book in books:\n",
    "        price = book[\"price\"]\n",
    "        increased_price = price * 2\n",
    "        result_12 = collection.update_one({\"_id\": book[\"_id\"]}, {\"$set\": {\"price\": increased_price}})\n",
    "\n",
    "\n",
    "    return result_12"
   ]
  },
  {
   "cell_type": "code",
   "execution_count": 842,
   "id": "aa25305c",
   "metadata": {},
   "outputs": [],
   "source": [
    "# 13) Уменьшить цену 'price' книг с рейтингом 'stars' = 1 в некоторых жанрах \n",
    "#    'category': young adult, history, если их количество 'availability' > 3\n",
    "def decrease_price_for_low_rated_books():\n",
    "    client = MongoClient(host, port)\n",
    "    db = client[db_name]\n",
    "    collection = db[collection_name]\n",
    "    query = {\n",
    "        \"stars\": 1,\n",
    "        \"category\": {\"$in\": [\"young adult\", \"history\"]},\n",
    "        \"availability\": {\"$gt\": 3}\n",
    "    }\n",
    "    books = collection.find(query)\n",
    "    for book in books:\n",
    "        price = book[\"price\"]\n",
    "        decreased_price = price - (price * 0.1)  # Уменьшаем цену на 10%\n",
    "        result_13 = collection.update_one({\"_id\": book[\"_id\"]}, {\"$set\": {\"price\": decreased_price}})\n",
    "\n",
    "    return result_13"
   ]
  },
  {
   "cell_type": "code",
   "execution_count": 843,
   "id": "1eaeb04e",
   "metadata": {},
   "outputs": [],
   "source": [
    "# 14) Увелчить 'availability' число каждой книги на единицу\n",
    "def increase_availability():\n",
    "    client = MongoClient(host, port)\n",
    "    db = client[db_name]\n",
    "    collection = db[collection_name]\n",
    "    books = collection.find()\n",
    "    for book in books:\n",
    "        availability = book[\"availability\"]\n",
    "        increased_availability = availability + 1\n",
    "        result_14 = collection.update_one({\"_id\": book[\"_id\"]}, {\"$set\": {\"availability\": increased_availability}})\n",
    "\n",
    "    return result_14"
   ]
  },
  {
   "cell_type": "code",
   "execution_count": 844,
   "id": "90c683c6",
   "metadata": {},
   "outputs": [],
   "source": [
    "# 15) Удалить книги с рейтингом 'stars' = 1\n",
    "def delete_books_with_one_star():\n",
    "    client = MongoClient(host, port)\n",
    "    db = client[db_name]\n",
    "    collection = db[collection_name]\n",
    "    query = {\n",
    "        'stars': 1\n",
    "    }\n",
    "    result_15 = collection.delete_many(query)\n",
    "\n",
    "    return result_15"
   ]
  },
  {
   "cell_type": "code",
   "execution_count": 856,
   "id": "e7fcecfe",
   "metadata": {},
   "outputs": [],
   "source": [
    "def default_json_encoder(obj):\n",
    "    if isinstance(obj, ObjectId):\n",
    "        return str(obj)\n",
    "    raise TypeError(f\"Object of type {obj.__class__.__name__} is not JSON serializable\")"
   ]
  },
  {
   "cell_type": "code",
   "execution_count": 859,
   "id": "1e7eba05",
   "metadata": {},
   "outputs": [],
   "source": [
    "def write_result_to_json(result, file_path):\n",
    "    result_list = list(result)\n",
    "    with open(file_path, 'w', encoding='utf-8') as file:\n",
    "        json.dump(result_list, file, indent=4, ensure_ascii=False, default=default_json_encoder)"
   ]
  },
  {
   "cell_type": "code",
   "execution_count": 869,
   "id": "fd2ff229",
   "metadata": {},
   "outputs": [],
   "source": [
    "def write_result_to_json_float(result, file_path):\n",
    "    with open(file_path, 'w', encoding='utf-8') as file:\n",
    "        json.dump(result, file, indent=4, ensure_ascii=False, default=default_json_encoder)"
   ]
  },
  {
   "cell_type": "code",
   "execution_count": 847,
   "id": "6625deb3",
   "metadata": {},
   "outputs": [],
   "source": [
    "def get_updated_data():\n",
    "    client = MongoClient(host, port)\n",
    "    db = client[db_name]\n",
    "    collection = db[collection_name]\n",
    "    updated_data = list(collection.find())\n",
    "    return updated_data"
   ]
  },
  {
   "cell_type": "code",
   "execution_count": 848,
   "id": "73d9cc42",
   "metadata": {},
   "outputs": [],
   "source": [
    "csv_path = 'bookdata.csv'\n",
    "json_path = 'Books.json'\n",
    "host = 'localhost'\n",
    "port = 27017\n",
    "db_name = 'mydatabase'\n",
    "collection_name = 'mycollection_books'"
   ]
  },
  {
   "cell_type": "code",
   "execution_count": 849,
   "id": "0181725c",
   "metadata": {},
   "outputs": [],
   "source": [
    "insert_data_to_mongodb(csv_path, json_path, host, port, db_name, collection_name)"
   ]
  },
  {
   "cell_type": "code",
   "execution_count": 860,
   "id": "7314b38f",
   "metadata": {},
   "outputs": [],
   "source": [
    "result_1 = get_books()\n",
    "write_result_to_json(result_1, 'result_1.json')"
   ]
  },
  {
   "cell_type": "code",
   "execution_count": 894,
   "id": "a70b92b2",
   "metadata": {},
   "outputs": [],
   "source": [
    "result_2 = get_books_with_rating_and_exclude_genres()\n",
    "write_result_to_json(result_2, 'result_2.json')"
   ]
  },
  {
   "cell_type": "code",
   "execution_count": 896,
   "id": "730db677",
   "metadata": {},
   "outputs": [],
   "source": [
    "result_3 = get_books_with_availability_and_exclude_genre_and_sort_by_price()\n",
    "write_result_to_json(result_3, 'result_3.json')"
   ]
  },
  {
   "cell_type": "code",
   "execution_count": 863,
   "id": "74ba07f7",
   "metadata": {},
   "outputs": [],
   "source": [
    "result_4 = get_books_with_low_availability()\n",
    "write_result_to_json(result_4, 'result_4.json')"
   ]
  },
  {
   "cell_type": "code",
   "execution_count": 864,
   "id": "7f4ee9c6",
   "metadata": {},
   "outputs": [],
   "source": [
    "result_5 = get_books_5()\n",
    "write_result_to_json(result_5, 'result_5.json')"
   ]
  },
  {
   "cell_type": "code",
   "execution_count": 865,
   "id": "16c7c546",
   "metadata": {},
   "outputs": [],
   "source": [
    "result_6 = get_price_statistics()\n",
    "write_result_to_json(result_6, 'result_6.json')"
   ]
  },
  {
   "cell_type": "code",
   "execution_count": 866,
   "id": "33da35fd",
   "metadata": {},
   "outputs": [],
   "source": [
    "result_7 = get_all_categories()\n",
    "write_result_to_json(result_7, 'result_7.json')"
   ]
  },
  {
   "cell_type": "code",
   "execution_count": 870,
   "id": "18e7ac9e",
   "metadata": {},
   "outputs": [],
   "source": [
    "max_price_8 = get_max_price_by_min_stars()\n",
    "write_result_to_json_float(max_price_8, 'result_8.json')"
   ]
  },
  {
   "cell_type": "code",
   "execution_count": 903,
   "id": "946f6edf",
   "metadata": {},
   "outputs": [],
   "source": [
    "price_statistics = get_rating_stats_by_category()\n",
    "write_result_to_json_float(price_statistics, 'result_9.json')"
   ]
  },
  {
   "cell_type": "code",
   "execution_count": 884,
   "id": "c2b22fa9",
   "metadata": {},
   "outputs": [],
   "source": [
    "result_10 = get_max_book_price()\n",
    "write_result_to_json_float(result_10, 'result_10.json')"
   ]
  },
  {
   "cell_type": "code",
   "execution_count": 875,
   "id": "e3fd52f5",
   "metadata": {},
   "outputs": [],
   "source": [
    "result_11 = delete_books_under_10()"
   ]
  },
  {
   "cell_type": "code",
   "execution_count": 876,
   "id": "5e69b66b",
   "metadata": {},
   "outputs": [],
   "source": [
    "result_12 = double_price_for_single_availability_books()"
   ]
  },
  {
   "cell_type": "code",
   "execution_count": 877,
   "id": "74be3efa",
   "metadata": {},
   "outputs": [],
   "source": [
    "result_13 = decrease_price_for_low_rated_books()"
   ]
  },
  {
   "cell_type": "code",
   "execution_count": 878,
   "id": "6036e37e",
   "metadata": {},
   "outputs": [],
   "source": [
    "result_14 = increase_availability()"
   ]
  },
  {
   "cell_type": "code",
   "execution_count": 879,
   "id": "f50d302e",
   "metadata": {},
   "outputs": [],
   "source": [
    "result_15 = delete_books_with_one_star()"
   ]
  },
  {
   "cell_type": "code",
   "execution_count": 880,
   "id": "e86795dd",
   "metadata": {},
   "outputs": [],
   "source": [
    "write_result_to_json(get_updated_data(), 'result_5_updated_data.json')"
   ]
  },
  {
   "cell_type": "code",
   "execution_count": null,
   "id": "61dbb84a",
   "metadata": {},
   "outputs": [],
   "source": []
  }
 ],
 "metadata": {
  "kernelspec": {
   "display_name": "Python 3 (ipykernel)",
   "language": "python",
   "name": "python3"
  },
  "language_info": {
   "codemirror_mode": {
    "name": "ipython",
    "version": 3
   },
   "file_extension": ".py",
   "mimetype": "text/x-python",
   "name": "python",
   "nbconvert_exporter": "python",
   "pygments_lexer": "ipython3",
   "version": "3.9.7"
  }
 },
 "nbformat": 4,
 "nbformat_minor": 5
}
