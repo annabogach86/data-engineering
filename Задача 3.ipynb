{
 "cells": [
  {
   "cell_type": "code",
   "execution_count": 1,
   "id": "1be6329e",
   "metadata": {},
   "outputs": [],
   "source": [
    "# Считайте массив объектов в формате json. \n",
    "# Агрегируйте информацию по каждому товару, получив следующую информацию: \n",
    "# средняя цена, максимальная цена, минимальная цена. \n",
    "# Сохранить полученную информацию по каждому объекту в формате json, \n",
    "# а также в формате msgpack. \n",
    "# Сравните размеры полученных файлов."
   ]
  },
  {
   "cell_type": "code",
   "execution_count": 2,
   "id": "5f10dd10",
   "metadata": {},
   "outputs": [],
   "source": [
    "import json\n",
    "import msgpack\n",
    "import os"
   ]
  },
  {
   "cell_type": "code",
   "execution_count": 8,
   "id": "ed57ec31",
   "metadata": {},
   "outputs": [
    {
     "name": "stdout",
     "output_type": "stream",
     "text": [
      "[{'name': 'Blackberry', 'max': 100.0, 'min': 5.03, 'avr': 52.84742857142852}, {'name': 'Peach', 'max': 99.99, 'min': 5.09, 'avr': 56.17716931216939}, {'name': 'Blueberry', 'max': 99.78, 'min': 5.23, 'avr': 51.87535816618909}, {'name': 'Plum', 'max': 99.6, 'min': 5.71, 'avr': 51.87005291005286}, {'name': 'Strawberry', 'max': 99.95, 'min': 5.53, 'avr': 54.20525373134329}, {'name': 'Mango', 'max': 99.98, 'min': 5.65, 'avr': 50.87894179894184}, {'name': 'Grapes', 'max': 99.88, 'min': 5.05, 'avr': 51.566957605985024}, {'name': 'Boysenberry', 'max': 99.63, 'min': 5.52, 'avr': 55.519718670076735}, {'name': 'Cherry', 'max': 99.96, 'min': 5.03, 'avr': 53.070026315789455}, {'name': 'Raspberry', 'max': 99.99, 'min': 6.69, 'avr': 52.51517426273458}, {'name': 'Cranberry', 'max': 99.98, 'min': 5.08, 'avr': 51.573595505617966}, {'name': 'Apricot', 'max': 99.83, 'min': 5.2, 'avr': 51.36280373831778}, {'name': 'Banana', 'max': 99.67, 'min': 5.29, 'avr': 54.83782352941176}, {'name': 'Melon', 'max': 99.01, 'min': 5.09, 'avr': 53.58792507204608}, {'name': 'Guava', 'max': 99.92, 'min': 5.15, 'avr': 51.79102209944752}, {'name': 'Pineapple', 'max': 99.81, 'min': 5.15, 'avr': 55.25013850415509}, {'name': 'Apple', 'max': 99.73, 'min': 5.02, 'avr': 50.15138211382117}, {'name': 'Kiwifruit', 'max': 99.83, 'min': 5.41, 'avr': 52.5200279329609}, {'name': 'Papaya', 'max': 99.51, 'min': 5.12, 'avr': 52.92181303116145}, {'name': 'Orange', 'max': 98.9, 'min': 5.08, 'avr': 51.257161458333314}]\n"
     ]
    }
   ],
   "source": [
    "with open('./products_17_3.json') as f:\n",
    "    data = json.load(f)\n",
    "    # print(data)\n",
    "    \n",
    "    products = dict()\n",
    "    for item in data:\n",
    "        if item['name'] in products:\n",
    "            products[item['name']].append(item['price'])\n",
    "        else:\n",
    "            products[item['name']] = []\n",
    "            products[item['name']].append(item['price'])\n",
    "    # print(products)\n",
    "    \n",
    "    result = []\n",
    "    for name, prices in products.items():\n",
    "        sum_price = 0\n",
    "        max_price = prices[0]\n",
    "        min_price = prices[0]\n",
    "        size = len(prices)\n",
    "        for price in prices:\n",
    "            sum_price += price\n",
    "            max_price = max(max_price, price)\n",
    "            min_price = min(min_price, price)\n",
    "            \n",
    "        result.append({\n",
    "            'name': name,\n",
    "            'max': max_price,\n",
    "            'min': min_price,\n",
    "            'avr': sum_price / size\n",
    "        })\n",
    "        \n",
    "    print(result)"
   ]
  },
  {
   "cell_type": "code",
   "execution_count": 12,
   "id": "39f0bde7",
   "metadata": {},
   "outputs": [],
   "source": [
    "with open('products_result_3.json', 'w') as res:\n",
    "    res.write(json.dumps(result))\n",
    "with open('products_result_3.msgpack', 'wb') as r_msgpack:\n",
    "    r_msgpack.write(msgpack.dumps(result))"
   ]
  },
  {
   "cell_type": "code",
   "execution_count": 13,
   "id": "c9ed6d58",
   "metadata": {},
   "outputs": [
    {
     "name": "stdout",
     "output_type": "stream",
     "text": [
      "json = 1483\n",
      "msgpack = 1065\n"
     ]
    }
   ],
   "source": [
    "print(f\"json = {os.path.getsize('products_result_3.json')}\")\n",
    "print(f\"msgpack = {os.path.getsize('products_result_3.msgpack')}\")"
   ]
  },
  {
   "cell_type": "code",
   "execution_count": null,
   "id": "35169aa0",
   "metadata": {},
   "outputs": [],
   "source": []
  }
 ],
 "metadata": {
  "kernelspec": {
   "display_name": "Python 3 (ipykernel)",
   "language": "python",
   "name": "python3"
  },
  "language_info": {
   "codemirror_mode": {
    "name": "ipython",
    "version": 3
   },
   "file_extension": ".py",
   "mimetype": "text/x-python",
   "name": "python",
   "nbconvert_exporter": "python",
   "pygments_lexer": "ipython3",
   "version": "3.9.7"
  }
 },
 "nbformat": 4,
 "nbformat_minor": 5
}
