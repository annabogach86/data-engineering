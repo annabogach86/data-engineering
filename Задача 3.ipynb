{
 "cells": [
  {
   "cell_type": "code",
   "execution_count": 1,
   "id": "9daf61d2",
   "metadata": {},
   "outputs": [],
   "source": [
    "# Исследовать структуру xml-файлов, чтобы произвести парсинг всех данных. \n",
    "# В каждом файле содержится информация об одном объекте из случайной предметной области. \n",
    "# Полученные данные собрать и записать в json. \n",
    "# Выполните также ряд операций с данными:\n",
    "# отсортируйте значения по одному из доступных полей\n",
    "# выполните фильтрацию по другому полю (запишите результат отдельно)\n",
    "# для одного выбранного числового поля посчитайте статистические характеристики (сумма, мин/макс, среднее и т.д.)\n",
    "# для одного текстового поля посчитайте частоту меток."
   ]
  },
  {
   "cell_type": "code",
   "execution_count": 4,
   "id": "70744a3f",
   "metadata": {},
   "outputs": [],
   "source": [
    "from bs4 import BeautifulSoup\n",
    "import re\n",
    "import json\n",
    "import math\n",
    "import collections\n",
    "import pandas as pd"
   ]
  },
  {
   "cell_type": "code",
   "execution_count": 5,
   "id": "09244769",
   "metadata": {},
   "outputs": [],
   "source": [
    "def handle_file(file_name):\n",
    "    with open(file_name, encoding = 'utf-8') as file:\n",
    "        text = \"\"\n",
    "        for row in file.readlines():\n",
    "            text += row\n",
    "        item = dict()\n",
    "        site = BeautifulSoup(text, 'xml').star\n",
    "        for i in site.contents:\n",
    "            if i.name == \"radius\":\n",
    "                item[i.name] = int(i.get_text().strip())\n",
    "            elif i.name is not None:\n",
    "                item[i.name] = i.get_text().strip()\n",
    "        return item        "
   ]
  },
  {
   "cell_type": "code",
   "execution_count": 6,
   "id": "3896668f",
   "metadata": {},
   "outputs": [
    {
     "name": "stdout",
     "output_type": "stream",
     "text": [
      "[{'name': 'Антарес 3397', 'constellation': 'Близнецы', 'spectral-class': 'G5H', 'radius': 575992334, 'rotation': '765.69 days', 'age': '0.39 billion years', 'distance': '6846166.28 million km', 'absolute-magnitude': '4.12 million km'}, {'name': 'Ригель 7406', 'constellation': 'Скорпион', 'spectral-class': 'L1R', 'radius': 147205976, 'rotation': '104.1 days', 'age': '2.45 billion years', 'distance': '5877514.41 million km', 'absolute-magnitude': '5.92 million km'}, {'name': 'Ригель 9103', 'constellation': 'Рыбы', 'spectral-class': 'P4K', 'radius': 894000107, 'rotation': '843.34 days', 'age': '3.09 billion years', 'distance': '5989062.69 million km', 'absolute-magnitude': '3.78 million km'}, {'name': 'Хадар 7393', 'constellation': 'Дева', 'spectral-class': 'R3B', 'radius': 131966914, 'rotation': '731.57 days', 'age': '1.46 billion years', 'distance': '4110759.31 million km', 'absolute-magnitude': '3.73 million km'}]\n"
     ]
    }
   ],
   "source": [
    "items = []\n",
    "for i in range(1,501):\n",
    "  file_name = f'./3/{i}.xml'\n",
    "  result = handle_file(file_name)\n",
    "  items.append(result)\n",
    "print(items[1:5])"
   ]
  },
  {
   "cell_type": "code",
   "execution_count": 7,
   "id": "b454f319",
   "metadata": {},
   "outputs": [],
   "source": [
    "with open('result_all_17_3.json', 'w', encoding = 'utf-8') as f:\n",
    "    f.write(json.dumps(items, ensure_ascii=False))"
   ]
  },
  {
   "cell_type": "code",
   "execution_count": 8,
   "id": "f65b09a1",
   "metadata": {},
   "outputs": [
    {
     "name": "stdout",
     "output_type": "stream",
     "text": [
      "[{'name': 'Акрукс 9740', 'constellation': 'Рак', 'spectral-class': 'N5D', 'radius': 997649320, 'rotation': '288.22 days', 'age': '2.65 billion years', 'distance': '3369860.67 million km', 'absolute-magnitude': '3.2 million km'}, {'name': 'Ригель 4501', 'constellation': 'Дева', 'spectral-class': 'F9H', 'radius': 995945399, 'rotation': '883.95 days', 'age': '5.96 billion years', 'distance': '5450432.28 million km', 'absolute-magnitude': '6.26 million km'}, {'name': 'Вега 3188', 'constellation': 'Близнецы', 'spectral-class': 'N0I', 'radius': 992313434, 'rotation': '294.62 days', 'age': '5.43 billion years', 'distance': '5254729.23 million km', 'absolute-magnitude': '9.53 million km'}, {'name': 'Вега 6133', 'constellation': 'Стрелец', 'spectral-class': 'N3A', 'radius': 990467931, 'rotation': '907.52 days', 'age': '1.37 billion years', 'distance': '7137906.67 million km', 'absolute-magnitude': '4.04 million km'}]\n"
     ]
    }
   ],
   "source": [
    "# Отсортируeм значения по полю ['radius'] в убывающем порядке:\n",
    "items = sorted(items, key = lambda x: x['radius'], reverse = True)\n",
    "print(items[1:5])"
   ]
  },
  {
   "cell_type": "code",
   "execution_count": 9,
   "id": "48f25922",
   "metadata": {},
   "outputs": [
    {
     "name": "stdout",
     "output_type": "stream",
     "text": [
      "[{'name': 'Ригель 2940', 'constellation': 'Рак', 'spectral-class': 'U7A', 'radius': 950523713, 'rotation': '183.19 days', 'age': '0.14 billion years', 'distance': '1859504.49 million km', 'absolute-magnitude': '7.46 million km'}, {'name': 'Вега 5446', 'constellation': 'Рак', 'spectral-class': 'V0F', 'radius': 948368683, 'rotation': '508.98 days', 'age': '2.61 billion years', 'distance': '8202531.2 million km', 'absolute-magnitude': '9.24 million km'}, {'name': 'Бетельгейзе 6763', 'constellation': 'Рак', 'spectral-class': 'T6K', 'radius': 854844975, 'rotation': '825.93 days', 'age': '1.87 billion years', 'distance': '7267516.63 million km', 'absolute-magnitude': '1.65 million km'}, {'name': 'Бетельгейзе 6728', 'constellation': 'Рак', 'spectral-class': 'C2D', 'radius': 794491742, 'rotation': '877.29 days', 'age': '5.26 billion years', 'distance': '7266940.17 million km', 'absolute-magnitude': '7.24 million km'}]\n"
     ]
    }
   ],
   "source": [
    "# Выполним фильтрацию по полю ['constellation']:\n",
    "filtered_items = []\n",
    "for star in items:\n",
    "    if star['constellation'] == 'Рак':\n",
    "        filtered_items.append(star)\n",
    "print(filtered_items[1:5])     "
   ]
  },
  {
   "cell_type": "code",
   "execution_count": 10,
   "id": "5c527356",
   "metadata": {},
   "outputs": [],
   "source": [
    "with open(\"result_filtered_17_3.json\", \"w\", encoding = 'utf-8') as file:\n",
    "    file.write(json.dumps(filtered_items, ensure_ascii=False))"
   ]
  },
  {
   "cell_type": "code",
   "execution_count": 11,
   "id": "5c377f44",
   "metadata": {},
   "outputs": [
    {
     "name": "stdout",
     "output_type": "stream",
     "text": [
      "[{'max': 998507510.0, 'min': 1188521.0, 'mean': 506708092.212, 'median': 515373246.5, 'std': 281279678.18452716}]\n"
     ]
    }
   ],
   "source": [
    "# для числового поля ['radius'] посчитаем статистические характеристики (сумма, мин/макс, среднее и т.д.)\n",
    "stats_items = []\n",
    "df = pd.DataFrame(items)\n",
    "pd.set_option('display.float_format', '{:.1f}'.format)\n",
    "stats = df['radius'].agg(['max', 'min', 'mean', 'median', 'std']).to_dict()\n",
    "stats_items.append(stats)\n",
    "print(stats_items)"
   ]
  },
  {
   "cell_type": "code",
   "execution_count": 16,
   "id": "501bced6",
   "metadata": {},
   "outputs": [
    {
     "name": "stdout",
     "output_type": "stream",
     "text": [
      "[Counter({'Рыбы': 50, 'Весы': 47, 'Стрелец': 46, 'Скорпион': 46, 'Близнецы': 43, 'Телец': 43, 'Лев': 42, 'Овен': 41, 'Рак': 39, 'Дева': 39, 'Водолей': 37, 'Козерог': 27})]\n"
     ]
    }
   ],
   "source": [
    "# для текстового поля ['constellation'] посчитайте частоту меток\n",
    "text_items = []\n",
    "text = [item['constellation'] for item in items]\n",
    "f1 = collections.Counter(text)\n",
    "text_items.append(f1)\n",
    "print(text_items)"
   ]
  },
  {
   "cell_type": "code",
   "execution_count": null,
   "id": "31a2ba47",
   "metadata": {},
   "outputs": [],
   "source": []
  }
 ],
 "metadata": {
  "kernelspec": {
   "display_name": "Python 3 (ipykernel)",
   "language": "python",
   "name": "python3"
  },
  "language_info": {
   "codemirror_mode": {
    "name": "ipython",
    "version": 3
   },
   "file_extension": ".py",
   "mimetype": "text/x-python",
   "name": "python",
   "nbconvert_exporter": "python",
   "pygments_lexer": "ipython3",
   "version": "3.9.7"
  }
 },
 "nbformat": 4,
 "nbformat_minor": 5
}
