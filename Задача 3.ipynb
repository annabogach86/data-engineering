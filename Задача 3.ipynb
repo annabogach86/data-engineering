{
 "cells": [
  {
   "cell_type": "code",
   "execution_count": 262,
   "id": "8819930b",
   "metadata": {},
   "outputs": [],
   "source": [
    "# Дан файл с некоторыми данными. Формат файла – произвольный, не совпадает с тем, что был в первом/втором заданиях. \n",
    "# Необходимо считать данные и добавить их к той коллекции, куда были записаны данные в первом и втором заданиях. \n",
    "# Выполните следующие запросы:\n",
    "#   удалить из коллекции документы по предикату: salary < 25 000 || salary > 175000\n",
    "#   увеличить возраст (age) всех документов на 1\n",
    "#   поднять заработную плату на 5% для произвольно выбранных профессий\n",
    "#   поднять заработную плату на 7% для произвольно выбранных городов\n",
    "#   поднять заработную плату на 10% для выборки по сложному предикату \n",
    "#       (произвольный город, произвольный набор профессий, произвольный диапазон возраста)\n",
    "#   удалить из коллекции записи по произвольному предикату"
   ]
  },
  {
   "cell_type": "code",
   "execution_count": 482,
   "id": "be0d0784",
   "metadata": {},
   "outputs": [],
   "source": [
    "#with open('task_3_item.text', 'r', encoding='utf-8') as file:\n",
    "    #content = file.read()\n",
    "#lines = content.splitlines()\n",
    "#for line in lines:\n",
    "    #print(line)   "
   ]
  },
  {
   "cell_type": "code",
   "execution_count": 590,
   "id": "61245a49",
   "metadata": {},
   "outputs": [],
   "source": [
    "import json\n",
    "from pymongo import MongoClient, collection\n",
    "from bson import ObjectId"
   ]
  },
  {
   "cell_type": "code",
   "execution_count": 591,
   "id": "714d0996",
   "metadata": {},
   "outputs": [],
   "source": [
    "def read_data(file_name):\n",
    "    with open(file_name, 'r', encoding='utf-8') as file:\n",
    "        lines = file.readlines()\n",
    "\n",
    "    data = []\n",
    "    current_item = {}\n",
    "    for line in lines:\n",
    "        line = line.strip()\n",
    "        if line.startswith(\"#\"):\n",
    "            if current_item:\n",
    "                data.append(current_item)\n",
    "                current_item = {}\n",
    "        else:\n",
    "            parts = line.split(\"::\")\n",
    "            if len(parts) == 2:\n",
    "                key, value = parts\n",
    "                current_item[key] = value\n",
    "\n",
    "    if current_item:\n",
    "        data.append(current_item)\n",
    "\n",
    "    return data"
   ]
  },
  {
   "cell_type": "code",
   "execution_count": 592,
   "id": "61f31e15",
   "metadata": {},
   "outputs": [],
   "source": [
    "def write_data_to_mongodb(data, host, port, db_name, collection_name):\n",
    "    client = MongoClient(host, port)\n",
    "    db = client[db_name]\n",
    "    collection = db[collection_name]\n",
    "    collection.insert_many(data)\n",
    "    client.close()"
   ]
  },
  {
   "cell_type": "code",
   "execution_count": 593,
   "id": "03ae4545",
   "metadata": {},
   "outputs": [],
   "source": [
    "def remove_documents_by_predicate(predicate):\n",
    "    client = MongoClient(host, port)\n",
    "    db = client[db_name]\n",
    "    collection = db[collection_name]\n",
    "    result_1 = collection.delete_many(predicate)\n",
    "    return result_1"
   ]
  },
  {
   "cell_type": "code",
   "execution_count": 594,
   "id": "194f970a",
   "metadata": {},
   "outputs": [],
   "source": [
    "def increase_age():\n",
    "    client = MongoClient(host, port)\n",
    "    db = client[db_name]\n",
    "    collection = db[collection_name]\n",
    "    non_numeric_docs = collection.find({'age': {'$not': {'$type': 'number'}}})\n",
    "    collection.update_many({'age': {'$not': {'$type': 'number'}}}, {'$set': {'age': 0}})\n",
    "    result_2 = collection.update_many({}, {'$inc': {'age': 1}})  # Увеличить возраст (age) всех документов на 1\n",
    "    return result_2"
   ]
  },
  {
   "cell_type": "code",
   "execution_count": 595,
   "id": "6b1a7e5d",
   "metadata": {},
   "outputs": [],
   "source": [
    "def increase_salary_for_professions(professions, percent_increase):\n",
    "    client = MongoClient(host, port)\n",
    "    db = client[db_name]\n",
    "    collection = db[collection_name]\n",
    "    result_3 = collection.update_many({'job': {'$in': professions}}, {'$mul': {'salary': 1 + percent_increase / 100}})\n",
    "    return result_3"
   ]
  },
  {
   "cell_type": "code",
   "execution_count": 596,
   "id": "86f369c5",
   "metadata": {},
   "outputs": [],
   "source": [
    "def increase_salary_for_cities(cities, percent_increase_2):\n",
    "    client = MongoClient(host, port)\n",
    "    db = client[db_name]\n",
    "    collection = db[collection_name]\n",
    "    result_4 = collection.update_many({'city': {'$in': cities}}, {'$mul': {'salary': 1 + percent_increase_2 / 100}})\n",
    "    return result_4"
   ]
  },
  {
   "cell_type": "code",
   "execution_count": 597,
   "id": "201e47e9",
   "metadata": {},
   "outputs": [],
   "source": [
    "def increase_salary_complex_predicate(city_2, professions, min_age, max_age, percent_increase_3):\n",
    "    client = MongoClient(host, port)\n",
    "    db = client[db_name]\n",
    "    collection = db[collection_name]\n",
    "    result_5 = collection.update_many(\n",
    "        {'$and': [\n",
    "            {'city': city_2},\n",
    "            {'job': {'$in': professions}},\n",
    "            {'age': {'$gte': min_age, '$lte': max_age}}\n",
    "        ]},\n",
    "        {'$mul': {'salary': 1 + percent_increase_3 / 100}}\n",
    "    )\n",
    "    return result_5"
   ]
  },
  {
   "cell_type": "code",
   "execution_count": 598,
   "id": "ab0c075c",
   "metadata": {},
   "outputs": [],
   "source": [
    "def default_json_encoder(obj):\n",
    "    if isinstance(obj, ObjectId):\n",
    "        return str(obj)\n",
    "    raise TypeError(f\"Object of type {obj.__class__.__name__} is not JSON serializable\")"
   ]
  },
  {
   "cell_type": "code",
   "execution_count": 599,
   "id": "36ce9c1f",
   "metadata": {},
   "outputs": [],
   "source": [
    "def write_result_to_json_del(result, file_path):\n",
    "    with open(file_path, 'w', encoding='utf-8') as file:\n",
    "        json.dump(result, file, indent=4, ensure_ascii=False, default=default_json_encoder)      "
   ]
  },
  {
   "cell_type": "code",
   "execution_count": 600,
   "id": "045625b2",
   "metadata": {},
   "outputs": [],
   "source": [
    "# Параметры\n",
    "file_name = 'task_3_item.text'\n",
    "host = 'localhost'\n",
    "port = 27017\n",
    "db_name = 'mydatabase'\n",
    "collection_name = 'mycollection_3'\n",
    "professions = ['Водитель', 'Учитель', 'Медсестра']\n",
    "percent_increase = 5\n",
    "cities = ['Краков', 'Семана', 'Хельсинки']\n",
    "percent_increase_2 = 7\n",
    "city_2 = ['Сория', 'Будапешт', 'Авилес']\n",
    "min_age = 50\n",
    "max_age = 23\n",
    "percent_increase_3 = 10"
   ]
  },
  {
   "cell_type": "code",
   "execution_count": 601,
   "id": "bf53b5ae",
   "metadata": {},
   "outputs": [],
   "source": [
    "# Чтение данных из файла\n",
    "data = read_data(file_name)"
   ]
  },
  {
   "cell_type": "code",
   "execution_count": 602,
   "id": "a7cc6d19",
   "metadata": {},
   "outputs": [],
   "source": [
    "# Запись данных в MongoDB\n",
    "write_data_to_mongodb(data, host, port, db_name, collection_name)"
   ]
  },
  {
   "cell_type": "code",
   "execution_count": 603,
   "id": "c29ebb3b",
   "metadata": {},
   "outputs": [],
   "source": [
    "# Подключение к MongoDB и получение коллекции\n",
    "client = MongoClient(host, port)\n",
    "db = client[db_name]\n",
    "collection = db[collection_name]"
   ]
  },
  {
   "cell_type": "code",
   "execution_count": 604,
   "id": "8a527b16",
   "metadata": {},
   "outputs": [],
   "source": [
    "# удалить из коллекции документы по предикату: salary < 25 000 || salary > 175000\n",
    "result_1 = remove_documents_by_predicate({'$or': [{'salary': {'$lt': 25000}}, {'salary': {'$gt': 175000}}]})"
   ]
  },
  {
   "cell_type": "code",
   "execution_count": 605,
   "id": "0b8b1372",
   "metadata": {},
   "outputs": [],
   "source": [
    "# увеличить возраст (age) всех документов на 1\n",
    "result_2 = increase_age()"
   ]
  },
  {
   "cell_type": "code",
   "execution_count": 606,
   "id": "f4cdd213",
   "metadata": {},
   "outputs": [],
   "source": [
    "# поднять заработную плату на 5% для произвольно выбранных профессий\n",
    "result_3 = increase_salary_for_professions(professions, percent_increase)"
   ]
  },
  {
   "cell_type": "code",
   "execution_count": 607,
   "id": "d7d9ec25",
   "metadata": {},
   "outputs": [],
   "source": [
    "# поднять заработную плату на 7% для произвольно выбранных городов\n",
    "result_4 = increase_salary_for_cities(cities, percent_increase_2)"
   ]
  },
  {
   "cell_type": "code",
   "execution_count": 608,
   "id": "b3792cd5",
   "metadata": {},
   "outputs": [],
   "source": [
    "# поднять заработную плату на 10% для выборки по сложному предикату \n",
    "# (произвольный город, произвольный набор профессий, произвольный диапазон возраста)\n",
    "result_5 = increase_salary_complex_predicate(city_2, professions, min_age, max_age, percent_increase_3)"
   ]
  },
  {
   "cell_type": "code",
   "execution_count": 609,
   "id": "f6c885ba",
   "metadata": {},
   "outputs": [],
   "source": [
    "# удалить из коллекции записи по произвольному предикату year > 2005\n",
    "result_6 = remove_documents_by_predicate({'year': {'$gt': 2005}})"
   ]
  },
  {
   "cell_type": "code",
   "execution_count": 610,
   "id": "ef4affdd",
   "metadata": {},
   "outputs": [],
   "source": [
    "updated_data = list(collection.find())"
   ]
  },
  {
   "cell_type": "code",
   "execution_count": 611,
   "id": "0277e79f",
   "metadata": {},
   "outputs": [],
   "source": [
    "write_result_to_json_del(updated_data, 'task_3_result.json')"
   ]
  },
  {
   "cell_type": "code",
   "execution_count": null,
   "id": "4752c210",
   "metadata": {},
   "outputs": [],
   "source": []
  }
 ],
 "metadata": {
  "kernelspec": {
   "display_name": "Python 3 (ipykernel)",
   "language": "python",
   "name": "python3"
  },
  "language_info": {
   "codemirror_mode": {
    "name": "ipython",
    "version": 3
   },
   "file_extension": ".py",
   "mimetype": "text/x-python",
   "name": "python",
   "nbconvert_exporter": "python",
   "pygments_lexer": "ipython3",
   "version": "3.9.7"
  }
 },
 "nbformat": 4,
 "nbformat_minor": 5
}