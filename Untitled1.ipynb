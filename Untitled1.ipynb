{
 "cells": [
  {
   "cell_type": "code",
   "execution_count": 6,
   "id": "4ee6d00e",
   "metadata": {},
   "outputs": [
    {
     "ename": "SyntaxError",
     "evalue": "EOL while scanning string literal (Temp/ipykernel_5952/1672379901.py, line 16)",
     "output_type": "error",
     "traceback": [
      "\u001b[1;36m  File \u001b[1;32m\"C:\\Users\\73B5~1\\AppData\\Local\\Temp/ipykernel_5952/1672379901.py\"\u001b[1;36m, line \u001b[1;32m16\u001b[0m\n\u001b[1;33m    items = soup.find_all('div', class_ ='<div class=\"catalog-page\")\u001b[0m\n\u001b[1;37m                                                                                ^\u001b[0m\n\u001b[1;31mSyntaxError\u001b[0m\u001b[1;31m:\u001b[0m EOL while scanning string literal\n"
     ]
    }
   ],
   "source": [
    "import requests\n",
    "from bs4 import BeautifulSoup\n",
    "import json\n",
    "\n",
    "# Загрузка HTML-страницы\n",
    "url = 'https://belleyou.ru/catalog/odezhda/bryuki/'\n",
    "response = requests.get(url)\n",
    "html = response.text\n",
    "\n",
    "# Сохранение HTML-страницы локально\n",
    "with open('belleyou.html', 'w', encoding='utf-8') as file:\n",
    "    file.write(html)\n",
    "\n",
    "# Парсинг HTML-страницы\n",
    "soup = BeautifulSoup(html, 'html.parser')\n",
    "items = soup.find_all('div', class_ ='<div class=\"catalog-page\")            \n",
    "# Сбор результатов парсинга\n",
    "parsed_data = []\n",
    "for item in items:\n",
    "    title = item.find('div', class_='top-notify-2 belleyou-header-notification').text.strip()\n",
    "                      \n",
    "    price = item.find('div', class_='product-price').text.strip()\n",
    "    parsed_data.append({\n",
    "        'title': title,\n",
    "        'price': price\n",
    "    })\n",
    "print(parsed_data)    "
   ]
  },
  {
   "cell_type": "code",
   "execution_count": 2,
   "id": "b9c3037c",
   "metadata": {},
   "outputs": [],
   "source": [
    "# Сохранение результатов парсинга в JSON\n",
    "with open('belleyou_parsed.json', 'w', encoding='utf-8') as file:\n",
    "    json.dump(parsed_data, file, ensure_ascii=False, indent=4)"
   ]
  },
  {
   "cell_type": "code",
   "execution_count": null,
   "id": "716c0760",
   "metadata": {},
   "outputs": [],
   "source": []
  }
 ],
 "metadata": {
  "kernelspec": {
   "display_name": "Python 3 (ipykernel)",
   "language": "python",
   "name": "python3"
  },
  "language_info": {
   "codemirror_mode": {
    "name": "ipython",
    "version": 3
   },
   "file_extension": ".py",
   "mimetype": "text/x-python",
   "name": "python",
   "nbconvert_exporter": "python",
   "pygments_lexer": "ipython3",
   "version": "3.9.7"
  }
 },
 "nbformat": 4,
 "nbformat_minor": 5
}
