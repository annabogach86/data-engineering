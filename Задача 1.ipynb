{
 "cells": [
  {
   "cell_type": "code",
   "execution_count": null,
   "id": "b30a1a3e",
   "metadata": {},
   "outputs": [],
   "source": [
    "# Дан файл с некоторыми данными. Формат файла – произвольный. \n",
    "# Считайте данные из файла и запишите их в Mongo. \n",
    "# Реализуйте и выполните следующие запросы:\n",
    "#   вывод первых 10 записей, отсортированных по убыванию по полю salary;\n",
    "#   вывод первых 15 записей, отфильтрованных по предикату age < 30, отсортировать по убыванию по полю salary\n",
    "#   вывод первых 10 записей, отфильтрованных по сложному предикату: \n",
    "#          (записи только из произвольного города, записи только из трех произвольно взятых профессий), \n",
    "#          отсортировать по возрастанию по полю age\n",
    "#   вывод количества записей, получаемых в результате следующей фильтрации \n",
    "#          (age в произвольном диапазоне, year в [2019,2022], 50 000 < salary <= 75 000 || 125 000 < salary < 150 000). \n",
    "#   здесь и везде предполагаем вывод в JSON."
   ]
  },
  {
   "cell_type": "code",
   "execution_count": 3,
   "id": "ba8cd902",
   "metadata": {},
   "outputs": [
    {
     "name": "stdout",
     "output_type": "stream",
     "text": [
      "Collecting pymongo\n",
      "  Downloading pymongo-4.6.1-cp39-cp39-win_amd64.whl (472 kB)\n",
      "Collecting dnspython<3.0.0,>=1.16.0\n",
      "  Downloading dnspython-2.4.2-py3-none-any.whl (300 kB)\n",
      "Installing collected packages: dnspython, pymongo\n",
      "Successfully installed dnspython-2.4.2 pymongo-4.6.1\n"
     ]
    }
   ],
   "source": [
    "!pip install pymongo"
   ]
  },
  {
   "cell_type": "code",
   "execution_count": 60,
   "id": "5994e353",
   "metadata": {},
   "outputs": [],
   "source": [
    "import json\n",
    "import msgpack\n",
    "from pymongo import MongoClient, collection\n",
    "from bson import ObjectId"
   ]
  },
  {
   "cell_type": "code",
   "execution_count": 61,
   "id": "55242ab6",
   "metadata": {},
   "outputs": [
    {
     "data": {
      "text/plain": [
       "[{'job': 'Психолог',\n",
       "  'salary': 197587,\n",
       "  'id': 9164940,\n",
       "  'city': 'Душанбе',\n",
       "  'year': 2020,\n",
       "  'age': 49},\n",
       " {'job': 'Инженер',\n",
       "  'salary': 132598,\n",
       "  'id': 9460738,\n",
       "  'city': 'Осера',\n",
       "  'year': 2021,\n",
       "  'age': 49},\n",
       " {'job': 'Повар',\n",
       "  'salary': 67667,\n",
       "  'id': 8333764,\n",
       "  'city': 'Минск',\n",
       "  'year': 2003,\n",
       "  'age': 32}]"
      ]
     },
     "execution_count": 61,
     "metadata": {},
     "output_type": "execute_result"
    }
   ],
   "source": [
    "with open('task_1_item.msgpack', 'rb') as file:\n",
    "        msgpack_data = msgpack.unpack(file)\n",
    "msgpack_data[0:3]        "
   ]
  },
  {
   "cell_type": "code",
   "execution_count": 62,
   "id": "2b230bdc",
   "metadata": {},
   "outputs": [],
   "source": [
    "def read_data_from_file(file_path):\n",
    "    with open(file_path, 'rb') as file:\n",
    "        data = msgpack.unpack(file)\n",
    "    return data"
   ]
  },
  {
   "cell_type": "code",
   "execution_count": 63,
   "id": "cdbb0127",
   "metadata": {},
   "outputs": [],
   "source": [
    "def write_data_to_mongodb(data, host, port, db_name, collection_name):\n",
    "    client = MongoClient(host, port)\n",
    "    db = client[db_name]\n",
    "    collection = db[collection_name]\n",
    "    collection.insert_many(data)\n",
    "    client.close()"
   ]
  },
  {
   "cell_type": "code",
   "execution_count": 64,
   "id": "6326899b",
   "metadata": {},
   "outputs": [],
   "source": [
    "def get_top_10_records_sorted_by_salary(collection):\n",
    "    result = collection.find().sort('salary', -1).limit(10)\n",
    "    return list(result)"
   ]
  },
  {
   "cell_type": "code",
   "execution_count": 65,
   "id": "971a8fa8",
   "metadata": {},
   "outputs": [],
   "source": [
    "def get_top_15_records_filtered_by_age(collection):\n",
    "    result = collection.find({'age': {'$lt': 30}}).sort('salary', -1).limit(15)\n",
    "    return list(result)"
   ]
  },
  {
   "cell_type": "code",
   "execution_count": 66,
   "id": "5d8da89a",
   "metadata": {},
   "outputs": [],
   "source": [
    "def get_top_10_records_filtered_by_city_and_jobs(collection, city, jobs):\n",
    "    result = collection.find({'city': city, 'job': {'$in': jobs}}).sort('age', 1).limit(10)\n",
    "    return list(result)"
   ]
  },
  {
   "cell_type": "code",
   "execution_count": 67,
   "id": "256acca4",
   "metadata": {},
   "outputs": [],
   "source": [
    "def get_records_count_filtered_by_conditions(collection, age_range, year_range, salary_range):\n",
    "    result = collection.count_documents({\n",
    "        '$and': [\n",
    "            {'age': {'$gt': age_range[0], '$lt': age_range[1]}},\n",
    "            {'year': {'$gte': year_range[0], '$lte': year_range[1]}},\n",
    "            {'$or': [\n",
    "                {'salary': {'$gt': salary_range[0], '$lte': salary_range[1]}},\n",
    "                {'salary': {'$gt': salary_range[2], '$lt': salary_range[3]}}\n",
    "            ]}\n",
    "        ]\n",
    "    })\n",
    "    return result"
   ]
  },
  {
   "cell_type": "code",
   "execution_count": 85,
   "id": "16e5bc14",
   "metadata": {},
   "outputs": [],
   "source": [
    "def default_json_encoder(obj):\n",
    "    if isinstance(obj, ObjectId):\n",
    "        return str(obj)\n",
    "    raise TypeError(f\"Object of type {obj.__class__.__name__} is not JSON serializable\")"
   ]
  },
  {
   "cell_type": "code",
   "execution_count": 86,
   "id": "918500f2",
   "metadata": {},
   "outputs": [],
   "source": [
    "def write_result_to_json(result, file_path):\n",
    "    with open(file_path, 'w', encoding='utf-8') as file:\n",
    "        json.dump(result, file, indent=4, ensure_ascii=False, default=default_json_encoder)"
   ]
  },
  {
   "cell_type": "code",
   "execution_count": 87,
   "id": "52a96cb9",
   "metadata": {},
   "outputs": [],
   "source": [
    "# Параметры\n",
    "file_path = 'task_1_item.msgpack'\n",
    "host = 'localhost'\n",
    "port = 27017\n",
    "db_name = 'mydatabase'\n",
    "collection_name = 'mycollection'\n",
    "city = 'Москва'\n",
    "jobs = ['Повар', 'Инженер', 'Учитель']\n",
    "age_range = (30, 50)\n",
    "year_range = (2019, 2022)\n",
    "salary_range = (50000, 75000, 125000, 150000)"
   ]
  },
  {
   "cell_type": "code",
   "execution_count": 88,
   "id": "c4471b71",
   "metadata": {},
   "outputs": [],
   "source": [
    "# Чтение данных из файла\n",
    "data = read_data_from_file(file_path)"
   ]
  },
  {
   "cell_type": "code",
   "execution_count": 89,
   "id": "f80b99b4",
   "metadata": {},
   "outputs": [],
   "source": [
    "# Запись данных в MongoDB\n",
    "write_data_to_mongodb(data, host, port, db_name, collection_name)"
   ]
  },
  {
   "cell_type": "code",
   "execution_count": 90,
   "id": "94440e1f",
   "metadata": {},
   "outputs": [],
   "source": [
    "# Подключение к MongoDB и получение коллекции\n",
    "client = MongoClient(host, port)\n",
    "db = client[db_name]\n",
    "collection = db[collection_name]"
   ]
  },
  {
   "cell_type": "code",
   "execution_count": 91,
   "id": "1af0de7d",
   "metadata": {},
   "outputs": [],
   "source": [
    "# Вывод первых 10 записей, отсортированных по убыванию по полю salary\n",
    "result1 = get_top_10_records_sorted_by_salary(collection)\n",
    "write_result_to_json(result1, 'result1_1.json')"
   ]
  },
  {
   "cell_type": "code",
   "execution_count": 92,
   "id": "179f612c",
   "metadata": {},
   "outputs": [],
   "source": [
    "# Вывод первых 15 записей, отфильтрованных по предикату age < 30, отсортировать по убыванию по полю salary\n",
    "result2 = get_top_15_records_filtered_by_age(collection)\n",
    "write_result_to_json(result2, 'result2_1.json')"
   ]
  },
  {
   "cell_type": "code",
   "execution_count": 93,
   "id": "d6383c2f",
   "metadata": {},
   "outputs": [],
   "source": [
    "# Вывод первых 10 записей, отфильтрованных по сложному предикату\n",
    "result3 = get_top_10_records_filtered_by_city_and_jobs(collection, city, jobs)\n",
    "write_result_to_json(result3, 'result3_1.json')"
   ]
  },
  {
   "cell_type": "code",
   "execution_count": 94,
   "id": "5946d8c3",
   "metadata": {},
   "outputs": [],
   "source": [
    "# Вывод количества записей, получаемых в результате следующей фильтрации\n",
    "result4 = get_records_count_filtered_by_conditions(collection, age_range, year_range, salary_range)\n",
    "write_result_to_json(result4, 'result4_1.json')"
   ]
  },
  {
   "cell_type": "code",
   "execution_count": 95,
   "id": "cffebcae",
   "metadata": {},
   "outputs": [],
   "source": [
    "# Закрытие соединения с MongoDB\n",
    "client.close()"
   ]
  }
 ],
 "metadata": {
  "kernelspec": {
   "display_name": "Python 3 (ipykernel)",
   "language": "python",
   "name": "python3"
  },
  "language_info": {
   "codemirror_mode": {
    "name": "ipython",
    "version": 3
   },
   "file_extension": ".py",
   "mimetype": "text/x-python",
   "name": "python",
   "nbconvert_exporter": "python",
   "pygments_lexer": "ipython3",
   "version": "3.9.7"
  }
 },
 "nbformat": 4,
 "nbformat_minor": 5
}
