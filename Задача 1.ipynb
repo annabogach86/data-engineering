{
 "cells": [
  {
   "cell_type": "code",
   "execution_count": null,
   "id": "35131bd5",
   "metadata": {},
   "outputs": [],
   "source": [
    "# Дан файл с некоторыми данными. Формат файла – произвольный. \n",
    "# Спроектируйте на его основе и создайте таблицу в базе данных (SQLite). \n",
    "# Считайте данные из файла и запишите их в созданную таблицу. \n",
    "# Реализуйте и выполните следующие запросы:\n",
    "#    вывод первых (VAR+10) отсортированных по произвольному числовому полю строк из таблицы в файл формата json;\n",
    "#    вывод (сумму, мин, макс, среднее) по произвольному числовому полю;\n",
    "#    вывод частоты встречаемости для категориального поля;\n",
    "#    вывод первых (VAR+10) отфильтрованных по произвольному предикату отсортированных по произвольному числовому полю строк \n",
    "#    из таблицы в файл формате json."
   ]
  },
  {
   "cell_type": "code",
   "execution_count": 1,
   "id": "c9d19817",
   "metadata": {},
   "outputs": [],
   "source": [
    "import pandas as pd\n",
    "import sqlite3\n",
    "import pickle\n",
    "import json"
   ]
  },
  {
   "cell_type": "code",
   "execution_count": 2,
   "id": "d68d9db8",
   "metadata": {},
   "outputs": [
    {
     "data": {
      "text/plain": [
       "[{'id': 829265,\n",
       "  'name': 'Тенета 54',\n",
       "  'street': 'Петербургская улица 92',\n",
       "  'city': 'Луарка',\n",
       "  'zipcode': 751186,\n",
       "  'floors': 5,\n",
       "  'year': 1730,\n",
       "  'parking': True,\n",
       "  'prob_price': 525577561,\n",
       "  'views': 56406},\n",
       " {'id': 715475,\n",
       "  'name': 'Водопровод 24',\n",
       "  'street': 'Юбилейная улица 62',\n",
       "  'city': 'Афины',\n",
       "  'zipcode': 735823,\n",
       "  'floors': 4,\n",
       "  'year': 1644,\n",
       "  'parking': True,\n",
       "  'prob_price': 996274599,\n",
       "  'views': 36862},\n",
       " {'id': 899425,\n",
       "  'name': 'Музей 86',\n",
       "  'street': 'Вроцлавская улица 92',\n",
       "  'city': 'Картахена',\n",
       "  'zipcode': 109371,\n",
       "  'floors': 2,\n",
       "  'year': 1860,\n",
       "  'parking': True,\n",
       "  'prob_price': 634005149,\n",
       "  'views': 62284}]"
      ]
     },
     "execution_count": 2,
     "metadata": {},
     "output_type": "execute_result"
    }
   ],
   "source": [
    "with open(b'task_1_var_17_item.pkl', 'rb') as f:\n",
    "    data = pickle.load(f)\n",
    "data[0:3]    "
   ]
  },
  {
   "cell_type": "code",
   "execution_count": 3,
   "id": "470a9f9e",
   "metadata": {},
   "outputs": [],
   "source": [
    "# Создание таблицы в базе данных\n",
    "def create_table():\n",
    "    conn = sqlite3.connect('database.db')\n",
    "    conn.text_factory = str\n",
    "    c = conn.cursor()\n",
    "    c.execute('''CREATE TABLE IF NOT EXISTS properties\n",
    "                  (id INT PRIMARY KEY,\n",
    "                  name TEXT,\n",
    "                  street TEXT,\n",
    "                  city TEXT,\n",
    "                  zipcode INT,\n",
    "                  floors INT,\n",
    "                  year INT,\n",
    "                  parking BOOLEAN,\n",
    "                  prob_price INT,\n",
    "                  views INT)''')\n",
    "    conn.commit()\n",
    "    conn.close()"
   ]
  },
  {
   "cell_type": "code",
   "execution_count": 4,
   "id": "e1b3ecf6",
   "metadata": {},
   "outputs": [],
   "source": [
    "# Чтение данных из файла в таблицу\n",
    "def insert_data():\n",
    "    conn = sqlite3.connect('database.db')\n",
    "    c = conn.cursor()\n",
    "    # Чтение данных из файла task_1_var_17_item.pkl\n",
    "    with open('task_1_var_17_item.pkl', 'rb') as file:\n",
    "        data = pickle.load(file)\n",
    "    # Запись данных в таблицу\n",
    "    for item in data:\n",
    "        c.execute(\"INSERT OR IGNORE INTO properties VALUES (:id, :name, :street, :city, :zipcode, :floors, :year, :parking, :prob_price, :views)\",\n",
    "                   {'id': item['id'], \n",
    "                    'name': item['name'], \n",
    "                    'street': item['street'], \n",
    "                    'city': item['city'], \n",
    "                    'zipcode': item['zipcode'], \n",
    "                    'floors': item['floors'], \n",
    "                    'year': item['year'], \n",
    "                    'parking': item['parking'], \n",
    "                    'prob_price': item['prob_price'], \n",
    "                    'views': item['views']})\n",
    "    # Сохранение изменений\n",
    "    conn.commit()\n",
    "    conn.close()    "
   ]
  },
  {
   "cell_type": "code",
   "execution_count": 5,
   "id": "53f51dc3",
   "metadata": {},
   "outputs": [],
   "source": [
    "# Вывод первых 27 отсортированных по числовому полю ['year'] в файл json\n",
    "def sort_by_year():\n",
    "    conn = sqlite3.connect('database.db')\n",
    "    c = conn.cursor()\n",
    "    c.execute(\"SELECT * FROM properties ORDER BY year LIMIT 27\")\n",
    "    result = c.fetchall()\n",
    "    with open('sorted_properties_1.json', 'w', encoding='utf-8') as file:\n",
    "        json.dump(result, file, ensure_ascii=False)\n",
    "\n",
    "    conn.close()"
   ]
  },
  {
   "cell_type": "code",
   "execution_count": 6,
   "id": "c902e6ba",
   "metadata": {},
   "outputs": [],
   "source": [
    "# Вывод суммы, минимума, максимума и среднего значения по полю ['floors']\n",
    "def floors_statistics():\n",
    "    conn = sqlite3.connect('database.db')\n",
    "    c = conn.cursor()\n",
    "\n",
    "    c.execute(\"SELECT SUM(floors), MIN(floors), MAX(floors), AVG(floors) FROM properties\")\n",
    "    result = c.fetchone()\n",
    "\n",
    "    conn.close()\n",
    "\n",
    "    return result"
   ]
  },
  {
   "cell_type": "code",
   "execution_count": 7,
   "id": "cd00668b",
   "metadata": {},
   "outputs": [],
   "source": [
    "# Вывод частоты встречаемости для категориального поля ['city']\n",
    "def city_frequency():\n",
    "    conn = sqlite3.connect('database.db')\n",
    "    c = conn.cursor()\n",
    "\n",
    "    c.execute(\"SELECT city, COUNT(*) FROM properties GROUP BY city\")\n",
    "    result = c.fetchall()\n",
    "\n",
    "    conn.close()\n",
    "\n",
    "    return result"
   ]
  },
  {
   "cell_type": "code",
   "execution_count": 8,
   "id": "39906f25",
   "metadata": {},
   "outputs": [],
   "source": [
    "# Вывод первых 27 отфильтрованных по произвольному предикату и отсортированных по числовому полю ['views'] в файл json\n",
    "def filter_and_sort_by_views():\n",
    "    conn = sqlite3.connect('database.db')\n",
    "    c = conn.cursor()\n",
    "\n",
    "    c.execute(\"SELECT * FROM properties WHERE views > 1000 ORDER BY views LIMIT 27\")\n",
    "    result = c.fetchall()\n",
    "\n",
    "    with open('filtered_properties_1.json', 'w', encoding='utf-8') as file:\n",
    "        json.dump(result, file, ensure_ascii=False)\n",
    "\n",
    "    conn.close()"
   ]
  },
  {
   "cell_type": "code",
   "execution_count": 9,
   "id": "3790dac9",
   "metadata": {},
   "outputs": [],
   "source": [
    "# Создание таблицы и запись данных\n",
    "create_table()\n",
    "insert_data()"
   ]
  },
  {
   "cell_type": "code",
   "execution_count": 10,
   "id": "766ebc2e",
   "metadata": {},
   "outputs": [],
   "source": [
    "# Вывод первых 27 отсортированных по числовому полю ['year'] в файл json\n",
    "sort_by_year()"
   ]
  },
  {
   "cell_type": "code",
   "execution_count": 11,
   "id": "ed14e627",
   "metadata": {},
   "outputs": [
    {
     "data": {
      "text/plain": [
       "(381, 1, 10, 5.521739130434782)"
      ]
     },
     "execution_count": 11,
     "metadata": {},
     "output_type": "execute_result"
    }
   ],
   "source": [
    "# Вывод статистики по полю ['floors']\n",
    "floors_stats = floors_statistics()\n",
    "floors_sum, floors_min, floors_max, floors_avg = floors_stats\n",
    "floors_stats"
   ]
  },
  {
   "cell_type": "code",
   "execution_count": 12,
   "id": "5dbd39d5",
   "metadata": {},
   "outputs": [
    {
     "data": {
      "text/plain": [
       "[('Авилес', 2),\n",
       " ('Аликанте', 1),\n",
       " ('Алма-Ата', 2),\n",
       " ('Алькала-де-Энарес', 1),\n",
       " ('Артейхо', 2),\n",
       " ('Афины', 1),\n",
       " ('Баку', 1),\n",
       " ('Барселона', 2),\n",
       " ('Бишкек', 2),\n",
       " ('Бланес', 1),\n",
       " ('Будапешт', 1),\n",
       " ('Бургос', 1),\n",
       " ('Вальядолид', 2),\n",
       " ('Варшава', 2),\n",
       " ('Вильявисиоса', 1),\n",
       " ('Вроцлав', 1),\n",
       " ('Гранада', 2),\n",
       " ('Душанбе', 1),\n",
       " ('Кадакес', 1),\n",
       " ('Картахена', 2),\n",
       " ('Касерес', 2),\n",
       " ('Киев', 1),\n",
       " ('Куэнка', 3),\n",
       " ('Ла-Корунья', 1),\n",
       " ('Луарка', 2),\n",
       " ('Льейда', 1),\n",
       " ('Любляна', 2),\n",
       " ('Мартоса', 2),\n",
       " ('Мерида', 1),\n",
       " ('Мурсия', 1),\n",
       " ('Осера', 2),\n",
       " ('Пласенсия', 1),\n",
       " ('Подгорица', 1),\n",
       " ('Прага', 1),\n",
       " ('Самора', 2),\n",
       " ('Сан-Себастьян', 2),\n",
       " ('Санкт-Петербург', 1),\n",
       " ('Сантьяго-де-Компостела', 1),\n",
       " ('Санхенхо', 1),\n",
       " ('Сеговия', 1),\n",
       " ('Семана', 1),\n",
       " ('Сьюдад-Реаль', 1),\n",
       " ('Тарраса', 2),\n",
       " ('Тбилиси', 1),\n",
       " ('Хельсинки', 3),\n",
       " ('Хихон', 3)]"
      ]
     },
     "execution_count": 12,
     "metadata": {},
     "output_type": "execute_result"
    }
   ],
   "source": [
    "# Вывод частоты встречаемости для категориального поля ['city']\n",
    "city_freq = city_frequency()\n",
    "city_freq"
   ]
  },
  {
   "cell_type": "code",
   "execution_count": 13,
   "id": "26ed76dd",
   "metadata": {},
   "outputs": [],
   "source": [
    "# Вывод первых 27 отфильтрованных по произвольному предикату и отсортированных по числовому полю ['views'] в файл json\n",
    "filter_and_sort_by_views()"
   ]
  },
  {
   "cell_type": "code",
   "execution_count": null,
   "id": "60f2e0d6",
   "metadata": {},
   "outputs": [],
   "source": []
  }
 ],
 "metadata": {
  "kernelspec": {
   "display_name": "Python 3 (ipykernel)",
   "language": "python",
   "name": "python3"
  },
  "language_info": {
   "codemirror_mode": {
    "name": "ipython",
    "version": 3
   },
   "file_extension": ".py",
   "mimetype": "text/x-python",
   "name": "python",
   "nbconvert_exporter": "python",
   "pygments_lexer": "ipython3",
   "version": "3.9.7"
  }
 },
 "nbformat": 4,
 "nbformat_minor": 5
}
