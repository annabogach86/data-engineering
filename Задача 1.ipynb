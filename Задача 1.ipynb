{
 "cells": [
  {
   "cell_type": "code",
   "execution_count": null,
   "id": "2e666e1c",
   "metadata": {},
   "outputs": [],
   "source": [
    "# Считайте файл согласно вашему варианту и подсчитайте частоту каждого слова в тексте. \n",
    "# В результирующем файле выведите полученные данные в порядке убывания:\n",
    "\n",
    "# word1:freq1\n",
    "# word2:freq2\n",
    "# word3:freq3\n",
    "# -----------\n",
    "# wordN:freqN"
   ]
  },
  {
   "cell_type": "code",
   "execution_count": 5,
   "id": "93cb380f",
   "metadata": {},
   "outputs": [
    {
     "name": "stdout",
     "output_type": "stream",
     "text": [
      "{'kytkWJBIBVAo': 134, 'LPQjCwSVe': 130, 'sSasUMyQpX': 129, 'UsmafIVvNUrq': 125, 'aooPAAmwvPy': 124, 'VnZs': 123, 'QzSyFatiW': 121, 'lmszdIAQtH': 120, 'xnUjJxAjU': 120, 'kKVgPPPU': 120, 'YUiBUAgcDC': 119, 'jCyD': 118, 'baK': 114, 'wYfSm': 114, 'gTkUFAu': 114, 'ZTBO': 113, 'CihB': 112, 'vFlcyb': 111, 'nwPYZZtAYjIb': 98, 'wWY': 98}\n"
     ]
    }
   ],
   "source": [
    "filename = \"text_1_var_17\"\n",
    "\n",
    "with open(filename) as f:\n",
    "    # cчитывает из файла все строки в список и возвращает его.\n",
    "    lines = f.readlines()\n",
    "    \n",
    "# создаем словарь\n",
    "d = dict()\n",
    "\n",
    "# итерация по списку\n",
    "for i in lines:\n",
    "    # итерация по строкам \n",
    "    for j in (i.strip()\n",
    "         .replace(\"!\", \" \")\n",
    "         .replace(\"?\", \" \")\n",
    "         .replace(\",\", \" \")\n",
    "         .replace(\".\", \" \")\n",
    "         .strip()).split():\n",
    "        try:\n",
    "            d[j] += 1\n",
    "        except:\n",
    "            d.update({j : 1})\n",
    "\n",
    "d = dict(sorted(d.items(), key=lambda x: x[1], reverse = True))\n",
    "print(d)\n",
    "\n",
    "with open(filename+\"result\", \"w\") as f:\n",
    "    for k in d:\n",
    "        f.write(f\"{k}:{d[k]}\\n\")"
   ]
  }
 ],
 "metadata": {
  "kernelspec": {
   "display_name": "Python 3 (ipykernel)",
   "language": "python",
   "name": "python3"
  },
  "language_info": {
   "codemirror_mode": {
    "name": "ipython",
    "version": 3
   },
   "file_extension": ".py",
   "mimetype": "text/x-python",
   "name": "python",
   "nbconvert_exporter": "python",
   "pygments_lexer": "ipython3",
   "version": "3.9.7"
  }
 },
 "nbformat": 4,
 "nbformat_minor": 5
}
